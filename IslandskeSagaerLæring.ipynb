{
  "nbformat": 4,
  "nbformat_minor": 0,
  "metadata": {
    "colab": {
      "provenance": []
    },
    "kernelspec": {
      "name": "python3",
      "display_name": "Python 3"
    },
    "language_info": {
      "name": "python"
    }
  },
  "cells": [
    {
      "cell_type": "markdown",
      "source": [
        "## Opsætning - Skal ikke ændres"
      ],
      "metadata": {
        "id": "41hn5yfd_fOi"
      }
    },
    {
      "cell_type": "code",
      "source": [
        "from pickle import load\n",
        "from keras.models import load_model\n",
        "from keras.utils import pad_sequences\n",
        "import matplotlib.pyplot as plt"
      ],
      "metadata": {
        "id": "SnS5hEoA3NNz"
      },
      "execution_count": null,
      "outputs": []
    },
    {
      "cell_type": "code",
      "source": [
        "# Clone the entire repo.\n",
        "!git clone -l -s git://github.com/CCTD-CS/ModelFilesForTextGeneration.git cloned-repo\n",
        "# %cd cloned-repo\n",
        "# !ls"
      ],
      "metadata": {
        "colab": {
          "base_uri": "https://localhost:8080/"
        },
        "id": "sZQRgXvY0VM2",
        "outputId": "ce0ee148-49e3-4d7d-8e37-dc0a320f0d2d"
      },
      "execution_count": null,
      "outputs": [
        {
          "output_type": "stream",
          "name": "stdout",
          "text": [
            "Cloning into 'cloned-repo'...\n",
            "warning: --local is ignored\n",
            "fatal: unable to connect to github.com:\n",
            "github.com[0: 140.82.113.3]: errno=Connection timed out\n",
            "\n"
          ]
        }
      ]
    },
    {
      "cell_type": "code",
      "source": [
        "# Fetch a single <1MB file using the raw GitHub URL.\n",
        "!curl --remote-name \\\n",
        "     -H 'Accept: application/vnd.github.v3.raw' \\\n",
        "     --location https://github.com/CCTD-CS/ModelFilesForTextGeneration/blob/c3a62be32d30cd275c92a51e6cc838fbab43dfaf/eventyr_100epoch"
      ],
      "metadata": {
        "colab": {
          "base_uri": "https://localhost:8080/"
        },
        "id": "sYntr6hO0VM2",
        "outputId": "f0f5dfae-4f28-46b9-f418-a995fd857641"
      },
      "execution_count": null,
      "outputs": [
        {
          "output_type": "stream",
          "name": "stdout",
          "text": [
            "  % Total    % Received % Xferd  Average Speed   Time    Time     Time  Current\n",
            "                                 Dload  Upload   Total   Spent    Left  Speed\n",
            "100  124k    0  124k    0     0   216k      0 --:--:-- --:--:-- --:--:--  215k\n"
          ]
        }
      ]
    },
    {
      "cell_type": "code",
      "source": [
        "!curl --remote-name \\\n",
        "     -H 'Accept: application/vnd.github.v3.raw' \\\n",
        "     --location https://github.com/CCTD-CS/ModelFilesForTextGeneration/blob/c3a62be32d30cd275c92a51e6cc838fbab43dfaf/eventyr_100epoch.h5"
      ],
      "metadata": {
        "colab": {
          "base_uri": "https://localhost:8080/"
        },
        "id": "VFtLqIO54iNC",
        "outputId": "e1789793-a200-451a-e2a9-4c71571e91af"
      },
      "execution_count": null,
      "outputs": [
        {
          "output_type": "stream",
          "name": "stdout",
          "text": [
            "  % Total    % Received % Xferd  Average Speed   Time    Time     Time  Current\n",
            "                                 Dload  Upload   Total   Spent    Left  Speed\n",
            "100  125k    0  125k    0     0   251k      0 --:--:-- --:--:-- --:--:--  251k\n"
          ]
        }
      ]
    },
    {
      "cell_type": "code",
      "source": [
        "from google.colab import drive\n",
        "drive.mount('/gdrive')\n",
        "%cd /gdrive"
      ],
      "metadata": {
        "colab": {
          "base_uri": "https://localhost:8080/",
          "height": 374
        },
        "id": "-Hie5zkY5vEL",
        "outputId": "d618f3e9-e1da-48a1-e057-0899e6900d02"
      },
      "execution_count": null,
      "outputs": [
        {
          "output_type": "error",
          "ename": "MessageError",
          "evalue": "ignored",
          "traceback": [
            "\u001b[0;31m---------------------------------------------------------------------------\u001b[0m",
            "\u001b[0;31mMessageError\u001b[0m                              Traceback (most recent call last)",
            "\u001b[0;32m<ipython-input-88-6bcb8909ac2b>\u001b[0m in \u001b[0;36m<cell line: 2>\u001b[0;34m()\u001b[0m\n\u001b[1;32m      1\u001b[0m \u001b[0;32mfrom\u001b[0m \u001b[0mgoogle\u001b[0m\u001b[0;34m.\u001b[0m\u001b[0mcolab\u001b[0m \u001b[0;32mimport\u001b[0m \u001b[0mdrive\u001b[0m\u001b[0;34m\u001b[0m\u001b[0;34m\u001b[0m\u001b[0m\n\u001b[0;32m----> 2\u001b[0;31m \u001b[0mdrive\u001b[0m\u001b[0;34m.\u001b[0m\u001b[0mmount\u001b[0m\u001b[0;34m(\u001b[0m\u001b[0;34m'/gdrive'\u001b[0m\u001b[0;34m)\u001b[0m\u001b[0;34m\u001b[0m\u001b[0;34m\u001b[0m\u001b[0m\n\u001b[0m\u001b[1;32m      3\u001b[0m \u001b[0mget_ipython\u001b[0m\u001b[0;34m(\u001b[0m\u001b[0;34m)\u001b[0m\u001b[0;34m.\u001b[0m\u001b[0mrun_line_magic\u001b[0m\u001b[0;34m(\u001b[0m\u001b[0;34m'cd'\u001b[0m\u001b[0;34m,\u001b[0m \u001b[0;34m'/gdrive'\u001b[0m\u001b[0;34m)\u001b[0m\u001b[0;34m\u001b[0m\u001b[0;34m\u001b[0m\u001b[0m\n",
            "\u001b[0;32m/usr/local/lib/python3.10/dist-packages/google/colab/drive.py\u001b[0m in \u001b[0;36mmount\u001b[0;34m(mountpoint, force_remount, timeout_ms, readonly)\u001b[0m\n\u001b[1;32m    101\u001b[0m \u001b[0;32mdef\u001b[0m \u001b[0mmount\u001b[0m\u001b[0;34m(\u001b[0m\u001b[0mmountpoint\u001b[0m\u001b[0;34m,\u001b[0m \u001b[0mforce_remount\u001b[0m\u001b[0;34m=\u001b[0m\u001b[0;32mFalse\u001b[0m\u001b[0;34m,\u001b[0m \u001b[0mtimeout_ms\u001b[0m\u001b[0;34m=\u001b[0m\u001b[0;36m120000\u001b[0m\u001b[0;34m,\u001b[0m \u001b[0mreadonly\u001b[0m\u001b[0;34m=\u001b[0m\u001b[0;32mFalse\u001b[0m\u001b[0;34m)\u001b[0m\u001b[0;34m:\u001b[0m\u001b[0;34m\u001b[0m\u001b[0;34m\u001b[0m\u001b[0m\n\u001b[1;32m    102\u001b[0m   \u001b[0;34m\"\"\"Mount your Google Drive at the specified mountpoint path.\"\"\"\u001b[0m\u001b[0;34m\u001b[0m\u001b[0;34m\u001b[0m\u001b[0m\n\u001b[0;32m--> 103\u001b[0;31m   return _mount(\n\u001b[0m\u001b[1;32m    104\u001b[0m       \u001b[0mmountpoint\u001b[0m\u001b[0;34m,\u001b[0m\u001b[0;34m\u001b[0m\u001b[0;34m\u001b[0m\u001b[0m\n\u001b[1;32m    105\u001b[0m       \u001b[0mforce_remount\u001b[0m\u001b[0;34m=\u001b[0m\u001b[0mforce_remount\u001b[0m\u001b[0;34m,\u001b[0m\u001b[0;34m\u001b[0m\u001b[0;34m\u001b[0m\u001b[0m\n",
            "\u001b[0;32m/usr/local/lib/python3.10/dist-packages/google/colab/drive.py\u001b[0m in \u001b[0;36m_mount\u001b[0;34m(mountpoint, force_remount, timeout_ms, ephemeral, readonly)\u001b[0m\n\u001b[1;32m    130\u001b[0m   )\n\u001b[1;32m    131\u001b[0m   \u001b[0;32mif\u001b[0m \u001b[0mephemeral\u001b[0m\u001b[0;34m:\u001b[0m\u001b[0;34m\u001b[0m\u001b[0;34m\u001b[0m\u001b[0m\n\u001b[0;32m--> 132\u001b[0;31m     _message.blocking_request(\n\u001b[0m\u001b[1;32m    133\u001b[0m         \u001b[0;34m'request_auth'\u001b[0m\u001b[0;34m,\u001b[0m \u001b[0mrequest\u001b[0m\u001b[0;34m=\u001b[0m\u001b[0;34m{\u001b[0m\u001b[0;34m'authType'\u001b[0m\u001b[0;34m:\u001b[0m \u001b[0;34m'dfs_ephemeral'\u001b[0m\u001b[0;34m}\u001b[0m\u001b[0;34m,\u001b[0m \u001b[0mtimeout_sec\u001b[0m\u001b[0;34m=\u001b[0m\u001b[0;32mNone\u001b[0m\u001b[0;34m\u001b[0m\u001b[0;34m\u001b[0m\u001b[0m\n\u001b[1;32m    134\u001b[0m     )\n",
            "\u001b[0;32m/usr/local/lib/python3.10/dist-packages/google/colab/_message.py\u001b[0m in \u001b[0;36mblocking_request\u001b[0;34m(request_type, request, timeout_sec, parent)\u001b[0m\n\u001b[1;32m    174\u001b[0m       \u001b[0mrequest_type\u001b[0m\u001b[0;34m,\u001b[0m \u001b[0mrequest\u001b[0m\u001b[0;34m,\u001b[0m \u001b[0mparent\u001b[0m\u001b[0;34m=\u001b[0m\u001b[0mparent\u001b[0m\u001b[0;34m,\u001b[0m \u001b[0mexpect_reply\u001b[0m\u001b[0;34m=\u001b[0m\u001b[0;32mTrue\u001b[0m\u001b[0;34m\u001b[0m\u001b[0;34m\u001b[0m\u001b[0m\n\u001b[1;32m    175\u001b[0m   )\n\u001b[0;32m--> 176\u001b[0;31m   \u001b[0;32mreturn\u001b[0m \u001b[0mread_reply_from_input\u001b[0m\u001b[0;34m(\u001b[0m\u001b[0mrequest_id\u001b[0m\u001b[0;34m,\u001b[0m \u001b[0mtimeout_sec\u001b[0m\u001b[0;34m)\u001b[0m\u001b[0;34m\u001b[0m\u001b[0;34m\u001b[0m\u001b[0m\n\u001b[0m",
            "\u001b[0;32m/usr/local/lib/python3.10/dist-packages/google/colab/_message.py\u001b[0m in \u001b[0;36mread_reply_from_input\u001b[0;34m(message_id, timeout_sec)\u001b[0m\n\u001b[1;32m    101\u001b[0m     ):\n\u001b[1;32m    102\u001b[0m       \u001b[0;32mif\u001b[0m \u001b[0;34m'error'\u001b[0m \u001b[0;32min\u001b[0m \u001b[0mreply\u001b[0m\u001b[0;34m:\u001b[0m\u001b[0;34m\u001b[0m\u001b[0;34m\u001b[0m\u001b[0m\n\u001b[0;32m--> 103\u001b[0;31m         \u001b[0;32mraise\u001b[0m \u001b[0mMessageError\u001b[0m\u001b[0;34m(\u001b[0m\u001b[0mreply\u001b[0m\u001b[0;34m[\u001b[0m\u001b[0;34m'error'\u001b[0m\u001b[0;34m]\u001b[0m\u001b[0;34m)\u001b[0m\u001b[0;34m\u001b[0m\u001b[0;34m\u001b[0m\u001b[0m\n\u001b[0m\u001b[1;32m    104\u001b[0m       \u001b[0;32mreturn\u001b[0m \u001b[0mreply\u001b[0m\u001b[0;34m.\u001b[0m\u001b[0mget\u001b[0m\u001b[0;34m(\u001b[0m\u001b[0;34m'data'\u001b[0m\u001b[0;34m,\u001b[0m \u001b[0;32mNone\u001b[0m\u001b[0;34m)\u001b[0m\u001b[0;34m\u001b[0m\u001b[0;34m\u001b[0m\u001b[0m\n\u001b[1;32m    105\u001b[0m \u001b[0;34m\u001b[0m\u001b[0m\n",
            "\u001b[0;31mMessageError\u001b[0m: Error: credential propagation was unsuccessful"
          ]
        }
      ]
    },
    {
      "cell_type": "code",
      "source": [
        "import pydrive"
      ],
      "metadata": {
        "id": "c0yR3grv7-2q"
      },
      "execution_count": null,
      "outputs": []
    },
    {
      "cell_type": "code",
      "source": [
        "# Import PyDrive and associated libraries.\n",
        "# This only needs to be done once per notebook.\n",
        "from pydrive.auth import GoogleAuth\n",
        "from pydrive.drive import GoogleDrive\n",
        "from google.colab import auth\n",
        "from oauth2client.client import GoogleCredentials\n",
        "\n",
        "# Authenticate and create the PyDrive client.\n",
        "# This only needs to be done once per notebook.\n",
        "auth.authenticate_user()\n",
        "gauth = GoogleAuth()\n",
        "gauth.credentials = GoogleCredentials.get_application_default()\n",
        "drive = GoogleDrive(gauth)\n",
        "\n",
        "# Download a file based on its file ID.\n",
        "#\n",
        "# A file ID looks like: laggVyWshwcyP6kEI-y_W3P8D26sz\n",
        "# file_id = '16DjkbJZfdvjtrHWbc2cme_2RHUOgrq5U'\n",
        "file_id = '1BtkwQk7L1r4Fj_WRtKZ97rpa7YHsXw5-'\n",
        "downloaded = drive.CreateFile({'id': file_id})\n",
        "print('Downloaded content \"{}\"'.format(downloaded.GetContentString()))"
      ],
      "metadata": {
        "colab": {
          "base_uri": "https://localhost:8080/",
          "height": 350
        },
        "id": "3AemRZbT6Kcx",
        "outputId": "ee94280f-b64d-4971-cdd8-d4c9cb8f3254"
      },
      "execution_count": null,
      "outputs": [
        {
          "output_type": "error",
          "ename": "UnicodeDecodeError",
          "evalue": "ignored",
          "traceback": [
            "\u001b[0;31m---------------------------------------------------------------------------\u001b[0m",
            "\u001b[0;31mUnicodeDecodeError\u001b[0m                        Traceback (most recent call last)",
            "\u001b[0;32m<ipython-input-95-72fd50cfaf22>\u001b[0m in \u001b[0;36m<cell line: 21>\u001b[0;34m()\u001b[0m\n\u001b[1;32m     19\u001b[0m \u001b[0mfile_id\u001b[0m \u001b[0;34m=\u001b[0m \u001b[0;34m'1BtkwQk7L1r4Fj_WRtKZ97rpa7YHsXw5-'\u001b[0m\u001b[0;34m\u001b[0m\u001b[0;34m\u001b[0m\u001b[0m\n\u001b[1;32m     20\u001b[0m \u001b[0mdownloaded\u001b[0m \u001b[0;34m=\u001b[0m \u001b[0mdrive\u001b[0m\u001b[0;34m.\u001b[0m\u001b[0mCreateFile\u001b[0m\u001b[0;34m(\u001b[0m\u001b[0;34m{\u001b[0m\u001b[0;34m'id'\u001b[0m\u001b[0;34m:\u001b[0m \u001b[0mfile_id\u001b[0m\u001b[0;34m}\u001b[0m\u001b[0;34m)\u001b[0m\u001b[0;34m\u001b[0m\u001b[0;34m\u001b[0m\u001b[0m\n\u001b[0;32m---> 21\u001b[0;31m \u001b[0mprint\u001b[0m\u001b[0;34m(\u001b[0m\u001b[0;34m'Downloaded content \"{}\"'\u001b[0m\u001b[0;34m.\u001b[0m\u001b[0mformat\u001b[0m\u001b[0;34m(\u001b[0m\u001b[0mdownloaded\u001b[0m\u001b[0;34m.\u001b[0m\u001b[0mGetContentString\u001b[0m\u001b[0;34m(\u001b[0m\u001b[0;34m)\u001b[0m\u001b[0;34m)\u001b[0m\u001b[0;34m)\u001b[0m\u001b[0;34m\u001b[0m\u001b[0;34m\u001b[0m\u001b[0m\n\u001b[0m",
            "\u001b[0;32m/usr/local/lib/python3.10/dist-packages/pydrive/files.py\u001b[0m in \u001b[0;36mGetContentString\u001b[0;34m(self, mimetype, encoding, remove_bom)\u001b[0m\n\u001b[1;32m    192\u001b[0m                     \u001b[0mself\u001b[0m\u001b[0;34m.\u001b[0m\u001b[0mhas_bom\u001b[0m \u001b[0;34m==\u001b[0m \u001b[0mremove_bom\u001b[0m\u001b[0;34m:\u001b[0m\u001b[0;34m\u001b[0m\u001b[0;34m\u001b[0m\u001b[0m\n\u001b[1;32m    193\u001b[0m       \u001b[0mself\u001b[0m\u001b[0;34m.\u001b[0m\u001b[0mFetchContent\u001b[0m\u001b[0;34m(\u001b[0m\u001b[0mmimetype\u001b[0m\u001b[0;34m,\u001b[0m \u001b[0mremove_bom\u001b[0m\u001b[0;34m)\u001b[0m\u001b[0;34m\u001b[0m\u001b[0;34m\u001b[0m\u001b[0m\n\u001b[0;32m--> 194\u001b[0;31m     \u001b[0;32mreturn\u001b[0m \u001b[0mself\u001b[0m\u001b[0;34m.\u001b[0m\u001b[0mcontent\u001b[0m\u001b[0;34m.\u001b[0m\u001b[0mgetvalue\u001b[0m\u001b[0;34m(\u001b[0m\u001b[0;34m)\u001b[0m\u001b[0;34m.\u001b[0m\u001b[0mdecode\u001b[0m\u001b[0;34m(\u001b[0m\u001b[0mencoding\u001b[0m\u001b[0;34m)\u001b[0m\u001b[0;34m\u001b[0m\u001b[0;34m\u001b[0m\u001b[0m\n\u001b[0m\u001b[1;32m    195\u001b[0m \u001b[0;34m\u001b[0m\u001b[0m\n\u001b[1;32m    196\u001b[0m   \u001b[0;32mdef\u001b[0m \u001b[0mGetContentFile\u001b[0m\u001b[0;34m(\u001b[0m\u001b[0mself\u001b[0m\u001b[0;34m,\u001b[0m \u001b[0mfilename\u001b[0m\u001b[0;34m,\u001b[0m \u001b[0mmimetype\u001b[0m\u001b[0;34m=\u001b[0m\u001b[0;32mNone\u001b[0m\u001b[0;34m,\u001b[0m \u001b[0mremove_bom\u001b[0m\u001b[0;34m=\u001b[0m\u001b[0;32mFalse\u001b[0m\u001b[0;34m)\u001b[0m\u001b[0;34m:\u001b[0m\u001b[0;34m\u001b[0m\u001b[0;34m\u001b[0m\u001b[0m\n",
            "\u001b[0;31mUnicodeDecodeError\u001b[0m: 'utf-8' codec can't decode byte 0x89 in position 0: invalid start byte"
          ]
        }
      ]
    },
    {
      "cell_type": "code",
      "source": [
        "seq_len = 25\n",
        "\n",
        "\n",
        "/content/eventyr_100epoch.h5\n",
        "\n",
        "eventyr100 = load_model('/content/eventyr_100epoch.h5')\n",
        "eventyrtokenizer = load(open('/content/eventyr_100epoch','rb'))\n",
        "\n",
        "model100 = load_model('/content/drive/MyDrive/Colab Notebooks/Modeller/saga_100epoch.h5')\n",
        "tokenizer100 = load(open('/content/drive/MyDrive/Colab Notebooks/Modeller/saga_100epoch','rb'))\n",
        "\n",
        "model200 = load_model('/content/drive/MyDrive/Colab Notebooks/Modeller/saga_200epoch.h5')\n",
        "tokenizer200 = load(open('/content/drive/MyDrive/Colab Notebooks/Modeller/saga_200epoch','rb'))\n",
        "\n",
        "model300 = load_model('/content/drive/MyDrive/Colab Notebooks/Modeller/saga_300epoch.h5')\n",
        "tokenizer300 = load(open('/content/drive/MyDrive/Colab Notebooks/Modeller/saga_300epoch','rb'))\n",
        "\n",
        "model400 = load_model('/content/drive/MyDrive/Colab Notebooks/Modeller/saga_400epoch.h5')\n",
        "tokenizer400 = load(open('/content/drive/MyDrive/Colab Notebooks/Modeller/saga_400epoch','rb'))\n",
        "\n",
        "history_accuracy100 = load(open('/content/drive/MyDrive/Colab Notebooks/Modeller/saga_100epoch_history_accuracy','rb'))\n",
        "history_valaccuracy100 = load(open('/content/drive/MyDrive/Colab Notebooks/Modeller/saga_100epoch_history_valaccuracy','rb'))\n",
        "\n",
        "history_accuracy200 = load(open('/content/drive/MyDrive/Colab Notebooks/Modeller/saga_200epoch_history_accuracy','rb'))\n",
        "history_valaccuracy200 = load(open('/content/drive/MyDrive/Colab Notebooks/Modeller/saga_200epoch_history_valaccuracy','rb'))\n",
        "\n",
        "history_accuracy300 = load(open('/content/drive/MyDrive/Colab Notebooks/Modeller/saga_300epoch_history_accuracy','rb'))\n",
        "history_valaccuracy300 = load(open('/content/drive/MyDrive/Colab Notebooks/Modeller/saga_300epoch_history_valaccuracy','rb'))\n",
        "\n",
        "history_accuracy400 = load(open('/content/drive/MyDrive/Colab Notebooks/Modeller/saga_400epoch_history_accuracy','rb'))\n",
        "history_valaccuracy400 = load(open('/content/drive/MyDrive/Colab Notebooks/Modeller/saga_400epoch_history_valaccuracy','rb'))"
      ],
      "metadata": {
        "id": "REyqSkAf-bjS",
        "colab": {
          "base_uri": "https://localhost:8080/",
          "height": 495
        },
        "outputId": "730089eb-2966-4f29-b684-e014bf220fa5"
      },
      "execution_count": null,
      "outputs": [
        {
          "output_type": "error",
          "ename": "OSError",
          "evalue": "ignored",
          "traceback": [
            "\u001b[0;31m---------------------------------------------------------------------------\u001b[0m",
            "\u001b[0;31mOSError\u001b[0m                                   Traceback (most recent call last)",
            "\u001b[0;32m<ipython-input-4-3eaf43bef201>\u001b[0m in \u001b[0;36m<cell line: 3>\u001b[0;34m()\u001b[0m\n\u001b[1;32m      1\u001b[0m \u001b[0mseq_len\u001b[0m \u001b[0;34m=\u001b[0m \u001b[0;36m25\u001b[0m\u001b[0;34m\u001b[0m\u001b[0;34m\u001b[0m\u001b[0m\n\u001b[1;32m      2\u001b[0m \u001b[0;34m\u001b[0m\u001b[0m\n\u001b[0;32m----> 3\u001b[0;31m \u001b[0meventyr100\u001b[0m \u001b[0;34m=\u001b[0m \u001b[0mload_model\u001b[0m\u001b[0;34m(\u001b[0m\u001b[0;34m'/content/eventyr_100epoch.h5'\u001b[0m\u001b[0;34m)\u001b[0m\u001b[0;34m\u001b[0m\u001b[0;34m\u001b[0m\u001b[0m\n\u001b[0m\u001b[1;32m      4\u001b[0m \u001b[0meventyrtokenizer\u001b[0m \u001b[0;34m=\u001b[0m \u001b[0mload\u001b[0m\u001b[0;34m(\u001b[0m\u001b[0mopen\u001b[0m\u001b[0;34m(\u001b[0m\u001b[0;34m'/content/eventyr_100epoch'\u001b[0m\u001b[0;34m,\u001b[0m\u001b[0;34m'rb'\u001b[0m\u001b[0;34m)\u001b[0m\u001b[0;34m)\u001b[0m\u001b[0;34m\u001b[0m\u001b[0;34m\u001b[0m\u001b[0m\n\u001b[1;32m      5\u001b[0m \u001b[0;34m\u001b[0m\u001b[0m\n",
            "\u001b[0;32m/usr/local/lib/python3.10/dist-packages/keras/src/saving/saving_api.py\u001b[0m in \u001b[0;36mload_model\u001b[0;34m(filepath, custom_objects, compile, safe_mode, **kwargs)\u001b[0m\n\u001b[1;32m    260\u001b[0m \u001b[0;34m\u001b[0m\u001b[0m\n\u001b[1;32m    261\u001b[0m     \u001b[0;31m# Legacy case.\u001b[0m\u001b[0;34m\u001b[0m\u001b[0;34m\u001b[0m\u001b[0m\n\u001b[0;32m--> 262\u001b[0;31m     return legacy_sm_saving_lib.load_model(\n\u001b[0m\u001b[1;32m    263\u001b[0m         \u001b[0mfilepath\u001b[0m\u001b[0;34m,\u001b[0m \u001b[0mcustom_objects\u001b[0m\u001b[0;34m=\u001b[0m\u001b[0mcustom_objects\u001b[0m\u001b[0;34m,\u001b[0m \u001b[0mcompile\u001b[0m\u001b[0;34m=\u001b[0m\u001b[0mcompile\u001b[0m\u001b[0;34m,\u001b[0m \u001b[0;34m**\u001b[0m\u001b[0mkwargs\u001b[0m\u001b[0;34m\u001b[0m\u001b[0;34m\u001b[0m\u001b[0m\n\u001b[1;32m    264\u001b[0m     )\n",
            "\u001b[0;32m/usr/local/lib/python3.10/dist-packages/keras/src/utils/traceback_utils.py\u001b[0m in \u001b[0;36merror_handler\u001b[0;34m(*args, **kwargs)\u001b[0m\n\u001b[1;32m     68\u001b[0m             \u001b[0;31m# To get the full stack trace, call:\u001b[0m\u001b[0;34m\u001b[0m\u001b[0;34m\u001b[0m\u001b[0m\n\u001b[1;32m     69\u001b[0m             \u001b[0;31m# `tf.debugging.disable_traceback_filtering()`\u001b[0m\u001b[0;34m\u001b[0m\u001b[0;34m\u001b[0m\u001b[0m\n\u001b[0;32m---> 70\u001b[0;31m             \u001b[0;32mraise\u001b[0m \u001b[0me\u001b[0m\u001b[0;34m.\u001b[0m\u001b[0mwith_traceback\u001b[0m\u001b[0;34m(\u001b[0m\u001b[0mfiltered_tb\u001b[0m\u001b[0;34m)\u001b[0m \u001b[0;32mfrom\u001b[0m \u001b[0;32mNone\u001b[0m\u001b[0;34m\u001b[0m\u001b[0;34m\u001b[0m\u001b[0m\n\u001b[0m\u001b[1;32m     71\u001b[0m         \u001b[0;32mfinally\u001b[0m\u001b[0;34m:\u001b[0m\u001b[0;34m\u001b[0m\u001b[0;34m\u001b[0m\u001b[0m\n\u001b[1;32m     72\u001b[0m             \u001b[0;32mdel\u001b[0m \u001b[0mfiltered_tb\u001b[0m\u001b[0;34m\u001b[0m\u001b[0;34m\u001b[0m\u001b[0m\n",
            "\u001b[0;32m/usr/local/lib/python3.10/dist-packages/h5py/_hl/files.py\u001b[0m in \u001b[0;36m__init__\u001b[0;34m(self, name, mode, driver, libver, userblock_size, swmr, rdcc_nslots, rdcc_nbytes, rdcc_w0, track_order, fs_strategy, fs_persist, fs_threshold, fs_page_size, page_buf_size, min_meta_keep, min_raw_keep, locking, alignment_threshold, alignment_interval, meta_block_size, **kwds)\u001b[0m\n\u001b[1;32m    565\u001b[0m                                  \u001b[0mfs_persist\u001b[0m\u001b[0;34m=\u001b[0m\u001b[0mfs_persist\u001b[0m\u001b[0;34m,\u001b[0m \u001b[0mfs_threshold\u001b[0m\u001b[0;34m=\u001b[0m\u001b[0mfs_threshold\u001b[0m\u001b[0;34m,\u001b[0m\u001b[0;34m\u001b[0m\u001b[0;34m\u001b[0m\u001b[0m\n\u001b[1;32m    566\u001b[0m                                  fs_page_size=fs_page_size)\n\u001b[0;32m--> 567\u001b[0;31m                 \u001b[0mfid\u001b[0m \u001b[0;34m=\u001b[0m \u001b[0mmake_fid\u001b[0m\u001b[0;34m(\u001b[0m\u001b[0mname\u001b[0m\u001b[0;34m,\u001b[0m \u001b[0mmode\u001b[0m\u001b[0;34m,\u001b[0m \u001b[0muserblock_size\u001b[0m\u001b[0;34m,\u001b[0m \u001b[0mfapl\u001b[0m\u001b[0;34m,\u001b[0m \u001b[0mfcpl\u001b[0m\u001b[0;34m,\u001b[0m \u001b[0mswmr\u001b[0m\u001b[0;34m=\u001b[0m\u001b[0mswmr\u001b[0m\u001b[0;34m)\u001b[0m\u001b[0;34m\u001b[0m\u001b[0;34m\u001b[0m\u001b[0m\n\u001b[0m\u001b[1;32m    568\u001b[0m \u001b[0;34m\u001b[0m\u001b[0m\n\u001b[1;32m    569\u001b[0m             \u001b[0;32mif\u001b[0m \u001b[0misinstance\u001b[0m\u001b[0;34m(\u001b[0m\u001b[0mlibver\u001b[0m\u001b[0;34m,\u001b[0m \u001b[0mtuple\u001b[0m\u001b[0;34m)\u001b[0m\u001b[0;34m:\u001b[0m\u001b[0;34m\u001b[0m\u001b[0;34m\u001b[0m\u001b[0m\n",
            "\u001b[0;32m/usr/local/lib/python3.10/dist-packages/h5py/_hl/files.py\u001b[0m in \u001b[0;36mmake_fid\u001b[0;34m(name, mode, userblock_size, fapl, fcpl, swmr)\u001b[0m\n\u001b[1;32m    229\u001b[0m         \u001b[0;32mif\u001b[0m \u001b[0mswmr\u001b[0m \u001b[0;32mand\u001b[0m \u001b[0mswmr_support\u001b[0m\u001b[0;34m:\u001b[0m\u001b[0;34m\u001b[0m\u001b[0;34m\u001b[0m\u001b[0m\n\u001b[1;32m    230\u001b[0m             \u001b[0mflags\u001b[0m \u001b[0;34m|=\u001b[0m \u001b[0mh5f\u001b[0m\u001b[0;34m.\u001b[0m\u001b[0mACC_SWMR_READ\u001b[0m\u001b[0;34m\u001b[0m\u001b[0;34m\u001b[0m\u001b[0m\n\u001b[0;32m--> 231\u001b[0;31m         \u001b[0mfid\u001b[0m \u001b[0;34m=\u001b[0m \u001b[0mh5f\u001b[0m\u001b[0;34m.\u001b[0m\u001b[0mopen\u001b[0m\u001b[0;34m(\u001b[0m\u001b[0mname\u001b[0m\u001b[0;34m,\u001b[0m \u001b[0mflags\u001b[0m\u001b[0;34m,\u001b[0m \u001b[0mfapl\u001b[0m\u001b[0;34m=\u001b[0m\u001b[0mfapl\u001b[0m\u001b[0;34m)\u001b[0m\u001b[0;34m\u001b[0m\u001b[0;34m\u001b[0m\u001b[0m\n\u001b[0m\u001b[1;32m    232\u001b[0m     \u001b[0;32melif\u001b[0m \u001b[0mmode\u001b[0m \u001b[0;34m==\u001b[0m \u001b[0;34m'r+'\u001b[0m\u001b[0;34m:\u001b[0m\u001b[0;34m\u001b[0m\u001b[0;34m\u001b[0m\u001b[0m\n\u001b[1;32m    233\u001b[0m         \u001b[0mfid\u001b[0m \u001b[0;34m=\u001b[0m \u001b[0mh5f\u001b[0m\u001b[0;34m.\u001b[0m\u001b[0mopen\u001b[0m\u001b[0;34m(\u001b[0m\u001b[0mname\u001b[0m\u001b[0;34m,\u001b[0m \u001b[0mh5f\u001b[0m\u001b[0;34m.\u001b[0m\u001b[0mACC_RDWR\u001b[0m\u001b[0;34m,\u001b[0m \u001b[0mfapl\u001b[0m\u001b[0;34m=\u001b[0m\u001b[0mfapl\u001b[0m\u001b[0;34m)\u001b[0m\u001b[0;34m\u001b[0m\u001b[0;34m\u001b[0m\u001b[0m\n",
            "\u001b[0;32mh5py/_objects.pyx\u001b[0m in \u001b[0;36mh5py._objects.with_phil.wrapper\u001b[0;34m()\u001b[0m\n",
            "\u001b[0;32mh5py/_objects.pyx\u001b[0m in \u001b[0;36mh5py._objects.with_phil.wrapper\u001b[0;34m()\u001b[0m\n",
            "\u001b[0;32mh5py/h5f.pyx\u001b[0m in \u001b[0;36mh5py.h5f.open\u001b[0;34m()\u001b[0m\n",
            "\u001b[0;31mOSError\u001b[0m: Unable to open file (file signature not found)"
          ]
        }
      ]
    },
    {
      "cell_type": "code",
      "source": [
        "def generate_text(epochs, seed_text, num_gen_words):\n",
        "    '''\n",
        "    INPUTS:\n",
        "    epochs : Antal epochs\n",
        "    seed_text : Tekst der skal fungere som starten\n",
        "    num_gen_words : Antal ord der skal genereres\n",
        "    '''\n",
        "    match epochs:\n",
        "      case 100:\n",
        "        model = model100\n",
        "        tokenizer = tokenizer100\n",
        "      case 200:\n",
        "        model = model200\n",
        "        tokenizer = tokenizer200\n",
        "      case 300:\n",
        "        model = model300\n",
        "        tokenizer = tokenizer300\n",
        "      case 400:\n",
        "        model = model400\n",
        "        tokenizer = tokenizer400\n",
        "      case _:\n",
        "        return\n",
        "\n",
        "    # Endelige output\n",
        "    output_text = []\n",
        "\n",
        "    # Oprindelige starttekst\n",
        "    input_text = seed_text\n",
        "\n",
        "    # Generer antallet af ord\n",
        "    for i in range(num_gen_words):\n",
        "\n",
        "        # Tag inputteksten og lav den til en sekvens\n",
        "        encoded_text = tokenizer.texts_to_sequences([input_text])[0]\n",
        "\n",
        "        # Lav starteksten om til samme længde som for den trænede model.\n",
        "        # Pre betyder, at den fjerner fra starten af sætningen, hvis det er nødvendigt.\n",
        "        pad_encoded = pad_sequences([encoded_text], maxlen=seq_len, truncating='pre')\n",
        "\n",
        "        # Forudsig sandsynligheden for hvert ord.\n",
        "        predict = model.predict(pad_encoded, verbose=0)[0]\n",
        "\n",
        "        # Få indexet til ordet med den største sandsynlighed.\n",
        "        pred_word_ind = predict.argmax()\n",
        "\n",
        "        # Få ordet\n",
        "        pred_word = tokenizer.index_word[pred_word_ind]\n",
        "\n",
        "        # Opdater inputteksten, så det nye ord bruges til at forudsige det næste ord.\n",
        "        input_text += ' ' + pred_word\n",
        "\n",
        "        # Tilføj det nye ord til outputteksten.\n",
        "        output_text.append(pred_word)\n",
        "\n",
        "    # Formatterer det, så det ligner en sætning\n",
        "    return ' '.join(output_text)"
      ],
      "metadata": {
        "id": "kAAcSs2d3X0f"
      },
      "execution_count": null,
      "outputs": []
    },
    {
      "cell_type": "code",
      "source": [
        "def plotAccuracy(epochs):\n",
        "  match epochs:\n",
        "    case 100:\n",
        "      accuracy = history_accuracy100\n",
        "      valaccuracy = history_valaccuracy100\n",
        "    case 200:\n",
        "      accuracy = history_accuracy200\n",
        "      valaccuracy = history_valaccuracy200\n",
        "    case 300:\n",
        "      accuracy = history_accuracy300\n",
        "      valaccuracy = history_valaccuracy300\n",
        "    case 400:\n",
        "      accuracy = history_accuracy400\n",
        "      valaccuracy = history_valaccuracy400\n",
        "    case _:\n",
        "      return\n",
        "\n",
        "  plt.plot(accuracy)\n",
        "  plt.plot(valaccuracy)\n",
        "  plt.title('Modellens nøjagtighed')\n",
        "  plt.ylabel('Nøjagtighed')\n",
        "  plt.xlabel('Epoch')\n",
        "  plt.legend(['træning', 'test'], loc='upper left')\n",
        "  plt.show()"
      ],
      "metadata": {
        "id": "6dKSMLHICLHS"
      },
      "execution_count": null,
      "outputs": []
    },
    {
      "cell_type": "markdown",
      "source": [
        "# Islandske Sagaer\n",
        "\n",
        "### Introduktion\n",
        "Ud fra fire islandske sagaer, har vi trænet nogle sprogmodeller, så du kan eksperimentere med at lave dine egne sagaer. Vi har brugt de fire islandske sagaer:\n",
        "\n",
        "\n",
        "*   Erik Den Rødes Saga\n",
        "*   Eyrbyggja Saga\n",
        "*   Færingernes Saga\n",
        "*   Grønlændernes Saga\n",
        "\n",
        "Sagaerne kan I se i hver sin fil."
      ],
      "metadata": {
        "id": "46Xgm-bqrdaS"
      }
    },
    {
      "cell_type": "markdown",
      "source": [
        "## Tekstgenerering\n",
        "\n",
        "Ud fra sagaerne har vi trænet tre sprogmodeller i henholdsvis 100, 200 og 300 epochs. Det betyder, at vi har brugt forskellig tid på at træne modellerne. Desto flere epochs en model er trænet over, desto længere tid tager den at træne.\n",
        "\n",
        "\n",
        "### Hvordan trænes modellerne?\n",
        "\n",
        "Sagaerne er blevet delt op i sekvenser med en længde på 26 ord, og i de fire sagaer er der i alt 64.971 sekvenser. Der kan både være punktummer og et nyt afsnit, i det modellen anser som en sekvens. Modellen forsøger at gætte det 26. ord i hver sekvens på baggrund af de 25 ord første ord.\n",
        "\n",
        "Når modellerne trænes, bliver de bedre og bedre til at gætte det 26. ord i hver sekvens. Deres nøjagtighed bliver opgjort ved at se, hvor stor en andel af de 26. ord, som modellen gætter rigtigt."
      ],
      "metadata": {
        "id": "gukUwOGEvc6W"
      }
    },
    {
      "cell_type": "markdown",
      "source": [
        "## 100 epochs - den mest simple model\n",
        "\n",
        "Denne model er trænet i cirka 50 minutter og har en nøjagtighed på cirka 40%\n",
        "\n",
        "I diagrammet nedenfor ses det, hvordan nøjagtigheden stiger, desto længere tid modellen er trænet på. Der er både angivet træning og test.\n",
        "\n",
        "*Træning* er modellens nøjagtighed på det data, som den forsøger at træne sig selv på.\n",
        "\n",
        "*Test* er modellens nøjagtighed, når den testes på nyt data."
      ],
      "metadata": {
        "id": "0rRibS7mwRUY"
      }
    },
    {
      "cell_type": "code",
      "source": [
        "plotAccuracy(epochs=100)"
      ],
      "metadata": {
        "colab": {
          "base_uri": "https://localhost:8080/",
          "height": 472
        },
        "id": "her6_elfzAuO",
        "outputId": "e25849c2-d020-4dec-cc08-69bb360a605b"
      },
      "execution_count": null,
      "outputs": [
        {
          "output_type": "display_data",
          "data": {
            "text/plain": [
              "<Figure size 640x480 with 1 Axes>"
            ],
            "image/png": "[encoded data removed]"
          },
          "metadata": {}
        }
      ]
    },
    {
      "cell_type": "markdown",
      "source": [
        "#### Tekstgenerering med den simple model\n",
        "\n",
        "Til teksgenerering ud fra modellen, skal der foruden den trænede model bruges to ting. Det skal angives hvor mange ord, man gerne vil have genereret, og der skal angives en startsætningen. Startsætnignen skal angives, så modellen har nogle ord, hvorfra den kan forudsige det næste ord.\n",
        "\n",
        "Nedenfor kan både antallet af ord og startsætning ændres, som man har lyst til."
      ],
      "metadata": {
        "id": "wo03oPly6Pkw"
      }
    },
    {
      "cell_type": "code",
      "source": [
        "# @title Tekstgenerering\n",
        "antal_ord = 100 # @param {type:\"number\"}\n",
        "startsætning = 'En hærkonge sejlede fra Danmark til Grønland på en længere rejse for at' # @param {type:\"string\"}\n",
        "\n",
        "generate_text(100, startsætning, antal_ord)"
      ],
      "metadata": {
        "colab": {
          "base_uri": "https://localhost:8080/",
          "height": 105
        },
        "id": "7u_HIg0mvOlt",
        "outputId": "1f013465-40a6-496e-bbf3-65c56f6293a7",
        "cellView": "form"
      },
      "execution_count": null,
      "outputs": [
        {
          "output_type": "execute_result",
          "data": {
            "text/plain": [
              "'faa og tog op og spurgte skjoldene torskebider den den huskarle eller have love at han ikke sparede forsøges « han mordet på ham og sigmund gik nu og sendte grød til holmgang thi han var staaet ud til sit tingsted sig og de havde været i steinvåg hakon havet de svang den var åben ben en herredsting som saarede var en aa af den ældste kappe var en grad paa sønd-hordeland og spurgte at han ikke spare en udvej og væk til at udrede bødesummen sigmund havde sagt at han skulde staa til retten da tog sig begavet fred'"
            ],
            "application/vnd.google.colaboratory.intrinsic+json": {
              "type": "string"
            }
          },
          "metadata": {},
          "execution_count": 32
        }
      ]
    },
    {
      "cell_type": "markdown",
      "source": [
        "#### Spørgsmål\n",
        "\n",
        "\n",
        "\n",
        "*   Hvad sker der, hvis der ændres på længden af teksten?\n",
        "*   Hvad sker der, hvis der ændres på startsætningen?\n",
        "*   Giver de generede tekster mening?\n",
        "*   Hvordan stemmer de generede tekster overens med nutidsdansk og islandske sagaer?\n",
        "*   Hvordan afviger de generede tekster fra nutidsdansk og fra islandske sagaer?\n",
        "\n"
      ],
      "metadata": {
        "id": "AdLqtYkB8RUA"
      }
    },
    {
      "cell_type": "markdown",
      "source": [
        "## 200 epochs\n",
        "\n",
        "Denne model er trænet i lidt over halvanden time og har en nøjagtighed på cirka 57%"
      ],
      "metadata": {
        "id": "MlO2ViH39xrb"
      }
    },
    {
      "cell_type": "code",
      "source": [
        "plotAccuracy(epochs=200)"
      ],
      "metadata": {
        "colab": {
          "base_uri": "https://localhost:8080/",
          "height": 472
        },
        "id": "4zrmrJvj7Yga",
        "outputId": "98d2abd3-c0c9-4447-e1b4-cbf72424c784"
      },
      "execution_count": null,
      "outputs": [
        {
          "output_type": "display_data",
          "data": {
            "text/plain": [
              "<Figure size 640x480 with 1 Axes>"
            ],
            "image/png": "[encoded data removed]"
          },
          "metadata": {}
        }
      ]
    },
    {
      "cell_type": "markdown",
      "source": [
        "#### Tekstgenerering\n",
        "\n",
        "Ligesom med den simple model kan I ændre på antal generede ord og startsætningen."
      ],
      "metadata": {
        "id": "ui7BzlFf-KQZ"
      }
    },
    {
      "cell_type": "code",
      "source": [
        "# @title Tekstgenerering\n",
        "antal_ord = 100 # @param {type:\"number\"}\n",
        "startsætning = 'En hærkonge sejlede fra Danmark til Grønland på en længere rejse for at' # @param {type:\"string\"}\n",
        "\n",
        "generate_text(200, startsætning, antal_ord)"
      ],
      "metadata": {
        "colab": {
          "base_uri": "https://localhost:8080/",
          "height": 105
        },
        "id": "zCBbsEBn-JXQ",
        "outputId": "d9dd6fac-4a9c-48f8-9cf5-a396e944057a",
        "cellView": "form"
      },
      "execution_count": null,
      "outputs": [
        {
          "output_type": "execute_result",
          "data": {
            "text/plain": [
              "'lede efter hinanden de gjorde de land ved gulvet en og børk sag bange for at undgaa blev bestemt at han ranede paa sommeren op til ulvarsfjæld og tolv øboer skrællingerne stod sig imod ham og sagde » hvorfor er det ikke udvalgt bøder og har det ikke at få kommet os bi at kaldte ham ud i den gård eller ukendt mænd men han var sket om sommeren forlod husfruen kong valdemar som nu er anderledes folk fredsted deres våben husfruen der hug sig kastet i brystet med hele helga opsøge vievand og helligdomme rejser i sted og blev'"
            ],
            "application/vnd.google.colaboratory.intrinsic+json": {
              "type": "string"
            }
          },
          "metadata": {},
          "execution_count": 34
        }
      ]
    },
    {
      "cell_type": "markdown",
      "source": [
        "#### Spørgsmål\n",
        "\n",
        "\n",
        "\n",
        "*   Hvad sker der, hvis der ændres på længden af teksten?\n",
        "*   Hvad sker der, hvis der ændres på startsætningen?\n",
        "*   Hvordan er de generede tekster anderledes end ved den simple model?\n",
        "*   Giver de generede tekster mening nu?\n",
        "*   Hvordan stemmer de generede tekster overens med nutidsdansk og islandske sagaer?\n",
        "*   Hvordan afviger de generede tekster fra nutidsdansk og fra islandske sagaer?\n"
      ],
      "metadata": {
        "id": "jDZY-Srd-2vB"
      }
    },
    {
      "cell_type": "markdown",
      "source": [
        "## 300 epochs\n",
        "\n",
        "Denne model er trænet i cirka 2,5 timer og har en nøjagtighed på ..%"
      ],
      "metadata": {
        "id": "FZBuZKIV_H-2"
      }
    },
    {
      "cell_type": "code",
      "source": [
        "plotAccuracy(epochs=300)"
      ],
      "metadata": {
        "colab": {
          "base_uri": "https://localhost:8080/",
          "height": 472
        },
        "id": "zBpi1ADt_H-3",
        "outputId": "7f6904d2-f29a-412d-f226-ac1a2e098761"
      },
      "execution_count": null,
      "outputs": [
        {
          "output_type": "display_data",
          "data": {
            "text/plain": [
              "<Figure size 640x480 with 1 Axes>"
            ],
            "image/png": "[encoded data removed]"
          },
          "metadata": {}
        }
      ]
    },
    {
      "cell_type": "markdown",
      "source": [
        "#### Tekstgenerering\n",
        "\n",
        "Ligesom med den simple model kan I ændre på antal generede ord og startsætningen."
      ],
      "metadata": {
        "id": "41Ox2fBa_H-3"
      }
    },
    {
      "cell_type": "code",
      "source": [
        "# @title Tekstgenerering\n",
        "antal_ord = 200 # @param {type:\"number\"}\n",
        "startsætning = 'En hærkonge sejlede fra Danmark til Grønland på en længere rejse for at' # @param {type:\"string\"}\n",
        "\n",
        "generate_text(300, startsætning, antal_ord)"
      ],
      "metadata": {
        "colab": {
          "base_uri": "https://localhost:8080/",
          "height": 192
        },
        "id": "wf1YukRb_H-3",
        "outputId": "84137173-2f80-4aec-e535-bd5f58d46409",
        "cellView": "form"
      },
      "execution_count": null,
      "outputs": [
        {
          "output_type": "execute_result",
          "data": {
            "text/plain": [
              "'lede efter hinanden sidst svarede han at han tænkte ikke vilde at det fortælles om denne skibe når han er mange færdigheder og så da det gav det hvad være bedre som det sanghuset som var samlet og holde og det var dem paa island som det blev drevet tilbage som blev da færre og brændte døbt og havde vovede da drage tilbage fra sin seng men bad ham sige deres sindelag hartad 1001 var morgen og ham som paa hinanden stod af han vilde skille bredvikingerne gode og han paa frodaa og sværdet var høvding efter 30 mand i er hendes ejendom til samme lod de hugger hjem og badet endte med med sine hænder langs med hilsen og nu blev drevet tilbage i stuehuset tryggvason han havde gjordet men drev sig ind paa tunet derpå drog thoraren til viken og gik de ind i stuen med heden kjartan om natten paa bjørn gode landede der om vinteren og stærke og blev begravet staa der under mange vikinger at lysefjord mange anden mænd i bjørnshavn om sin bror og skal fortælle dig at han ikke skulde udføre bord ad baggrunden og han udbrede 6. derpaa han stenthor og satte'"
            ],
            "application/vnd.google.colaboratory.intrinsic+json": {
              "type": "string"
            }
          },
          "metadata": {},
          "execution_count": 73
        }
      ]
    },
    {
      "cell_type": "markdown",
      "source": [
        "#### Spørgsmål\n",
        "\n",
        "\n",
        "\n",
        "*   Hvordan stemmer de generede tekster overens med nutidsdansk og islandske sagaer?\n",
        "*   Hvordan afviger de generede tekster fra nutidsdansk og fra islandske sagaer?\n",
        "*   Sammenlign de generede tekster.\n",
        "*   Hvilke muligheder er der ved tekstgenerering?\n",
        "*   Hvilke udfrodringer er der ved tekstgenerering?\n",
        "*   Hvad skal man overveje, hvis man bruger eksempelvis ChatGPT til at generere noget tekst for en?"
      ],
      "metadata": {
        "id": "rp3GPAbk_H-3"
      }
    },
    {
      "cell_type": "code",
      "source": [
        "# @title Tekstgenerering\n",
        "antal_ord = 100 # @param {type:\"number\"}\n",
        "startsætning = 'En hærkonge sejlede fra Danmark til Grønland på en længere rejse for at' # @param {type:\"string\"}\n",
        "\n",
        "generated_text = generate_text(400, startsætning, antal_ord)\n",
        "print(generated_text)"
      ],
      "metadata": {
        "colab": {
          "base_uri": "https://localhost:8080/"
        },
        "id": "2NRfztSGuYC3",
        "outputId": "07250bf1-136c-45b0-ea1e-a74cff54cb35",
        "cellView": "form"
      },
      "execution_count": null,
      "outputs": [
        {
          "output_type": "stream",
          "name": "stdout",
          "text": [
            "fortælle om tidende de snublede og spurgte til sine rejsefæller at de vil gøre penge op således at jeg har hørt til at yde ham hvad randver deres far havgrim 38 at det andre end er sværere tid det sige mig sjælden at lidet « gudrid sætter bo langs sin død karlsemne fortalte ham om thorolf møde sagde at han havde intet tøj således kom ham derpå en stor høj sted der gav sig temmelig ligegyldig på ham og gav de nu vilde have bleven frem af døren mens havet og de fandt pejle nagler hvor øksnø — jord og\n"
          ]
        }
      ]
    },
    {
      "cell_type": "markdown",
      "source": [
        "## Tekstanalyse"
      ],
      "metadata": {
        "id": "t4BcdJL2tsQT"
      }
    },
    {
      "cell_type": "code",
      "source": [
        "import spacy\n",
        "from spacy import displacy"
      ],
      "metadata": {
        "id": "rFgxzTUOtyFV"
      },
      "execution_count": null,
      "outputs": []
    },
    {
      "cell_type": "code",
      "source": [
        "!python3 -m spacy download da_core_news_lg"
      ],
      "metadata": {
        "colab": {
          "base_uri": "https://localhost:8080/"
        },
        "id": "iAamI0Qpu8G5",
        "outputId": "868452e0-5b0f-4936-8440-8e40aecc047c"
      },
      "execution_count": null,
      "outputs": [
        {
          "output_type": "stream",
          "name": "stdout",
          "text": [
            "2023-10-23 08:52:22.117359: W tensorflow/compiler/tf2tensorrt/utils/py_utils.cc:38] TF-TRT Warning: Could not find TensorRT\n",
            "Collecting da-core-news-lg==3.6.0\n",
            "  Downloading https://github.com/explosion/spacy-models/releases/download/da_core_news_lg-3.6.0/da_core_news_lg-3.6.0-py3-none-any.whl (567.1 MB)\n",
            "\u001b[2K     \u001b[90m━━━━━━━━━━━━━━━━━━━━━━━━━━━━━━━━━━━━━━━━\u001b[0m \u001b[32m567.1/567.1 MB\u001b[0m \u001b[31m1.0 MB/s\u001b[0m eta \u001b[36m0:00:00\u001b[0m\n",
            "\u001b[?25hRequirement already satisfied: spacy<3.7.0,>=3.6.0 in /usr/local/lib/python3.10/dist-packages (from da-core-news-lg==3.6.0) (3.6.1)\n",
            "Requirement already satisfied: spacy-legacy<3.1.0,>=3.0.11 in /usr/local/lib/python3.10/dist-packages (from spacy<3.7.0,>=3.6.0->da-core-news-lg==3.6.0) (3.0.12)\n",
            "Requirement already satisfied: spacy-loggers<2.0.0,>=1.0.0 in /usr/local/lib/python3.10/dist-packages (from spacy<3.7.0,>=3.6.0->da-core-news-lg==3.6.0) (1.0.5)\n",
            "Requirement already satisfied: murmurhash<1.1.0,>=0.28.0 in /usr/local/lib/python3.10/dist-packages (from spacy<3.7.0,>=3.6.0->da-core-news-lg==3.6.0) (1.0.10)\n",
            "Requirement already satisfied: cymem<2.1.0,>=2.0.2 in /usr/local/lib/python3.10/dist-packages (from spacy<3.7.0,>=3.6.0->da-core-news-lg==3.6.0) (2.0.8)\n",
            "Requirement already satisfied: preshed<3.1.0,>=3.0.2 in /usr/local/lib/python3.10/dist-packages (from spacy<3.7.0,>=3.6.0->da-core-news-lg==3.6.0) (3.0.9)\n",
            "Requirement already satisfied: thinc<8.2.0,>=8.1.8 in /usr/local/lib/python3.10/dist-packages (from spacy<3.7.0,>=3.6.0->da-core-news-lg==3.6.0) (8.1.12)\n",
            "Requirement already satisfied: wasabi<1.2.0,>=0.9.1 in /usr/local/lib/python3.10/dist-packages (from spacy<3.7.0,>=3.6.0->da-core-news-lg==3.6.0) (1.1.2)\n",
            "Requirement already satisfied: srsly<3.0.0,>=2.4.3 in /usr/local/lib/python3.10/dist-packages (from spacy<3.7.0,>=3.6.0->da-core-news-lg==3.6.0) (2.4.8)\n",
            "Requirement already satisfied: catalogue<2.1.0,>=2.0.6 in /usr/local/lib/python3.10/dist-packages (from spacy<3.7.0,>=3.6.0->da-core-news-lg==3.6.0) (2.0.10)\n",
            "Requirement already satisfied: typer<0.10.0,>=0.3.0 in /usr/local/lib/python3.10/dist-packages (from spacy<3.7.0,>=3.6.0->da-core-news-lg==3.6.0) (0.9.0)\n",
            "Requirement already satisfied: pathy>=0.10.0 in /usr/local/lib/python3.10/dist-packages (from spacy<3.7.0,>=3.6.0->da-core-news-lg==3.6.0) (0.10.2)\n",
            "Requirement already satisfied: smart-open<7.0.0,>=5.2.1 in /usr/local/lib/python3.10/dist-packages (from spacy<3.7.0,>=3.6.0->da-core-news-lg==3.6.0) (6.4.0)\n",
            "Requirement already satisfied: tqdm<5.0.0,>=4.38.0 in /usr/local/lib/python3.10/dist-packages (from spacy<3.7.0,>=3.6.0->da-core-news-lg==3.6.0) (4.66.1)\n",
            "Requirement already satisfied: numpy>=1.15.0 in /usr/local/lib/python3.10/dist-packages (from spacy<3.7.0,>=3.6.0->da-core-news-lg==3.6.0) (1.23.5)\n",
            "Requirement already satisfied: requests<3.0.0,>=2.13.0 in /usr/local/lib/python3.10/dist-packages (from spacy<3.7.0,>=3.6.0->da-core-news-lg==3.6.0) (2.31.0)\n",
            "Requirement already satisfied: pydantic!=1.8,!=1.8.1,<3.0.0,>=1.7.4 in /usr/local/lib/python3.10/dist-packages (from spacy<3.7.0,>=3.6.0->da-core-news-lg==3.6.0) (1.10.13)\n",
            "Requirement already satisfied: jinja2 in /usr/local/lib/python3.10/dist-packages (from spacy<3.7.0,>=3.6.0->da-core-news-lg==3.6.0) (3.1.2)\n",
            "Requirement already satisfied: setuptools in /usr/local/lib/python3.10/dist-packages (from spacy<3.7.0,>=3.6.0->da-core-news-lg==3.6.0) (67.7.2)\n",
            "Requirement already satisfied: packaging>=20.0 in /usr/local/lib/python3.10/dist-packages (from spacy<3.7.0,>=3.6.0->da-core-news-lg==3.6.0) (23.2)\n",
            "Requirement already satisfied: langcodes<4.0.0,>=3.2.0 in /usr/local/lib/python3.10/dist-packages (from spacy<3.7.0,>=3.6.0->da-core-news-lg==3.6.0) (3.3.0)\n",
            "Requirement already satisfied: typing-extensions>=4.2.0 in /usr/local/lib/python3.10/dist-packages (from pydantic!=1.8,!=1.8.1,<3.0.0,>=1.7.4->spacy<3.7.0,>=3.6.0->da-core-news-lg==3.6.0) (4.5.0)\n",
            "Requirement already satisfied: charset-normalizer<4,>=2 in /usr/local/lib/python3.10/dist-packages (from requests<3.0.0,>=2.13.0->spacy<3.7.0,>=3.6.0->da-core-news-lg==3.6.0) (3.3.0)\n",
            "Requirement already satisfied: idna<4,>=2.5 in /usr/local/lib/python3.10/dist-packages (from requests<3.0.0,>=2.13.0->spacy<3.7.0,>=3.6.0->da-core-news-lg==3.6.0) (3.4)\n",
            "Requirement already satisfied: urllib3<3,>=1.21.1 in /usr/local/lib/python3.10/dist-packages (from requests<3.0.0,>=2.13.0->spacy<3.7.0,>=3.6.0->da-core-news-lg==3.6.0) (2.0.7)\n",
            "Requirement already satisfied: certifi>=2017.4.17 in /usr/local/lib/python3.10/dist-packages (from requests<3.0.0,>=2.13.0->spacy<3.7.0,>=3.6.0->da-core-news-lg==3.6.0) (2023.7.22)\n",
            "Requirement already satisfied: blis<0.8.0,>=0.7.8 in /usr/local/lib/python3.10/dist-packages (from thinc<8.2.0,>=8.1.8->spacy<3.7.0,>=3.6.0->da-core-news-lg==3.6.0) (0.7.11)\n",
            "Requirement already satisfied: confection<1.0.0,>=0.0.1 in /usr/local/lib/python3.10/dist-packages (from thinc<8.2.0,>=8.1.8->spacy<3.7.0,>=3.6.0->da-core-news-lg==3.6.0) (0.1.3)\n",
            "Requirement already satisfied: click<9.0.0,>=7.1.1 in /usr/local/lib/python3.10/dist-packages (from typer<0.10.0,>=0.3.0->spacy<3.7.0,>=3.6.0->da-core-news-lg==3.6.0) (8.1.7)\n",
            "Requirement already satisfied: MarkupSafe>=2.0 in /usr/local/lib/python3.10/dist-packages (from jinja2->spacy<3.7.0,>=3.6.0->da-core-news-lg==3.6.0) (2.1.3)\n",
            "Installing collected packages: da-core-news-lg\n",
            "Successfully installed da-core-news-lg-3.6.0\n",
            "\u001b[38;5;2m✔ Download and installation successful\u001b[0m\n",
            "You can now load the package via spacy.load('da_core_news_lg')\n"
          ]
        }
      ]
    },
    {
      "cell_type": "code",
      "source": [
        "nlp = spacy.load('da_core_news_lg')"
      ],
      "metadata": {
        "id": "DhaJtVbku_Ji"
      },
      "execution_count": null,
      "outputs": []
    },
    {
      "cell_type": "code",
      "source": [
        "generated_text = 'Jeg bor i Danmark, hvis hovedstad er København.'\n",
        "\n",
        "\n",
        "doc = nlp(generated_text)\n",
        "displacy.render(doc, style=\"dep\",jupyter=True, options={'distance':120})"
      ],
      "metadata": {
        "colab": {
          "base_uri": "https://localhost:8080/",
          "height": 418
        },
        "id": "VmgojllLvFZN",
        "outputId": "f69740ff-c48d-4f87-968f-57f3ebbf9a63"
      },
      "execution_count": null,
      "outputs": [
        {
          "output_type": "display_data",
          "data": {
            "text/plain": [
              "<IPython.core.display.HTML object>"
            ],
            "text/html": [
              "<span class=\"tex2jax_ignore\"><svg xmlns=\"http://www.w3.org/2000/svg\" xmlns:xlink=\"http://www.w3.org/1999/xlink\" xml:lang=\"da\" id=\"54fcdd4b43654e29b9349682f7088411-0\" class=\"displacy\" width=\"1010\" height=\"377.0\" direction=\"ltr\" style=\"max-width: none; height: 377.0px; color: #000000; background: #ffffff; font-family: Arial; direction: ltr\">\n",
              "<text class=\"displacy-token\" fill=\"currentColor\" text-anchor=\"middle\" y=\"287.0\">\n",
              "    <tspan class=\"displacy-word\" fill=\"currentColor\" x=\"50\">Jeg</tspan>\n",
              "    <tspan class=\"displacy-tag\" dy=\"2em\" fill=\"currentColor\" x=\"50\">PRON</tspan>\n",
              "</text>\n",
              "\n",
              "<text class=\"displacy-token\" fill=\"currentColor\" text-anchor=\"middle\" y=\"287.0\">\n",
              "    <tspan class=\"displacy-word\" fill=\"currentColor\" x=\"170\">bor</tspan>\n",
              "    <tspan class=\"displacy-tag\" dy=\"2em\" fill=\"currentColor\" x=\"170\">VERB</tspan>\n",
              "</text>\n",
              "\n",
              "<text class=\"displacy-token\" fill=\"currentColor\" text-anchor=\"middle\" y=\"287.0\">\n",
              "    <tspan class=\"displacy-word\" fill=\"currentColor\" x=\"290\">i</tspan>\n",
              "    <tspan class=\"displacy-tag\" dy=\"2em\" fill=\"currentColor\" x=\"290\">ADP</tspan>\n",
              "</text>\n",
              "\n",
              "<text class=\"displacy-token\" fill=\"currentColor\" text-anchor=\"middle\" y=\"287.0\">\n",
              "    <tspan class=\"displacy-word\" fill=\"currentColor\" x=\"410\">Danmark,</tspan>\n",
              "    <tspan class=\"displacy-tag\" dy=\"2em\" fill=\"currentColor\" x=\"410\">PROPN</tspan>\n",
              "</text>\n",
              "\n",
              "<text class=\"displacy-token\" fill=\"currentColor\" text-anchor=\"middle\" y=\"287.0\">\n",
              "    <tspan class=\"displacy-word\" fill=\"currentColor\" x=\"530\">hvis</tspan>\n",
              "    <tspan class=\"displacy-tag\" dy=\"2em\" fill=\"currentColor\" x=\"530\">SCONJ</tspan>\n",
              "</text>\n",
              "\n",
              "<text class=\"displacy-token\" fill=\"currentColor\" text-anchor=\"middle\" y=\"287.0\">\n",
              "    <tspan class=\"displacy-word\" fill=\"currentColor\" x=\"650\">hovedstad</tspan>\n",
              "    <tspan class=\"displacy-tag\" dy=\"2em\" fill=\"currentColor\" x=\"650\">NOUN</tspan>\n",
              "</text>\n",
              "\n",
              "<text class=\"displacy-token\" fill=\"currentColor\" text-anchor=\"middle\" y=\"287.0\">\n",
              "    <tspan class=\"displacy-word\" fill=\"currentColor\" x=\"770\">er</tspan>\n",
              "    <tspan class=\"displacy-tag\" dy=\"2em\" fill=\"currentColor\" x=\"770\">AUX</tspan>\n",
              "</text>\n",
              "\n",
              "<text class=\"displacy-token\" fill=\"currentColor\" text-anchor=\"middle\" y=\"287.0\">\n",
              "    <tspan class=\"displacy-word\" fill=\"currentColor\" x=\"890\">København.</tspan>\n",
              "    <tspan class=\"displacy-tag\" dy=\"2em\" fill=\"currentColor\" x=\"890\">PROPN</tspan>\n",
              "</text>\n",
              "\n",
              "<g class=\"displacy-arrow\">\n",
              "    <path class=\"displacy-arc\" id=\"arrow-54fcdd4b43654e29b9349682f7088411-0-0\" stroke-width=\"2px\" d=\"M70,242.0 C70,182.0 155.0,182.0 155.0,242.0\" fill=\"none\" stroke=\"currentColor\"/>\n",
              "    <text dy=\"1.25em\" style=\"font-size: 0.8em; letter-spacing: 1px\">\n",
              "        <textPath xlink:href=\"#arrow-54fcdd4b43654e29b9349682f7088411-0-0\" class=\"displacy-label\" startOffset=\"50%\" side=\"left\" fill=\"currentColor\" text-anchor=\"middle\">nsubj</textPath>\n",
              "    </text>\n",
              "    <path class=\"displacy-arrowhead\" d=\"M70,244.0 L62,232.0 78,232.0\" fill=\"currentColor\"/>\n",
              "</g>\n",
              "\n",
              "<g class=\"displacy-arrow\">\n",
              "    <path class=\"displacy-arc\" id=\"arrow-54fcdd4b43654e29b9349682f7088411-0-1\" stroke-width=\"2px\" d=\"M310,242.0 C310,182.0 395.0,182.0 395.0,242.0\" fill=\"none\" stroke=\"currentColor\"/>\n",
              "    <text dy=\"1.25em\" style=\"font-size: 0.8em; letter-spacing: 1px\">\n",
              "        <textPath xlink:href=\"#arrow-54fcdd4b43654e29b9349682f7088411-0-1\" class=\"displacy-label\" startOffset=\"50%\" side=\"left\" fill=\"currentColor\" text-anchor=\"middle\">case</textPath>\n",
              "    </text>\n",
              "    <path class=\"displacy-arrowhead\" d=\"M310,244.0 L302,232.0 318,232.0\" fill=\"currentColor\"/>\n",
              "</g>\n",
              "\n",
              "<g class=\"displacy-arrow\">\n",
              "    <path class=\"displacy-arc\" id=\"arrow-54fcdd4b43654e29b9349682f7088411-0-2\" stroke-width=\"2px\" d=\"M190,242.0 C190,122.0 400.0,122.0 400.0,242.0\" fill=\"none\" stroke=\"currentColor\"/>\n",
              "    <text dy=\"1.25em\" style=\"font-size: 0.8em; letter-spacing: 1px\">\n",
              "        <textPath xlink:href=\"#arrow-54fcdd4b43654e29b9349682f7088411-0-2\" class=\"displacy-label\" startOffset=\"50%\" side=\"left\" fill=\"currentColor\" text-anchor=\"middle\">obl</textPath>\n",
              "    </text>\n",
              "    <path class=\"displacy-arrowhead\" d=\"M400.0,244.0 L408.0,232.0 392.0,232.0\" fill=\"currentColor\"/>\n",
              "</g>\n",
              "\n",
              "<g class=\"displacy-arrow\">\n",
              "    <path class=\"displacy-arc\" id=\"arrow-54fcdd4b43654e29b9349682f7088411-0-3\" stroke-width=\"2px\" d=\"M550,242.0 C550,62.0 885.0,62.0 885.0,242.0\" fill=\"none\" stroke=\"currentColor\"/>\n",
              "    <text dy=\"1.25em\" style=\"font-size: 0.8em; letter-spacing: 1px\">\n",
              "        <textPath xlink:href=\"#arrow-54fcdd4b43654e29b9349682f7088411-0-3\" class=\"displacy-label\" startOffset=\"50%\" side=\"left\" fill=\"currentColor\" text-anchor=\"middle\">mark</textPath>\n",
              "    </text>\n",
              "    <path class=\"displacy-arrowhead\" d=\"M550,244.0 L542,232.0 558,232.0\" fill=\"currentColor\"/>\n",
              "</g>\n",
              "\n",
              "<g class=\"displacy-arrow\">\n",
              "    <path class=\"displacy-arc\" id=\"arrow-54fcdd4b43654e29b9349682f7088411-0-4\" stroke-width=\"2px\" d=\"M670,242.0 C670,122.0 880.0,122.0 880.0,242.0\" fill=\"none\" stroke=\"currentColor\"/>\n",
              "    <text dy=\"1.25em\" style=\"font-size: 0.8em; letter-spacing: 1px\">\n",
              "        <textPath xlink:href=\"#arrow-54fcdd4b43654e29b9349682f7088411-0-4\" class=\"displacy-label\" startOffset=\"50%\" side=\"left\" fill=\"currentColor\" text-anchor=\"middle\">nsubj</textPath>\n",
              "    </text>\n",
              "    <path class=\"displacy-arrowhead\" d=\"M670,244.0 L662,232.0 678,232.0\" fill=\"currentColor\"/>\n",
              "</g>\n",
              "\n",
              "<g class=\"displacy-arrow\">\n",
              "    <path class=\"displacy-arc\" id=\"arrow-54fcdd4b43654e29b9349682f7088411-0-5\" stroke-width=\"2px\" d=\"M790,242.0 C790,182.0 875.0,182.0 875.0,242.0\" fill=\"none\" stroke=\"currentColor\"/>\n",
              "    <text dy=\"1.25em\" style=\"font-size: 0.8em; letter-spacing: 1px\">\n",
              "        <textPath xlink:href=\"#arrow-54fcdd4b43654e29b9349682f7088411-0-5\" class=\"displacy-label\" startOffset=\"50%\" side=\"left\" fill=\"currentColor\" text-anchor=\"middle\">cop</textPath>\n",
              "    </text>\n",
              "    <path class=\"displacy-arrowhead\" d=\"M790,244.0 L782,232.0 798,232.0\" fill=\"currentColor\"/>\n",
              "</g>\n",
              "\n",
              "<g class=\"displacy-arrow\">\n",
              "    <path class=\"displacy-arc\" id=\"arrow-54fcdd4b43654e29b9349682f7088411-0-6\" stroke-width=\"2px\" d=\"M190,242.0 C190,2.0 890.0,2.0 890.0,242.0\" fill=\"none\" stroke=\"currentColor\"/>\n",
              "    <text dy=\"1.25em\" style=\"font-size: 0.8em; letter-spacing: 1px\">\n",
              "        <textPath xlink:href=\"#arrow-54fcdd4b43654e29b9349682f7088411-0-6\" class=\"displacy-label\" startOffset=\"50%\" side=\"left\" fill=\"currentColor\" text-anchor=\"middle\">advmod</textPath>\n",
              "    </text>\n",
              "    <path class=\"displacy-arrowhead\" d=\"M890.0,244.0 L898.0,232.0 882.0,232.0\" fill=\"currentColor\"/>\n",
              "</g>\n",
              "</svg></span>"
            ]
          },
          "metadata": {}
        }
      ]
    },
    {
      "cell_type": "code",
      "source": [
        "print(f'{\"Tekst\":{20}} {\"Coarse tag\":{20}} {\"Fine grained tag\":{20}} {\"Forklaring til fine grained tag\":{40}} {\"Dependency Tag\":{20}} {\"Forklaring til dependency tag\":{10}}')\n",
        "print()\n",
        "for t in doc:\n",
        "    print(f'{t.text:{20}} {t.pos_:{20}} {t.tag_:{20}} {spacy.explain(t.tag_):{40}} {t.dep_:{20}} {spacy.explain(t.dep_):{10}}')"
      ],
      "metadata": {
        "colab": {
          "base_uri": "https://localhost:8080/"
        },
        "id": "PUWDsyDKvbuY",
        "outputId": "f9d23367-47eb-462b-ebe7-083802809e20"
      },
      "execution_count": null,
      "outputs": [
        {
          "output_type": "stream",
          "name": "stdout",
          "text": [
            "Tekst                Coarse tag           Fine grained tag     Forklaring til fine grained tag          Dependency Tag       Forklaring til dependency tag\n",
            "\n",
            "Jeg                  PRON                 PRON                 pronoun                                  nsubj                nominal subject\n",
            "bor                  VERB                 VERB                 verb                                     ROOT                 root      \n",
            "i                    ADP                  ADP                  adposition                               case                 case marking\n",
            "Danmark              PROPN                PROPN                proper noun                              obl                  oblique nominal\n",
            ",                    PUNCT                PUNCT                punctuation                              punct                punctuation\n",
            "hvis                 SCONJ                SCONJ                subordinating conjunction                mark                 marker    \n",
            "hovedstad            NOUN                 NOUN                 noun                                     nsubj                nominal subject\n",
            "er                   AUX                  AUX                  auxiliary                                cop                  copula    \n",
            "København            PROPN                PROPN                proper noun                              advmod               adverbial modifier\n",
            ".                    PUNCT                PUNCT                punctuation                              punct                punctuation\n"
          ]
        }
      ]
    },
    {
      "cell_type": "code",
      "source": [
        "doc = nlp(generated_text)\n",
        "displacy.render(doc, style=\"ent\",jupyter=True, options={'distance':120})"
      ],
      "metadata": {
        "colab": {
          "base_uri": "https://localhost:8080/",
          "height": 52
        },
        "id": "mKHfsn0cw1NT",
        "outputId": "32558f32-256b-4ac8-9af6-61ee19becae9"
      },
      "execution_count": null,
      "outputs": [
        {
          "output_type": "display_data",
          "data": {
            "text/plain": [
              "<IPython.core.display.HTML object>"
            ],
            "text/html": [
              "<span class=\"tex2jax_ignore\"><div class=\"entities\" style=\"line-height: 2.5; direction: ltr\">Jeg bor i \n",
              "<mark class=\"entity\" style=\"background: #ff9561; padding: 0.45em 0.6em; margin: 0 0.25em; line-height: 1; border-radius: 0.35em;\">\n",
              "    Danmark\n",
              "    <span style=\"font-size: 0.8em; font-weight: bold; line-height: 1; border-radius: 0.35em; vertical-align: middle; margin-left: 0.5rem\">LOC</span>\n",
              "</mark>\n",
              ", hvis hovedstad er \n",
              "<mark class=\"entity\" style=\"background: #ff9561; padding: 0.45em 0.6em; margin: 0 0.25em; line-height: 1; border-radius: 0.35em;\">\n",
              "    København\n",
              "    <span style=\"font-size: 0.8em; font-weight: bold; line-height: 1; border-radius: 0.35em; vertical-align: middle; margin-left: 0.5rem\">LOC</span>\n",
              "</mark>\n",
              ".</div></span>"
            ]
          },
          "metadata": {}
        }
      ]
    },
    {
      "cell_type": "code",
      "source": [
        "for ent in doc.ents:\n",
        "  print(ent.text, ':', ent.label_, ':', spacy.explain(ent.label_))"
      ],
      "metadata": {
        "colab": {
          "base_uri": "https://localhost:8080/"
        },
        "id": "NF-tm2tMyIzq",
        "outputId": "908e05e8-663f-4604-d2cb-87ed334ec7eb"
      },
      "execution_count": null,
      "outputs": [
        {
          "output_type": "stream",
          "name": "stdout",
          "text": [
            "Danmark : LOC : Non-GPE locations, mountain ranges, bodies of water\n",
            "København : LOC : Non-GPE locations, mountain ranges, bodies of water\n"
          ]
        }
      ]
    },
    {
      "cell_type": "code",
      "source": [],
      "metadata": {
        "id": "uI1DJrCdyvCW"
      },
      "execution_count": null,
      "outputs": []
    }
  ]
}