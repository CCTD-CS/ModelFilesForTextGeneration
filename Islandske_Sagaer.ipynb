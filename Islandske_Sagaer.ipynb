{
  "cells": [
    {
      "cell_type": "markdown",
      "metadata": {
        "id": "R67d69izUE0V"
      },
      "source": [
        "## Opsætning"
      ]
    },
    {
      "cell_type": "code",
      "execution_count": 1,
      "metadata": {
        "id": "QtovsJl6XP3H"
      },
      "outputs": [],
      "source": [
        "import spacy"
      ]
    },
    {
      "cell_type": "code",
      "execution_count": 2,
      "metadata": {
        "colab": {
          "base_uri": "https://localhost:8080/"
        },
        "id": "XY0G4BQOZE2d",
        "outputId": "e70365fd-58fd-4e88-d0b5-72a712c8f662"
      },
      "outputs": [],
      "source": [
        "# !python3 -m spacy download da_core_news_lg"
      ]
    },
    {
      "cell_type": "code",
      "execution_count": 4,
      "metadata": {
        "id": "P3ytbFfiXdcF"
      },
      "outputs": [],
      "source": [
        "nlp = spacy.load('da_core_news_lg')\n",
        "nlp.max_length = 1200000"
      ]
    },
    {
      "cell_type": "markdown",
      "metadata": {
        "id": "EPc7OnTmZ8np"
      },
      "source": [
        "# Indlæsning af tekstfiler"
      ]
    },
    {
      "cell_type": "code",
      "execution_count": 5,
      "metadata": {
        "id": "NoBRAMmwUJVT"
      },
      "outputs": [],
      "source": [
        "def read_file(filepath):\n",
        "  with open(filepath) as f:\n",
        "    str_text = f.read()\n",
        "\n",
        "    return str_text"
      ]
    },
    {
      "cell_type": "code",
      "execution_count": 6,
      "metadata": {
        "id": "OEXMLZ-HasF2"
      },
      "outputs": [],
      "source": [
        "def separate_punc(doc_text):\n",
        "    return [token.text.lower() for token in nlp(doc_text) if token.text not in '\\n\\n \\n\\n\\n!\"-#$%&()--.*+,-/:;<=>?@[\\\\]^_`{|}~\\t\\n ']"
      ]
    },
    {
      "cell_type": "code",
      "execution_count": 7,
      "metadata": {
        "id": "tU84YqDGUWkG"
      },
      "outputs": [],
      "source": [
        "saga1 = '/Users/au648304/Documents/Tekster/ErikDenRødesSaga.txt'\n",
        "saga2 = '/Users/au648304/Documents/Tekster/EyrbyggjaSaga.txt'\n",
        "saga3 = '/Users/au648304/Documents/Tekster/FæringernesSaga.txt'\n",
        "saga4 = '/Users/au648304/Documents/Tekster/GrønlændernesSaga.txt'\n",
        "\n",
        "combinedSaga = read_file(saga1) + read_file(saga2) + read_file(saga3) + read_file(saga4)"
      ]
    },
    {
      "cell_type": "code",
      "execution_count": 8,
      "metadata": {
        "id": "NH-nhU-pZUgo"
      },
      "outputs": [],
      "source": [
        "tokens = separate_punc(combinedSaga)"
      ]
    },
    {
      "cell_type": "code",
      "execution_count": 9,
      "metadata": {
        "colab": {
          "base_uri": "https://localhost:8080/"
        },
        "id": "0ROXlIQPZf0_",
        "outputId": "0117e6d7-d99d-4d14-cf10-10f7692bef43"
      },
      "outputs": [
        {
          "data": {
            "text/plain": [
              "64997"
            ]
          },
          "execution_count": 9,
          "metadata": {},
          "output_type": "execute_result"
        }
      ],
      "source": [
        "len(tokens)"
      ]
    },
    {
      "cell_type": "markdown",
      "metadata": {
        "id": "xFK2ra-Sdpwf"
      },
      "source": [
        "# Klargør teksten til modellen"
      ]
    },
    {
      "cell_type": "code",
      "execution_count": 10,
      "metadata": {
        "id": "7zliNSTdeRnv"
      },
      "outputs": [],
      "source": [
        "from keras.preprocessing.text import Tokenizer"
      ]
    },
    {
      "cell_type": "code",
      "execution_count": 11,
      "metadata": {
        "id": "0uBlKJgjdy90"
      },
      "outputs": [],
      "source": [
        "# 25 træningsord og 1 feature ord\n",
        "train_len = 25+1\n",
        "\n",
        "text_sequences = []\n",
        "\n",
        "for i in range(train_len, len(tokens)):\n",
        "\n",
        "    seq = tokens[i-train_len:i]\n",
        "\n",
        "    text_sequences.append(seq)"
      ]
    },
    {
      "cell_type": "code",
      "execution_count": 12,
      "metadata": {
        "colab": {
          "base_uri": "https://localhost:8080/"
        },
        "id": "brHnJ1hLeANc",
        "outputId": "0e4f22db-f42d-43c0-e07b-1bec45a96b3f"
      },
      "outputs": [
        {
          "data": {
            "text/plain": [
              "64971"
            ]
          },
          "execution_count": 12,
          "metadata": {},
          "output_type": "execute_result"
        }
      ],
      "source": [
        "len(text_sequences)"
      ]
    },
    {
      "cell_type": "code",
      "execution_count": 13,
      "metadata": {
        "id": "qhVgFLu0eOfO"
      },
      "outputs": [],
      "source": [
        "# integer encode sequences of words\n",
        "tokenizer = Tokenizer()\n",
        "tokenizer.fit_on_texts(text_sequences)\n",
        "sequences = tokenizer.texts_to_sequences(text_sequences)"
      ]
    },
    {
      "cell_type": "code",
      "execution_count": null,
      "metadata": {
        "id": "tVZLyQGsecLJ"
      },
      "outputs": [],
      "source": [
        "# tokenizer.index_word"
      ]
    },
    {
      "cell_type": "code",
      "execution_count": null,
      "metadata": {
        "id": "YqySIoH_ewmU"
      },
      "outputs": [],
      "source": [
        "# tokenizer.word_counts"
      ]
    },
    {
      "cell_type": "code",
      "execution_count": 14,
      "metadata": {
        "id": "1WzeoZSEe489"
      },
      "outputs": [],
      "source": [
        "vocabulary_size = len(tokenizer.word_counts)"
      ]
    },
    {
      "cell_type": "code",
      "execution_count": 15,
      "metadata": {
        "colab": {
          "base_uri": "https://localhost:8080/"
        },
        "id": "g1qywojFe_hL",
        "outputId": "23d3489f-8af3-4150-cf0d-ddacfbd79344"
      },
      "outputs": [
        {
          "data": {
            "text/plain": [
              "6370"
            ]
          },
          "execution_count": 15,
          "metadata": {},
          "output_type": "execute_result"
        }
      ],
      "source": [
        "vocabulary_size"
      ]
    },
    {
      "cell_type": "markdown",
      "metadata": {
        "id": "ERyqEbR8gERc"
      },
      "source": [
        "## Klargør X og Y ud fra sekvenserne"
      ]
    },
    {
      "cell_type": "code",
      "execution_count": 16,
      "metadata": {
        "id": "mq8m2M3ngKsr"
      },
      "outputs": [],
      "source": [
        "import numpy as np\n",
        "from keras.utils import to_categorical"
      ]
    },
    {
      "cell_type": "code",
      "execution_count": 17,
      "metadata": {
        "id": "qh30vMeygQVK"
      },
      "outputs": [],
      "source": [
        "sequences = np.array(sequences)"
      ]
    },
    {
      "cell_type": "code",
      "execution_count": 18,
      "metadata": {
        "id": "NeUgG78VgYlP"
      },
      "outputs": [],
      "source": [
        "# De første 25 kolonner og dermed ord.\n",
        "X = sequences[:, :-1]\n",
        "\n",
        "# Den sidste kolonne og dermed det sidste ord.\n",
        "y = sequences[:,-1]\n",
        "y = to_categorical(y, num_classes=vocabulary_size+1)"
      ]
    },
    {
      "cell_type": "code",
      "execution_count": 19,
      "metadata": {
        "id": "EMt_WU5ahbmK"
      },
      "outputs": [],
      "source": [
        "seq_len = X.shape[1]"
      ]
    },
    {
      "cell_type": "code",
      "execution_count": 20,
      "metadata": {
        "colab": {
          "base_uri": "https://localhost:8080/"
        },
        "id": "J5reePNzhsdv",
        "outputId": "e09d25a0-e982-4238-d3a6-13230e61757d"
      },
      "outputs": [
        {
          "data": {
            "text/plain": [
              "25"
            ]
          },
          "execution_count": 20,
          "metadata": {},
          "output_type": "execute_result"
        }
      ],
      "source": [
        "seq_len"
      ]
    },
    {
      "cell_type": "markdown",
      "metadata": {
        "id": "tQmHNE2RbzNS"
      },
      "source": [
        "# Skab modellen"
      ]
    },
    {
      "cell_type": "code",
      "execution_count": 28,
      "metadata": {
        "id": "Nvgpq0M4bMio"
      },
      "outputs": [],
      "source": [
        "import keras\n",
        "from keras.models import Sequential, load_model\n",
        "from keras.layers import Dense, LSTM, Embedding\n",
        "from pickle import dump, load"
      ]
    },
    {
      "cell_type": "code",
      "execution_count": 22,
      "metadata": {
        "id": "DgE06FY3cFl-"
      },
      "outputs": [],
      "source": [
        "def create_model(vocabulary_size, seq_len):\n",
        "    model = Sequential()\n",
        "    model.add(Embedding(vocabulary_size, seq_len, input_length=seq_len))\n",
        "    model.add(LSTM(2*seq_len, return_sequences=True))\n",
        "    model.add(LSTM(2*seq_len))\n",
        "    model.add(Dense(2*seq_len, activation='relu'))\n",
        "\n",
        "    model.add(Dense(vocabulary_size, activation='softmax'))\n",
        "\n",
        "    model.compile(loss='categorical_crossentropy', optimizer='adam', metrics=['accuracy'])\n",
        "\n",
        "    model.summary()\n",
        "\n",
        "    return model"
      ]
    },
    {
      "cell_type": "code",
      "execution_count": 23,
      "metadata": {
        "colab": {
          "base_uri": "https://localhost:8080/"
        },
        "id": "znTWkbC5hx05",
        "outputId": "112c80f0-819a-4a2f-a8ec-295a925cd4db"
      },
      "outputs": [
        {
          "name": "stdout",
          "output_type": "stream",
          "text": [
            "Model: \"sequential\"\n",
            "_________________________________________________________________\n",
            " Layer (type)                Output Shape              Param #   \n",
            "=================================================================\n",
            " embedding (Embedding)       (None, 25, 25)            159275    \n",
            "                                                                 \n",
            " lstm (LSTM)                 (None, 25, 50)            15200     \n",
            "                                                                 \n",
            " lstm_1 (LSTM)               (None, 50)                20200     \n",
            "                                                                 \n",
            " dense (Dense)               (None, 50)                2550      \n",
            "                                                                 \n",
            " dense_1 (Dense)             (None, 6371)              324921    \n",
            "                                                                 \n",
            "=================================================================\n",
            "Total params: 522146 (1.99 MB)\n",
            "Trainable params: 522146 (1.99 MB)\n",
            "Non-trainable params: 0 (0.00 Byte)\n",
            "_________________________________________________________________\n"
          ]
        }
      ],
      "source": [
        "model = create_model(vocabulary_size+1, seq_len)"
      ]
    },
    {
      "cell_type": "code",
      "execution_count": 39,
      "metadata": {
        "colab": {
          "base_uri": "https://localhost:8080/"
        },
        "id": "ytOnTRRbh6h6",
        "outputId": "31f23038-cf11-44a9-d4c1-90a8efe90f4e"
      },
      "outputs": [
        {
          "name": "stdout",
          "output_type": "stream",
          "text": [
            "Epoch 1/100\n",
            "508/508 [==============================] - 29s 58ms/step - loss: 5.8137 - accuracy: 0.0826 - val_loss: 5.6880 - val_accuracy: 0.0858\n",
            "Epoch 2/100\n",
            "508/508 [==============================] - 28s 55ms/step - loss: 5.7045 - accuracy: 0.0869 - val_loss: 5.5965 - val_accuracy: 0.0903\n",
            "Epoch 3/100\n",
            "508/508 [==============================] - 28s 55ms/step - loss: 5.5977 - accuracy: 0.0918 - val_loss: 5.4665 - val_accuracy: 0.0988\n",
            "Epoch 4/100\n",
            "508/508 [==============================] - 29s 58ms/step - loss: 5.4946 - accuracy: 0.0976 - val_loss: 5.3685 - val_accuracy: 0.1022\n",
            "Epoch 5/100\n",
            "508/508 [==============================] - 29s 56ms/step - loss: 5.3976 - accuracy: 0.1026 - val_loss: 5.2768 - val_accuracy: 0.1056\n",
            "Epoch 6/100\n",
            "508/508 [==============================] - 29s 56ms/step - loss: 5.3105 - accuracy: 0.1065 - val_loss: 5.1918 - val_accuracy: 0.1081\n",
            "Epoch 7/100\n",
            "508/508 [==============================] - 32s 63ms/step - loss: 5.2330 - accuracy: 0.1095 - val_loss: 5.1063 - val_accuracy: 0.1156\n",
            "Epoch 8/100\n",
            "508/508 [==============================] - 31s 60ms/step - loss: 5.1583 - accuracy: 0.1139 - val_loss: 5.0354 - val_accuracy: 0.1205\n",
            "Epoch 9/100\n",
            "508/508 [==============================] - 30s 59ms/step - loss: 5.0888 - accuracy: 0.1178 - val_loss: 4.9605 - val_accuracy: 0.1217\n",
            "Epoch 10/100\n",
            "508/508 [==============================] - 33s 64ms/step - loss: 5.0213 - accuracy: 0.1208 - val_loss: 4.8880 - val_accuracy: 0.1276\n",
            "Epoch 11/100\n",
            "508/508 [==============================] - 32s 63ms/step - loss: 4.9545 - accuracy: 0.1251 - val_loss: 4.8267 - val_accuracy: 0.1274\n",
            "Epoch 12/100\n",
            "508/508 [==============================] - 28s 55ms/step - loss: 4.8893 - accuracy: 0.1279 - val_loss: 4.7564 - val_accuracy: 0.1348\n",
            "Epoch 13/100\n",
            "508/508 [==============================] - 29s 57ms/step - loss: 4.8256 - accuracy: 0.1301 - val_loss: 4.7057 - val_accuracy: 0.1366\n",
            "Epoch 14/100\n",
            "508/508 [==============================] - 30s 59ms/step - loss: 4.7634 - accuracy: 0.1342 - val_loss: 4.6201 - val_accuracy: 0.1422\n",
            "Epoch 15/100\n",
            "508/508 [==============================] - 30s 59ms/step - loss: 4.7023 - accuracy: 0.1379 - val_loss: 4.5592 - val_accuracy: 0.1455\n",
            "Epoch 16/100\n",
            "508/508 [==============================] - 28s 56ms/step - loss: 4.6426 - accuracy: 0.1416 - val_loss: 4.5001 - val_accuracy: 0.1498\n",
            "Epoch 17/100\n",
            "508/508 [==============================] - 28s 56ms/step - loss: 4.5864 - accuracy: 0.1445 - val_loss: 4.4354 - val_accuracy: 0.1522\n",
            "Epoch 18/100\n",
            "508/508 [==============================] - 30s 58ms/step - loss: 4.5292 - accuracy: 0.1482 - val_loss: 4.3887 - val_accuracy: 0.1556\n",
            "Epoch 19/100\n",
            "508/508 [==============================] - 30s 59ms/step - loss: 4.4765 - accuracy: 0.1497 - val_loss: 4.3288 - val_accuracy: 0.1601\n",
            "Epoch 20/100\n",
            "508/508 [==============================] - 30s 59ms/step - loss: 4.4248 - accuracy: 0.1536 - val_loss: 4.2751 - val_accuracy: 0.1663\n",
            "Epoch 21/100\n",
            "508/508 [==============================] - 31s 60ms/step - loss: 4.3737 - accuracy: 0.1578 - val_loss: 4.2240 - val_accuracy: 0.1688\n",
            "Epoch 22/100\n",
            "508/508 [==============================] - 30s 59ms/step - loss: 4.3274 - accuracy: 0.1618 - val_loss: 4.1659 - val_accuracy: 0.1740\n",
            "Epoch 23/100\n",
            "508/508 [==============================] - 29s 57ms/step - loss: 4.2800 - accuracy: 0.1662 - val_loss: 4.1262 - val_accuracy: 0.1802\n",
            "Epoch 24/100\n",
            "508/508 [==============================] - 28s 56ms/step - loss: 4.2324 - accuracy: 0.1698 - val_loss: 4.0849 - val_accuracy: 0.1854\n",
            "Epoch 25/100\n",
            "508/508 [==============================] - 28s 56ms/step - loss: 4.1910 - accuracy: 0.1737 - val_loss: 4.0293 - val_accuracy: 0.1901\n",
            "Epoch 26/100\n",
            "508/508 [==============================] - 29s 56ms/step - loss: 4.1465 - accuracy: 0.1770 - val_loss: 3.9893 - val_accuracy: 0.1957\n",
            "Epoch 27/100\n",
            "508/508 [==============================] - 27s 53ms/step - loss: 4.1080 - accuracy: 0.1821 - val_loss: 3.9519 - val_accuracy: 0.2005\n",
            "Epoch 28/100\n",
            "508/508 [==============================] - 26s 52ms/step - loss: 4.0685 - accuracy: 0.1859 - val_loss: 3.9087 - val_accuracy: 0.2061\n",
            "Epoch 29/100\n",
            "508/508 [==============================] - 26s 52ms/step - loss: 4.0316 - accuracy: 0.1898 - val_loss: 3.8794 - val_accuracy: 0.2098\n",
            "Epoch 30/100\n",
            "508/508 [==============================] - 27s 53ms/step - loss: 3.9945 - accuracy: 0.1952 - val_loss: 3.8523 - val_accuracy: 0.2114\n",
            "Epoch 31/100\n",
            "508/508 [==============================] - 26s 52ms/step - loss: 3.9622 - accuracy: 0.1990 - val_loss: 3.8072 - val_accuracy: 0.2198\n",
            "Epoch 32/100\n",
            "508/508 [==============================] - 27s 54ms/step - loss: 3.9271 - accuracy: 0.2021 - val_loss: 3.7701 - val_accuracy: 0.2246\n",
            "Epoch 33/100\n",
            "508/508 [==============================] - 28s 55ms/step - loss: 3.8964 - accuracy: 0.2066 - val_loss: 3.7332 - val_accuracy: 0.2296\n",
            "Epoch 34/100\n",
            "508/508 [==============================] - 28s 54ms/step - loss: 3.8629 - accuracy: 0.2115 - val_loss: 3.7049 - val_accuracy: 0.2335\n",
            "Epoch 35/100\n",
            "508/508 [==============================] - 30s 59ms/step - loss: 3.8320 - accuracy: 0.2150 - val_loss: 3.6834 - val_accuracy: 0.2383\n",
            "Epoch 36/100\n",
            "508/508 [==============================] - 32s 63ms/step - loss: 3.8021 - accuracy: 0.2185 - val_loss: 3.6362 - val_accuracy: 0.2443\n",
            "Epoch 37/100\n",
            "508/508 [==============================] - 29s 58ms/step - loss: 3.7723 - accuracy: 0.2243 - val_loss: 3.6210 - val_accuracy: 0.2445\n",
            "Epoch 38/100\n",
            "508/508 [==============================] - 28s 56ms/step - loss: 3.7444 - accuracy: 0.2263 - val_loss: 3.5873 - val_accuracy: 0.2497\n",
            "Epoch 39/100\n",
            "508/508 [==============================] - 28s 56ms/step - loss: 3.7192 - accuracy: 0.2291 - val_loss: 3.5633 - val_accuracy: 0.2539\n",
            "Epoch 40/100\n",
            "508/508 [==============================] - 28s 55ms/step - loss: 3.6920 - accuracy: 0.2336 - val_loss: 3.5404 - val_accuracy: 0.2575\n",
            "Epoch 41/100\n",
            "508/508 [==============================] - 28s 55ms/step - loss: 3.6630 - accuracy: 0.2374 - val_loss: 3.5044 - val_accuracy: 0.2613\n",
            "Epoch 42/100\n",
            "508/508 [==============================] - 28s 55ms/step - loss: 3.6391 - accuracy: 0.2406 - val_loss: 3.4790 - val_accuracy: 0.2680\n",
            "Epoch 43/100\n",
            "508/508 [==============================] - 28s 56ms/step - loss: 3.6145 - accuracy: 0.2444 - val_loss: 3.4546 - val_accuracy: 0.2728\n",
            "Epoch 44/100\n",
            "508/508 [==============================] - 28s 55ms/step - loss: 3.5897 - accuracy: 0.2464 - val_loss: 3.4336 - val_accuracy: 0.2745\n",
            "Epoch 45/100\n",
            "508/508 [==============================] - 28s 55ms/step - loss: 3.5636 - accuracy: 0.2506 - val_loss: 3.4047 - val_accuracy: 0.2762\n",
            "Epoch 46/100\n",
            "508/508 [==============================] - 28s 55ms/step - loss: 3.5452 - accuracy: 0.2536 - val_loss: 3.4011 - val_accuracy: 0.2755\n",
            "Epoch 47/100\n",
            "508/508 [==============================] - 28s 55ms/step - loss: 3.5187 - accuracy: 0.2590 - val_loss: 3.3640 - val_accuracy: 0.2817\n",
            "Epoch 48/100\n",
            "508/508 [==============================] - 28s 55ms/step - loss: 3.4973 - accuracy: 0.2598 - val_loss: 3.3379 - val_accuracy: 0.2851\n",
            "Epoch 49/100\n",
            "508/508 [==============================] - 30s 58ms/step - loss: 3.4771 - accuracy: 0.2631 - val_loss: 3.3243 - val_accuracy: 0.2892\n",
            "Epoch 50/100\n",
            "508/508 [==============================] - 30s 58ms/step - loss: 3.4508 - accuracy: 0.2668 - val_loss: 3.3016 - val_accuracy: 0.2949\n",
            "Epoch 51/100\n",
            "508/508 [==============================] - 30s 59ms/step - loss: 3.4302 - accuracy: 0.2706 - val_loss: 3.2777 - val_accuracy: 0.2929\n",
            "Epoch 52/100\n",
            "508/508 [==============================] - 28s 55ms/step - loss: 3.4120 - accuracy: 0.2727 - val_loss: 3.2644 - val_accuracy: 0.2973\n",
            "Epoch 53/100\n",
            "508/508 [==============================] - 30s 58ms/step - loss: 3.3914 - accuracy: 0.2768 - val_loss: 3.2330 - val_accuracy: 0.3036\n",
            "Epoch 54/100\n",
            "508/508 [==============================] - 28s 55ms/step - loss: 3.3669 - accuracy: 0.2797 - val_loss: 3.2211 - val_accuracy: 0.3037\n",
            "Epoch 55/100\n",
            "508/508 [==============================] - 29s 58ms/step - loss: 3.3487 - accuracy: 0.2818 - val_loss: 3.1977 - val_accuracy: 0.3092\n",
            "Epoch 56/100\n",
            "508/508 [==============================] - 29s 57ms/step - loss: 3.3300 - accuracy: 0.2851 - val_loss: 3.1918 - val_accuracy: 0.3072\n",
            "Epoch 57/100\n",
            "508/508 [==============================] - 30s 58ms/step - loss: 3.3103 - accuracy: 0.2873 - val_loss: 3.1514 - val_accuracy: 0.3164\n",
            "Epoch 58/100\n",
            "508/508 [==============================] - 30s 59ms/step - loss: 3.2902 - accuracy: 0.2923 - val_loss: 3.1252 - val_accuracy: 0.3190\n",
            "Epoch 59/100\n",
            "508/508 [==============================] - 29s 58ms/step - loss: 3.2705 - accuracy: 0.2944 - val_loss: 3.1205 - val_accuracy: 0.3203\n",
            "Epoch 60/100\n",
            "508/508 [==============================] - 28s 56ms/step - loss: 3.2511 - accuracy: 0.2959 - val_loss: 3.1011 - val_accuracy: 0.3247\n",
            "Epoch 61/100\n",
            "508/508 [==============================] - 29s 56ms/step - loss: 3.2337 - accuracy: 0.3003 - val_loss: 3.0953 - val_accuracy: 0.3245\n",
            "Epoch 62/100\n",
            "508/508 [==============================] - 28s 55ms/step - loss: 3.2197 - accuracy: 0.3012 - val_loss: 3.0779 - val_accuracy: 0.3276\n",
            "Epoch 63/100\n",
            "508/508 [==============================] - 28s 55ms/step - loss: 3.1984 - accuracy: 0.3060 - val_loss: 3.0494 - val_accuracy: 0.3309\n",
            "Epoch 64/100\n",
            "508/508 [==============================] - 29s 57ms/step - loss: 3.1797 - accuracy: 0.3072 - val_loss: 3.0236 - val_accuracy: 0.3365\n",
            "Epoch 65/100\n",
            "508/508 [==============================] - 29s 58ms/step - loss: 3.1575 - accuracy: 0.3130 - val_loss: 3.0056 - val_accuracy: 0.3383\n",
            "Epoch 66/100\n",
            "508/508 [==============================] - 29s 58ms/step - loss: 3.1445 - accuracy: 0.3162 - val_loss: 2.9948 - val_accuracy: 0.3397\n",
            "Epoch 67/100\n",
            "508/508 [==============================] - 28s 56ms/step - loss: 3.1292 - accuracy: 0.3165 - val_loss: 2.9871 - val_accuracy: 0.3431\n",
            "Epoch 68/100\n",
            "508/508 [==============================] - 29s 56ms/step - loss: 3.1091 - accuracy: 0.3196 - val_loss: 2.9555 - val_accuracy: 0.3451\n",
            "Epoch 69/100\n",
            "508/508 [==============================] - 29s 57ms/step - loss: 3.0914 - accuracy: 0.3238 - val_loss: 2.9367 - val_accuracy: 0.3511\n",
            "Epoch 70/100\n",
            "508/508 [==============================] - 29s 56ms/step - loss: 3.0756 - accuracy: 0.3263 - val_loss: 2.9275 - val_accuracy: 0.3526\n",
            "Epoch 71/100\n",
            "508/508 [==============================] - 29s 56ms/step - loss: 3.0628 - accuracy: 0.3272 - val_loss: 2.9142 - val_accuracy: 0.3552\n",
            "Epoch 72/100\n",
            "508/508 [==============================] - 29s 57ms/step - loss: 3.0439 - accuracy: 0.3314 - val_loss: 2.9055 - val_accuracy: 0.3535\n",
            "Epoch 73/100\n",
            "508/508 [==============================] - 28s 56ms/step - loss: 3.0252 - accuracy: 0.3323 - val_loss: 2.8742 - val_accuracy: 0.3617\n",
            "Epoch 74/100\n",
            "508/508 [==============================] - 29s 57ms/step - loss: 3.0150 - accuracy: 0.3355 - val_loss: 2.8920 - val_accuracy: 0.3567\n",
            "Epoch 75/100\n",
            "508/508 [==============================] - 28s 55ms/step - loss: 2.9986 - accuracy: 0.3370 - val_loss: 2.8410 - val_accuracy: 0.3664\n",
            "Epoch 76/100\n",
            "508/508 [==============================] - 28s 56ms/step - loss: 2.9771 - accuracy: 0.3409 - val_loss: 2.8314 - val_accuracy: 0.3679\n",
            "Epoch 77/100\n",
            "508/508 [==============================] - 28s 56ms/step - loss: 2.9622 - accuracy: 0.3412 - val_loss: 2.8116 - val_accuracy: 0.3725\n",
            "Epoch 78/100\n",
            "508/508 [==============================] - 28s 56ms/step - loss: 2.9476 - accuracy: 0.3449 - val_loss: 2.7931 - val_accuracy: 0.3743\n",
            "Epoch 79/100\n",
            "508/508 [==============================] - 28s 56ms/step - loss: 2.9360 - accuracy: 0.3488 - val_loss: 2.7821 - val_accuracy: 0.3765\n",
            "Epoch 80/100\n",
            "508/508 [==============================] - 29s 56ms/step - loss: 2.9159 - accuracy: 0.3498 - val_loss: 2.7568 - val_accuracy: 0.3810\n",
            "Epoch 81/100\n",
            "508/508 [==============================] - 29s 57ms/step - loss: 2.8949 - accuracy: 0.3541 - val_loss: 2.7618 - val_accuracy: 0.3792\n",
            "Epoch 82/100\n",
            "508/508 [==============================] - 28s 56ms/step - loss: 2.8862 - accuracy: 0.3559 - val_loss: 2.7460 - val_accuracy: 0.3828\n",
            "Epoch 83/100\n",
            "508/508 [==============================] - 30s 58ms/step - loss: 2.8755 - accuracy: 0.3588 - val_loss: 2.7184 - val_accuracy: 0.3882\n",
            "Epoch 84/100\n",
            "508/508 [==============================] - 28s 56ms/step - loss: 2.8568 - accuracy: 0.3608 - val_loss: 2.7085 - val_accuracy: 0.3876\n",
            "Epoch 85/100\n",
            "508/508 [==============================] - 29s 56ms/step - loss: 2.8400 - accuracy: 0.3629 - val_loss: 2.6847 - val_accuracy: 0.3946\n",
            "Epoch 86/100\n",
            "508/508 [==============================] - 28s 55ms/step - loss: 2.8251 - accuracy: 0.3639 - val_loss: 2.6856 - val_accuracy: 0.3927\n",
            "Epoch 87/100\n",
            "508/508 [==============================] - 29s 57ms/step - loss: 2.8093 - accuracy: 0.3677 - val_loss: 2.6660 - val_accuracy: 0.3966\n",
            "Epoch 88/100\n",
            "508/508 [==============================] - 28s 55ms/step - loss: 2.7991 - accuracy: 0.3693 - val_loss: 2.6779 - val_accuracy: 0.3952\n",
            "Epoch 89/100\n",
            "508/508 [==============================] - 29s 57ms/step - loss: 2.7828 - accuracy: 0.3728 - val_loss: 2.6359 - val_accuracy: 0.4014\n",
            "Epoch 90/100\n",
            "508/508 [==============================] - 28s 55ms/step - loss: 2.7721 - accuracy: 0.3753 - val_loss: 2.6122 - val_accuracy: 0.4055\n",
            "Epoch 91/100\n",
            "508/508 [==============================] - 29s 57ms/step - loss: 2.7555 - accuracy: 0.3775 - val_loss: 2.6118 - val_accuracy: 0.4051\n",
            "Epoch 92/100\n",
            "508/508 [==============================] - 29s 57ms/step - loss: 2.7446 - accuracy: 0.3791 - val_loss: 2.6303 - val_accuracy: 0.4038\n",
            "Epoch 93/100\n",
            "508/508 [==============================] - 31s 61ms/step - loss: 2.7279 - accuracy: 0.3808 - val_loss: 2.5961 - val_accuracy: 0.4066\n",
            "Epoch 94/100\n",
            "508/508 [==============================] - 30s 59ms/step - loss: 2.7168 - accuracy: 0.3834 - val_loss: 2.5996 - val_accuracy: 0.4064\n",
            "Epoch 95/100\n",
            "508/508 [==============================] - 28s 55ms/step - loss: 2.7021 - accuracy: 0.3876 - val_loss: 2.5626 - val_accuracy: 0.4163\n",
            "Epoch 96/100\n",
            "508/508 [==============================] - 28s 55ms/step - loss: 2.6900 - accuracy: 0.3894 - val_loss: 2.5506 - val_accuracy: 0.4191\n",
            "Epoch 97/100\n",
            "508/508 [==============================] - 29s 57ms/step - loss: 2.6769 - accuracy: 0.3922 - val_loss: 2.5314 - val_accuracy: 0.4198\n",
            "Epoch 98/100\n",
            "508/508 [==============================] - 29s 56ms/step - loss: 2.6659 - accuracy: 0.3937 - val_loss: 2.5213 - val_accuracy: 0.4250\n",
            "Epoch 99/100\n",
            "508/508 [==============================] - 28s 56ms/step - loss: 2.6465 - accuracy: 0.3966 - val_loss: 2.5095 - val_accuracy: 0.4262\n",
            "Epoch 100/100\n",
            "508/508 [==============================] - 29s 57ms/step - loss: 2.6355 - accuracy: 0.3998 - val_loss: 2.4860 - val_accuracy: 0.4287\n"
          ]
        },
        {
          "name": "stderr",
          "output_type": "stream",
          "text": [
            "/Library/Frameworks/Python.framework/Versions/3.11/lib/python3.11/site-packages/keras/src/engine/training.py:3079: UserWarning: You are saving your model as an HDF5 file via `model.save()`. This file format is considered legacy. We recommend using instead the native Keras format, e.g. `model.save('my_model.keras')`.\n",
            "  saving_api.save_model(\n"
          ]
        }
      ],
      "source": [
        "# fit model\n",
        "history = model.fit(X, y, batch_size=128, epochs=100,verbose=1, validation_data=(X,y))\n",
        "\n",
        "model.save('/Users/au648304/Documents/TextGeneration/saga_100epoch.h5')\n",
        "dump(tokenizer, open('/Users/au648304/Documents/TextGeneration/saga_100epoch', 'wb'))\n",
        "dump(history.history['accuracy'], open('/Users/au648304/Documents/TextGeneration/saga_100epoch_history_accuracy', 'wb'))\n",
        "dump(history.history['val_accuracy'], open('/Users/au648304/Documents/TextGeneration/saga_100epoch_history_valaccuracy', 'wb'))"
      ]
    },
    {
      "cell_type": "code",
      "execution_count": 40,
      "metadata": {
        "id": "b3RLpJVfiCvu"
      },
      "outputs": [
        {
          "name": "stdout",
          "output_type": "stream",
          "text": [
            "dict_keys(['loss', 'accuracy', 'val_loss', 'val_accuracy'])\n"
          ]
        },
        {
          "data": {
            "image/png": "[encoded data removed]",
            "text/plain": [
              "<Figure size 640x480 with 1 Axes>"
            ]
          },
          "metadata": {},
          "output_type": "display_data"
        }
      ],
      "source": [
        "import matplotlib.pyplot as plt\n",
        "%matplotlib inline\n",
        "print(history.history.keys())\n",
        "# summarize history for accuracy\n",
        "plt.plot(history.history['accuracy'])\n",
        "plt.plot(history.history['val_accuracy'])\n",
        "plt.title('model accuracy')\n",
        "plt.ylabel('accuracy')\n",
        "plt.xlabel('epoch')\n",
        "plt.legend(['train', 'test'], loc='upper left')\n",
        "plt.show()"
      ]
    },
    {
      "cell_type": "code",
      "execution_count": 46,
      "metadata": {},
      "outputs": [
        {
          "data": {
            "text/plain": [
              "list"
            ]
          },
          "execution_count": 46,
          "metadata": {},
          "output_type": "execute_result"
        }
      ],
      "source": [
        "history_accuracy = load(open('/Users/au648304/Documents/TextGeneration/saga_100epoch_history_accuracy','rb'))\n",
        "history_accuracy2 = load(open('/Users/au648304/Documents/TextGeneration/saga_100epoch_history_accuracy','rb'))\n",
        "tmp = history_accuracy + history_accuracy2\n",
        "type(tmp)"
      ]
    },
    {
      "cell_type": "code",
      "execution_count": 47,
      "metadata": {},
      "outputs": [
        {
          "name": "stdout",
          "output_type": "stream",
          "text": [
            "Epoch 1/100\n",
            "508/508 [==============================] - 34s 63ms/step - loss: 2.6221 - accuracy: 0.4014 - val_loss: 2.4914 - val_accuracy: 0.4271\n",
            "Epoch 2/100\n",
            "508/508 [==============================] - 30s 58ms/step - loss: 2.6137 - accuracy: 0.4023 - val_loss: 2.4717 - val_accuracy: 0.4302\n",
            "Epoch 3/100\n",
            "508/508 [==============================] - 31s 60ms/step - loss: 2.5992 - accuracy: 0.4055 - val_loss: 2.4742 - val_accuracy: 0.4315\n",
            "Epoch 4/100\n",
            "508/508 [==============================] - 28s 55ms/step - loss: 2.5915 - accuracy: 0.4061 - val_loss: 2.4392 - val_accuracy: 0.4375\n",
            "Epoch 5/100\n",
            "508/508 [==============================] - 32s 63ms/step - loss: 2.5778 - accuracy: 0.4083 - val_loss: 2.4466 - val_accuracy: 0.4359\n",
            "Epoch 6/100\n",
            "508/508 [==============================] - 28s 56ms/step - loss: 2.5625 - accuracy: 0.4133 - val_loss: 2.4288 - val_accuracy: 0.4403\n",
            "Epoch 7/100\n",
            "508/508 [==============================] - 28s 56ms/step - loss: 2.5473 - accuracy: 0.4134 - val_loss: 2.4242 - val_accuracy: 0.4412\n",
            "Epoch 8/100\n",
            "508/508 [==============================] - 28s 56ms/step - loss: 2.5460 - accuracy: 0.4154 - val_loss: 2.4161 - val_accuracy: 0.4428\n",
            "Epoch 9/100\n",
            "508/508 [==============================] - 29s 56ms/step - loss: 2.5279 - accuracy: 0.4177 - val_loss: 2.3918 - val_accuracy: 0.4478\n",
            "Epoch 10/100\n",
            "508/508 [==============================] - 28s 55ms/step - loss: 2.5165 - accuracy: 0.4201 - val_loss: 2.3875 - val_accuracy: 0.4476\n",
            "Epoch 11/100\n",
            "508/508 [==============================] - 29s 58ms/step - loss: 2.5049 - accuracy: 0.4227 - val_loss: 2.3656 - val_accuracy: 0.4521\n",
            "Epoch 12/100\n",
            "508/508 [==============================] - 28s 56ms/step - loss: 2.4973 - accuracy: 0.4240 - val_loss: 2.3602 - val_accuracy: 0.4515\n",
            "Epoch 13/100\n",
            "508/508 [==============================] - 28s 55ms/step - loss: 2.4880 - accuracy: 0.4253 - val_loss: 2.3553 - val_accuracy: 0.4510\n",
            "Epoch 14/100\n",
            "508/508 [==============================] - 29s 58ms/step - loss: 2.4730 - accuracy: 0.4292 - val_loss: 2.3341 - val_accuracy: 0.4572\n",
            "Epoch 15/100\n",
            "508/508 [==============================] - 28s 55ms/step - loss: 2.4667 - accuracy: 0.4308 - val_loss: 2.3233 - val_accuracy: 0.4604\n",
            "Epoch 16/100\n",
            "508/508 [==============================] - 29s 56ms/step - loss: 2.4484 - accuracy: 0.4325 - val_loss: 2.3098 - val_accuracy: 0.4602\n",
            "Epoch 17/100\n",
            "508/508 [==============================] - 29s 57ms/step - loss: 2.4417 - accuracy: 0.4318 - val_loss: 2.3046 - val_accuracy: 0.4635\n",
            "Epoch 18/100\n",
            "508/508 [==============================] - 29s 57ms/step - loss: 2.4326 - accuracy: 0.4355 - val_loss: 2.2862 - val_accuracy: 0.4661\n",
            "Epoch 19/100\n",
            "508/508 [==============================] - 29s 58ms/step - loss: 2.4210 - accuracy: 0.4372 - val_loss: 2.2800 - val_accuracy: 0.4691\n",
            "Epoch 20/100\n",
            "508/508 [==============================] - 30s 58ms/step - loss: 2.4064 - accuracy: 0.4416 - val_loss: 2.2771 - val_accuracy: 0.4685\n",
            "Epoch 21/100\n",
            "508/508 [==============================] - 30s 59ms/step - loss: 2.3915 - accuracy: 0.4442 - val_loss: 2.2686 - val_accuracy: 0.4691\n",
            "Epoch 22/100\n",
            "508/508 [==============================] - 29s 57ms/step - loss: 2.3889 - accuracy: 0.4443 - val_loss: 2.2546 - val_accuracy: 0.4740\n",
            "Epoch 23/100\n",
            "508/508 [==============================] - 30s 59ms/step - loss: 2.3826 - accuracy: 0.4433 - val_loss: 2.2525 - val_accuracy: 0.4709\n",
            "Epoch 24/100\n",
            "508/508 [==============================] - 29s 58ms/step - loss: 2.3714 - accuracy: 0.4470 - val_loss: 2.2370 - val_accuracy: 0.4782\n",
            "Epoch 25/100\n",
            "508/508 [==============================] - 29s 57ms/step - loss: 2.3638 - accuracy: 0.4486 - val_loss: 2.2510 - val_accuracy: 0.4711\n",
            "Epoch 26/100\n",
            "508/508 [==============================] - 29s 57ms/step - loss: 2.3444 - accuracy: 0.4518 - val_loss: 2.2343 - val_accuracy: 0.4763\n",
            "Epoch 27/100\n",
            "508/508 [==============================] - 28s 56ms/step - loss: 2.3393 - accuracy: 0.4540 - val_loss: 2.2080 - val_accuracy: 0.4843\n",
            "Epoch 28/100\n",
            "508/508 [==============================] - 29s 57ms/step - loss: 2.3263 - accuracy: 0.4563 - val_loss: 2.1902 - val_accuracy: 0.4845\n",
            "Epoch 29/100\n",
            "508/508 [==============================] - 28s 55ms/step - loss: 2.3273 - accuracy: 0.4547 - val_loss: 2.2044 - val_accuracy: 0.4811\n",
            "Epoch 30/100\n",
            "508/508 [==============================] - 30s 58ms/step - loss: 2.3215 - accuracy: 0.4576 - val_loss: 2.1904 - val_accuracy: 0.4864\n",
            "Epoch 31/100\n",
            "508/508 [==============================] - 29s 56ms/step - loss: 2.2981 - accuracy: 0.4619 - val_loss: 2.1635 - val_accuracy: 0.4909\n",
            "Epoch 32/100\n",
            "508/508 [==============================] - 28s 56ms/step - loss: 2.2949 - accuracy: 0.4618 - val_loss: 2.1617 - val_accuracy: 0.4920\n",
            "Epoch 33/100\n",
            "508/508 [==============================] - 29s 57ms/step - loss: 2.2805 - accuracy: 0.4662 - val_loss: 2.1586 - val_accuracy: 0.4904\n",
            "Epoch 34/100\n",
            "508/508 [==============================] - 29s 57ms/step - loss: 2.2754 - accuracy: 0.4646 - val_loss: 2.1382 - val_accuracy: 0.4957\n",
            "Epoch 35/100\n",
            "508/508 [==============================] - 29s 57ms/step - loss: 2.2632 - accuracy: 0.4692 - val_loss: 2.1375 - val_accuracy: 0.4976\n",
            "Epoch 36/100\n",
            "508/508 [==============================] - 30s 59ms/step - loss: 2.2618 - accuracy: 0.4688 - val_loss: 2.1165 - val_accuracy: 0.4995\n",
            "Epoch 37/100\n",
            "508/508 [==============================] - 27s 53ms/step - loss: 2.2490 - accuracy: 0.4691 - val_loss: 2.1286 - val_accuracy: 0.4979\n",
            "Epoch 38/100\n",
            "508/508 [==============================] - 27s 53ms/step - loss: 2.2484 - accuracy: 0.4723 - val_loss: 2.1109 - val_accuracy: 0.5017\n",
            "Epoch 39/100\n",
            "508/508 [==============================] - 29s 57ms/step - loss: 2.2363 - accuracy: 0.4729 - val_loss: 2.1147 - val_accuracy: 0.5010\n",
            "Epoch 40/100\n",
            "508/508 [==============================] - 29s 57ms/step - loss: 2.2208 - accuracy: 0.4758 - val_loss: 2.0845 - val_accuracy: 0.5075\n",
            "Epoch 41/100\n",
            "508/508 [==============================] - 29s 57ms/step - loss: 2.2034 - accuracy: 0.4791 - val_loss: 2.0886 - val_accuracy: 0.5058\n",
            "Epoch 42/100\n",
            "508/508 [==============================] - 28s 56ms/step - loss: 2.2034 - accuracy: 0.4801 - val_loss: 2.0717 - val_accuracy: 0.5105\n",
            "Epoch 43/100\n",
            "508/508 [==============================] - 29s 57ms/step - loss: 2.1977 - accuracy: 0.4802 - val_loss: 2.0661 - val_accuracy: 0.5114\n",
            "Epoch 44/100\n",
            "508/508 [==============================] - 29s 56ms/step - loss: 2.1866 - accuracy: 0.4837 - val_loss: 2.0643 - val_accuracy: 0.5123\n",
            "Epoch 45/100\n",
            "508/508 [==============================] - 29s 57ms/step - loss: 2.1694 - accuracy: 0.4873 - val_loss: 2.0409 - val_accuracy: 0.5186\n",
            "Epoch 46/100\n",
            "508/508 [==============================] - 29s 58ms/step - loss: 2.1681 - accuracy: 0.4867 - val_loss: 2.0558 - val_accuracy: 0.5130\n",
            "Epoch 47/100\n",
            "508/508 [==============================] - 28s 54ms/step - loss: 2.1644 - accuracy: 0.4885 - val_loss: 2.0251 - val_accuracy: 0.5187\n",
            "Epoch 48/100\n",
            "508/508 [==============================] - 27s 54ms/step - loss: 2.1492 - accuracy: 0.4900 - val_loss: 2.0328 - val_accuracy: 0.5180\n",
            "Epoch 49/100\n",
            "508/508 [==============================] - 28s 55ms/step - loss: 2.1342 - accuracy: 0.4942 - val_loss: 2.0468 - val_accuracy: 0.5133\n",
            "Epoch 50/100\n",
            "508/508 [==============================] - 27s 53ms/step - loss: 2.1351 - accuracy: 0.4939 - val_loss: 2.0044 - val_accuracy: 0.5254\n",
            "Epoch 51/100\n",
            "508/508 [==============================] - 28s 55ms/step - loss: 2.1313 - accuracy: 0.4942 - val_loss: 2.0047 - val_accuracy: 0.5244\n",
            "Epoch 52/100\n",
            "508/508 [==============================] - 27s 54ms/step - loss: 2.1247 - accuracy: 0.4945 - val_loss: 2.0140 - val_accuracy: 0.5196\n",
            "Epoch 53/100\n",
            "508/508 [==============================] - 29s 56ms/step - loss: 2.1189 - accuracy: 0.4968 - val_loss: 1.9925 - val_accuracy: 0.5261\n",
            "Epoch 54/100\n",
            "508/508 [==============================] - 27s 54ms/step - loss: 2.0993 - accuracy: 0.5013 - val_loss: 1.9698 - val_accuracy: 0.5308\n",
            "Epoch 55/100\n",
            "508/508 [==============================] - 27s 54ms/step - loss: 2.0851 - accuracy: 0.5054 - val_loss: 1.9703 - val_accuracy: 0.5305\n",
            "Epoch 56/100\n",
            "508/508 [==============================] - 27s 54ms/step - loss: 2.0847 - accuracy: 0.5044 - val_loss: 1.9477 - val_accuracy: 0.5353\n",
            "Epoch 57/100\n",
            "508/508 [==============================] - 28s 54ms/step - loss: 2.0741 - accuracy: 0.5066 - val_loss: 1.9871 - val_accuracy: 0.5269\n",
            "Epoch 58/100\n",
            "508/508 [==============================] - 27s 53ms/step - loss: 2.0728 - accuracy: 0.5068 - val_loss: 1.9335 - val_accuracy: 0.5396\n",
            "Epoch 59/100\n",
            "508/508 [==============================] - 28s 56ms/step - loss: 2.0629 - accuracy: 0.5075 - val_loss: 1.9473 - val_accuracy: 0.5358\n",
            "Epoch 60/100\n",
            "508/508 [==============================] - 29s 57ms/step - loss: 2.0630 - accuracy: 0.5086 - val_loss: 1.9321 - val_accuracy: 0.5421\n",
            "Epoch 61/100\n",
            "508/508 [==============================] - 29s 57ms/step - loss: 2.0490 - accuracy: 0.5095 - val_loss: 1.9227 - val_accuracy: 0.5407\n",
            "Epoch 62/100\n",
            "508/508 [==============================] - 29s 57ms/step - loss: 2.0346 - accuracy: 0.5141 - val_loss: 1.9186 - val_accuracy: 0.5423\n",
            "Epoch 63/100\n",
            "508/508 [==============================] - 29s 57ms/step - loss: 2.0377 - accuracy: 0.5125 - val_loss: 1.9105 - val_accuracy: 0.5441\n",
            "Epoch 64/100\n",
            "508/508 [==============================] - 29s 57ms/step - loss: 2.0236 - accuracy: 0.5163 - val_loss: 1.9308 - val_accuracy: 0.5379\n",
            "Epoch 65/100\n",
            "508/508 [==============================] - 29s 57ms/step - loss: 2.0287 - accuracy: 0.5146 - val_loss: 1.9227 - val_accuracy: 0.5372\n",
            "Epoch 66/100\n",
            "508/508 [==============================] - 31s 61ms/step - loss: 2.0093 - accuracy: 0.5191 - val_loss: 1.8881 - val_accuracy: 0.5488\n",
            "Epoch 67/100\n",
            "508/508 [==============================] - 29s 57ms/step - loss: 1.9910 - accuracy: 0.5235 - val_loss: 1.8774 - val_accuracy: 0.5526\n",
            "Epoch 68/100\n",
            "508/508 [==============================] - 29s 57ms/step - loss: 1.9930 - accuracy: 0.5229 - val_loss: 1.8853 - val_accuracy: 0.5494\n",
            "Epoch 69/100\n",
            "508/508 [==============================] - 28s 56ms/step - loss: 1.9871 - accuracy: 0.5242 - val_loss: 1.8707 - val_accuracy: 0.5519\n",
            "Epoch 70/100\n",
            "508/508 [==============================] - 29s 58ms/step - loss: 1.9829 - accuracy: 0.5240 - val_loss: 1.9093 - val_accuracy: 0.5419\n",
            "Epoch 71/100\n",
            "508/508 [==============================] - 29s 58ms/step - loss: 1.9798 - accuracy: 0.5254 - val_loss: 1.8390 - val_accuracy: 0.5599\n",
            "Epoch 72/100\n",
            "508/508 [==============================] - 29s 57ms/step - loss: 1.9547 - accuracy: 0.5286 - val_loss: 1.8367 - val_accuracy: 0.5604\n",
            "Epoch 73/100\n",
            "508/508 [==============================] - 28s 56ms/step - loss: 1.9599 - accuracy: 0.5285 - val_loss: 1.8443 - val_accuracy: 0.5576\n",
            "Epoch 74/100\n",
            "508/508 [==============================] - 29s 57ms/step - loss: 1.9592 - accuracy: 0.5286 - val_loss: 1.8325 - val_accuracy: 0.5616\n",
            "Epoch 75/100\n",
            "508/508 [==============================] - 30s 58ms/step - loss: 1.9436 - accuracy: 0.5316 - val_loss: 1.8437 - val_accuracy: 0.5591\n",
            "Epoch 76/100\n",
            "508/508 [==============================] - 29s 57ms/step - loss: 1.9531 - accuracy: 0.5309 - val_loss: 1.8477 - val_accuracy: 0.5545\n",
            "Epoch 77/100\n",
            "508/508 [==============================] - 30s 58ms/step - loss: 1.9319 - accuracy: 0.5362 - val_loss: 1.8125 - val_accuracy: 0.5652\n",
            "Epoch 78/100\n",
            "508/508 [==============================] - 29s 57ms/step - loss: 1.9186 - accuracy: 0.5389 - val_loss: 1.7947 - val_accuracy: 0.5705\n",
            "Epoch 79/100\n",
            "508/508 [==============================] - 29s 58ms/step - loss: 1.9163 - accuracy: 0.5384 - val_loss: 1.8189 - val_accuracy: 0.5606\n",
            "Epoch 80/100\n",
            "508/508 [==============================] - 30s 58ms/step - loss: 1.9069 - accuracy: 0.5411 - val_loss: 1.8074 - val_accuracy: 0.5642\n",
            "Epoch 81/100\n",
            "508/508 [==============================] - 29s 57ms/step - loss: 1.9090 - accuracy: 0.5409 - val_loss: 1.7799 - val_accuracy: 0.5721\n",
            "Epoch 82/100\n",
            "508/508 [==============================] - 30s 59ms/step - loss: 1.9071 - accuracy: 0.5412 - val_loss: 1.7762 - val_accuracy: 0.5722\n",
            "Epoch 83/100\n",
            "508/508 [==============================] - 29s 58ms/step - loss: 1.8924 - accuracy: 0.5434 - val_loss: 1.8074 - val_accuracy: 0.5640\n",
            "Epoch 84/100\n",
            "508/508 [==============================] - 29s 57ms/step - loss: 1.8776 - accuracy: 0.5492 - val_loss: 1.7737 - val_accuracy: 0.5723\n",
            "Epoch 85/100\n",
            "508/508 [==============================] - 29s 58ms/step - loss: 1.8763 - accuracy: 0.5476 - val_loss: 1.7536 - val_accuracy: 0.5775\n",
            "Epoch 86/100\n",
            "508/508 [==============================] - 28s 56ms/step - loss: 1.8718 - accuracy: 0.5487 - val_loss: 1.7616 - val_accuracy: 0.5772\n",
            "Epoch 87/100\n",
            "508/508 [==============================] - 30s 59ms/step - loss: 1.8806 - accuracy: 0.5448 - val_loss: 1.7907 - val_accuracy: 0.5660\n",
            "Epoch 88/100\n",
            "508/508 [==============================] - 30s 59ms/step - loss: 1.8729 - accuracy: 0.5482 - val_loss: 1.7635 - val_accuracy: 0.5746\n",
            "Epoch 89/100\n",
            "508/508 [==============================] - 30s 58ms/step - loss: 1.8595 - accuracy: 0.5501 - val_loss: 1.7489 - val_accuracy: 0.5785\n",
            "Epoch 90/100\n",
            "508/508 [==============================] - 29s 57ms/step - loss: 1.8486 - accuracy: 0.5534 - val_loss: 1.7422 - val_accuracy: 0.5792\n",
            "Epoch 91/100\n",
            "508/508 [==============================] - 31s 61ms/step - loss: 1.8522 - accuracy: 0.5521 - val_loss: 1.7419 - val_accuracy: 0.5784\n",
            "Epoch 92/100\n",
            "508/508 [==============================] - 29s 57ms/step - loss: 1.8312 - accuracy: 0.5565 - val_loss: 1.7065 - val_accuracy: 0.5884\n",
            "Epoch 93/100\n",
            "508/508 [==============================] - 29s 57ms/step - loss: 1.8142 - accuracy: 0.5609 - val_loss: 1.6979 - val_accuracy: 0.5916\n",
            "Epoch 94/100\n",
            "508/508 [==============================] - 30s 59ms/step - loss: 1.8124 - accuracy: 0.5604 - val_loss: 1.7195 - val_accuracy: 0.5848\n",
            "Epoch 95/100\n",
            "508/508 [==============================] - 32s 63ms/step - loss: 1.8324 - accuracy: 0.5576 - val_loss: 1.7091 - val_accuracy: 0.5866\n",
            "Epoch 96/100\n",
            "508/508 [==============================] - 29s 58ms/step - loss: 1.8168 - accuracy: 0.5596 - val_loss: 1.7069 - val_accuracy: 0.5894\n",
            "Epoch 97/100\n",
            "508/508 [==============================] - 30s 59ms/step - loss: 1.8062 - accuracy: 0.5616 - val_loss: 1.6951 - val_accuracy: 0.5912\n",
            "Epoch 98/100\n",
            "508/508 [==============================] - 28s 56ms/step - loss: 1.7993 - accuracy: 0.5640 - val_loss: 1.6705 - val_accuracy: 0.5961\n",
            "Epoch 99/100\n",
            "508/508 [==============================] - 29s 57ms/step - loss: 1.7910 - accuracy: 0.5661 - val_loss: 1.6795 - val_accuracy: 0.5944\n",
            "Epoch 100/100\n",
            "508/508 [==============================] - 28s 55ms/step - loss: 1.7825 - accuracy: 0.5671 - val_loss: 1.6637 - val_accuracy: 0.5969\n"
          ]
        },
        {
          "name": "stderr",
          "output_type": "stream",
          "text": [
            "/Library/Frameworks/Python.framework/Versions/3.11/lib/python3.11/site-packages/keras/src/engine/training.py:3079: UserWarning: You are saving your model as an HDF5 file via `model.save()`. This file format is considered legacy. We recommend using instead the native Keras format, e.g. `model.save('my_model.keras')`.\n",
            "  saving_api.save_model(\n"
          ]
        }
      ],
      "source": [
        "model = load_model('/Users/au648304/Documents/TextGeneration/saga_100epoch.h5')\n",
        "tokenizer = load(open('/Users/au648304/Documents/TextGeneration/saga_100epoch','rb'))\n",
        "history_accuracy = load(open('/Users/au648304/Documents/TextGeneration/saga_100epoch_history_accuracy','rb'))\n",
        "history_valaccuracy = load(open('/Users/au648304/Documents/TextGeneration/saga_100epoch_history_valaccuracy','rb'))\n",
        "\n",
        "history = model.fit(X, y, batch_size=128, epochs=100,verbose=1, validation_data=(X,y))\n",
        "\n",
        "accuracy = history_accuracy + history.history['accuracy']\n",
        "valaccuracy = history_valaccuracy + history.history['val_accuracy']\n",
        "\n",
        "model.save('/Users/au648304/Documents/TextGeneration/saga_200epoch.h5')\n",
        "dump(tokenizer, open('/Users/au648304/Documents/TextGeneration/saga_200epoch', 'wb'))\n",
        "dump(accuracy, open('/Users/au648304/Documents/TextGeneration/saga_200epoch_history_accuracy', 'wb'))\n",
        "dump(valaccuracy, open('/Users/au648304/Documents/TextGeneration/saga_200epoch_history_valaccuracy', 'wb'))"
      ]
    },
    {
      "cell_type": "code",
      "execution_count": 48,
      "metadata": {},
      "outputs": [
        {
          "name": "stdout",
          "output_type": "stream",
          "text": [
            "dict_keys(['loss', 'accuracy', 'val_loss', 'val_accuracy'])\n"
          ]
        },
        {
          "data": {
            "image/png": "[encoded data removed]",
            "text/plain": [
              "<Figure size 640x480 with 1 Axes>"
            ]
          },
          "metadata": {},
          "output_type": "display_data"
        }
      ],
      "source": [
        "import matplotlib.pyplot as plt\n",
        "%matplotlib inline\n",
        "print(history.history.keys())\n",
        "# summarize history for accuracy\n",
        "plt.plot(history.history['accuracy'])\n",
        "plt.plot(history.history['val_accuracy'])\n",
        "plt.title('model accuracy')\n",
        "plt.ylabel('accuracy')\n",
        "plt.xlabel('epoch')\n",
        "plt.legend(['train', 'test'], loc='upper left')\n",
        "plt.show()"
      ]
    },
    {
      "cell_type": "code",
      "execution_count": 49,
      "metadata": {},
      "outputs": [
        {
          "name": "stdout",
          "output_type": "stream",
          "text": [
            "Epoch 1/100\n",
            "508/508 [==============================] - 32s 60ms/step - loss: 1.7937 - accuracy: 0.5641 - val_loss: 1.6559 - val_accuracy: 0.5982\n",
            "Epoch 2/100\n",
            "508/508 [==============================] - 30s 58ms/step - loss: 1.7755 - accuracy: 0.5703 - val_loss: 1.6602 - val_accuracy: 0.5980\n",
            "Epoch 3/100\n",
            "508/508 [==============================] - 31s 62ms/step - loss: 1.7708 - accuracy: 0.5687 - val_loss: 1.6611 - val_accuracy: 0.5993\n",
            "Epoch 4/100\n",
            "508/508 [==============================] - 29s 56ms/step - loss: 1.7786 - accuracy: 0.5679 - val_loss: 1.6508 - val_accuracy: 0.5998\n",
            "Epoch 5/100\n",
            "508/508 [==============================] - 29s 57ms/step - loss: 1.7609 - accuracy: 0.5716 - val_loss: 1.6312 - val_accuracy: 0.6061\n",
            "Epoch 6/100\n",
            "508/508 [==============================] - 29s 57ms/step - loss: 1.7444 - accuracy: 0.5756 - val_loss: 1.6257 - val_accuracy: 0.6064\n",
            "Epoch 7/100\n",
            "508/508 [==============================] - 29s 57ms/step - loss: 1.7454 - accuracy: 0.5775 - val_loss: 1.6413 - val_accuracy: 0.6002\n",
            "Epoch 8/100\n",
            "508/508 [==============================] - 29s 57ms/step - loss: 1.7534 - accuracy: 0.5743 - val_loss: 1.6288 - val_accuracy: 0.6053\n",
            "Epoch 9/100\n",
            "508/508 [==============================] - 28s 56ms/step - loss: 1.7315 - accuracy: 0.5772 - val_loss: 1.6300 - val_accuracy: 0.6064\n",
            "Epoch 10/100\n",
            "508/508 [==============================] - 30s 58ms/step - loss: 1.7235 - accuracy: 0.5804 - val_loss: 1.6280 - val_accuracy: 0.6040\n",
            "Epoch 11/100\n",
            "508/508 [==============================] - 29s 57ms/step - loss: 1.7356 - accuracy: 0.5773 - val_loss: 1.6513 - val_accuracy: 0.5973\n",
            "Epoch 12/100\n",
            "508/508 [==============================] - 29s 57ms/step - loss: 1.7217 - accuracy: 0.5806 - val_loss: 1.6346 - val_accuracy: 0.6008\n",
            "Epoch 13/100\n",
            "508/508 [==============================] - 29s 56ms/step - loss: 1.7109 - accuracy: 0.5822 - val_loss: 1.5908 - val_accuracy: 0.6147\n",
            "Epoch 14/100\n",
            "508/508 [==============================] - 30s 59ms/step - loss: 1.7066 - accuracy: 0.5825 - val_loss: 1.5991 - val_accuracy: 0.6119\n",
            "Epoch 15/100\n",
            "508/508 [==============================] - 29s 57ms/step - loss: 1.7100 - accuracy: 0.5826 - val_loss: 1.6418 - val_accuracy: 0.5979\n",
            "Epoch 16/100\n",
            "508/508 [==============================] - 30s 58ms/step - loss: 1.7253 - accuracy: 0.5789 - val_loss: 1.6161 - val_accuracy: 0.6068\n",
            "Epoch 17/100\n",
            "508/508 [==============================] - 29s 56ms/step - loss: 1.7032 - accuracy: 0.5828 - val_loss: 1.5884 - val_accuracy: 0.6140\n",
            "Epoch 18/100\n",
            "508/508 [==============================] - 29s 56ms/step - loss: 1.6835 - accuracy: 0.5877 - val_loss: 1.5841 - val_accuracy: 0.6143\n",
            "Epoch 19/100\n",
            "508/508 [==============================] - 29s 58ms/step - loss: 1.6854 - accuracy: 0.5879 - val_loss: 1.5836 - val_accuracy: 0.6153\n",
            "Epoch 20/100\n",
            "508/508 [==============================] - 29s 56ms/step - loss: 1.6634 - accuracy: 0.5943 - val_loss: 1.5739 - val_accuracy: 0.6167\n",
            "Epoch 21/100\n",
            "508/508 [==============================] - 30s 58ms/step - loss: 1.6705 - accuracy: 0.5906 - val_loss: 1.5874 - val_accuracy: 0.6132\n",
            "Epoch 22/100\n",
            "508/508 [==============================] - 30s 58ms/step - loss: 1.6661 - accuracy: 0.5922 - val_loss: 1.5712 - val_accuracy: 0.6166\n",
            "Epoch 23/100\n",
            "508/508 [==============================] - 30s 58ms/step - loss: 1.6703 - accuracy: 0.5928 - val_loss: 1.5524 - val_accuracy: 0.6215\n",
            "Epoch 24/100\n",
            "508/508 [==============================] - 32s 62ms/step - loss: 1.6617 - accuracy: 0.5932 - val_loss: 1.5494 - val_accuracy: 0.6243\n",
            "Epoch 25/100\n",
            "508/508 [==============================] - 30s 59ms/step - loss: 1.6578 - accuracy: 0.5925 - val_loss: 1.5450 - val_accuracy: 0.6249\n",
            "Epoch 26/100\n",
            "508/508 [==============================] - 30s 59ms/step - loss: 1.6472 - accuracy: 0.5960 - val_loss: 1.5422 - val_accuracy: 0.6253\n",
            "Epoch 27/100\n",
            "508/508 [==============================] - 30s 59ms/step - loss: 1.6290 - accuracy: 0.6015 - val_loss: 1.5314 - val_accuracy: 0.6272\n",
            "Epoch 28/100\n",
            "508/508 [==============================] - 28s 56ms/step - loss: 1.6368 - accuracy: 0.5993 - val_loss: 1.5304 - val_accuracy: 0.6275\n",
            "Epoch 29/100\n",
            "508/508 [==============================] - 29s 56ms/step - loss: 1.6408 - accuracy: 0.5981 - val_loss: 1.5753 - val_accuracy: 0.6128\n",
            "Epoch 30/100\n",
            "508/508 [==============================] - 29s 56ms/step - loss: 1.6269 - accuracy: 0.6009 - val_loss: 1.5085 - val_accuracy: 0.6340\n",
            "Epoch 31/100\n",
            "508/508 [==============================] - 28s 56ms/step - loss: 1.6156 - accuracy: 0.6042 - val_loss: 1.5416 - val_accuracy: 0.6239\n",
            "Epoch 32/100\n",
            "508/508 [==============================] - 27s 53ms/step - loss: 1.6204 - accuracy: 0.6029 - val_loss: 1.6289 - val_accuracy: 0.6048\n",
            "Epoch 33/100\n",
            "508/508 [==============================] - 28s 55ms/step - loss: 1.6851 - accuracy: 0.5852 - val_loss: 1.5565 - val_accuracy: 0.6176\n",
            "Epoch 34/100\n",
            "508/508 [==============================] - 28s 56ms/step - loss: 1.6171 - accuracy: 0.6042 - val_loss: 1.4956 - val_accuracy: 0.6335\n",
            "Epoch 35/100\n",
            "508/508 [==============================] - 28s 55ms/step - loss: 1.5785 - accuracy: 0.6140 - val_loss: 1.4774 - val_accuracy: 0.6397\n",
            "Epoch 36/100\n",
            "508/508 [==============================] - 30s 59ms/step - loss: 1.5911 - accuracy: 0.6075 - val_loss: 1.4940 - val_accuracy: 0.6347\n",
            "Epoch 37/100\n",
            "508/508 [==============================] - 29s 56ms/step - loss: 1.5878 - accuracy: 0.6095 - val_loss: 1.4890 - val_accuracy: 0.6360\n",
            "Epoch 38/100\n",
            "508/508 [==============================] - 28s 56ms/step - loss: 1.5938 - accuracy: 0.6073 - val_loss: 1.4804 - val_accuracy: 0.6398\n",
            "Epoch 39/100\n",
            "508/508 [==============================] - 29s 58ms/step - loss: 1.5936 - accuracy: 0.6076 - val_loss: 1.5173 - val_accuracy: 0.6278\n",
            "Epoch 40/100\n",
            "508/508 [==============================] - 28s 56ms/step - loss: 1.5874 - accuracy: 0.6093 - val_loss: 1.4696 - val_accuracy: 0.6410\n",
            "Epoch 41/100\n",
            "508/508 [==============================] - 28s 55ms/step - loss: 1.5753 - accuracy: 0.6126 - val_loss: 1.4773 - val_accuracy: 0.6402\n",
            "Epoch 42/100\n",
            "508/508 [==============================] - 28s 55ms/step - loss: 1.5643 - accuracy: 0.6149 - val_loss: 1.4676 - val_accuracy: 0.6416\n",
            "Epoch 43/100\n",
            "508/508 [==============================] - 28s 55ms/step - loss: 1.5794 - accuracy: 0.6093 - val_loss: 1.4643 - val_accuracy: 0.6415\n",
            "Epoch 44/100\n",
            "508/508 [==============================] - 29s 57ms/step - loss: 1.5639 - accuracy: 0.6168 - val_loss: 1.4575 - val_accuracy: 0.6449\n",
            "Epoch 45/100\n",
            "508/508 [==============================] - 28s 55ms/step - loss: 1.5668 - accuracy: 0.6147 - val_loss: 1.4751 - val_accuracy: 0.6371\n",
            "Epoch 46/100\n",
            "508/508 [==============================] - 29s 56ms/step - loss: 1.5514 - accuracy: 0.6180 - val_loss: 1.4432 - val_accuracy: 0.6468\n",
            "Epoch 47/100\n",
            "508/508 [==============================] - 28s 56ms/step - loss: 1.5426 - accuracy: 0.6197 - val_loss: 1.4467 - val_accuracy: 0.6472\n",
            "Epoch 48/100\n",
            "508/508 [==============================] - 28s 56ms/step - loss: 1.5581 - accuracy: 0.6167 - val_loss: 1.4664 - val_accuracy: 0.6406\n",
            "Epoch 49/100\n",
            "508/508 [==============================] - 28s 56ms/step - loss: 1.5744 - accuracy: 0.6120 - val_loss: 1.4951 - val_accuracy: 0.6329\n",
            "Epoch 50/100\n",
            "508/508 [==============================] - 29s 56ms/step - loss: 1.5824 - accuracy: 0.6079 - val_loss: 1.4425 - val_accuracy: 0.6473\n",
            "Epoch 51/100\n",
            "508/508 [==============================] - 28s 55ms/step - loss: 1.5267 - accuracy: 0.6246 - val_loss: 1.4147 - val_accuracy: 0.6542\n",
            "Epoch 52/100\n",
            "508/508 [==============================] - 28s 56ms/step - loss: 1.5147 - accuracy: 0.6261 - val_loss: 1.4237 - val_accuracy: 0.6519\n",
            "Epoch 53/100\n",
            "508/508 [==============================] - 28s 55ms/step - loss: 1.5229 - accuracy: 0.6256 - val_loss: 1.4546 - val_accuracy: 0.6403\n",
            "Epoch 54/100\n",
            "508/508 [==============================] - 29s 56ms/step - loss: 1.5355 - accuracy: 0.6190 - val_loss: 1.4199 - val_accuracy: 0.6525\n",
            "Epoch 55/100\n",
            "508/508 [==============================] - 31s 60ms/step - loss: 1.5181 - accuracy: 0.6268 - val_loss: 1.4284 - val_accuracy: 0.6467\n",
            "Epoch 56/100\n",
            "508/508 [==============================] - 29s 57ms/step - loss: 1.5093 - accuracy: 0.6262 - val_loss: 1.4465 - val_accuracy: 0.6430\n",
            "Epoch 57/100\n",
            "508/508 [==============================] - 29s 57ms/step - loss: 1.5092 - accuracy: 0.6256 - val_loss: 1.3873 - val_accuracy: 0.6602\n",
            "Epoch 58/100\n",
            "508/508 [==============================] - 29s 57ms/step - loss: 1.5012 - accuracy: 0.6288 - val_loss: 1.4361 - val_accuracy: 0.6457\n",
            "Epoch 59/100\n",
            "508/508 [==============================] - 26s 52ms/step - loss: 1.5267 - accuracy: 0.6225 - val_loss: 1.4112 - val_accuracy: 0.6532\n",
            "Epoch 60/100\n",
            "508/508 [==============================] - 27s 54ms/step - loss: 1.5087 - accuracy: 0.6277 - val_loss: 1.4092 - val_accuracy: 0.6510\n",
            "Epoch 61/100\n",
            "508/508 [==============================] - 28s 55ms/step - loss: 1.4887 - accuracy: 0.6313 - val_loss: 1.3795 - val_accuracy: 0.6597\n",
            "Epoch 62/100\n",
            "508/508 [==============================] - 29s 58ms/step - loss: 1.4885 - accuracy: 0.6307 - val_loss: 1.3924 - val_accuracy: 0.6567\n",
            "Epoch 63/100\n",
            "508/508 [==============================] - 29s 58ms/step - loss: 1.4841 - accuracy: 0.6334 - val_loss: 1.3916 - val_accuracy: 0.6586\n",
            "Epoch 64/100\n",
            "508/508 [==============================] - 30s 60ms/step - loss: 1.4990 - accuracy: 0.6279 - val_loss: 1.3932 - val_accuracy: 0.6554\n",
            "Epoch 65/100\n",
            "508/508 [==============================] - 29s 57ms/step - loss: 1.4851 - accuracy: 0.6322 - val_loss: 1.4269 - val_accuracy: 0.6480\n",
            "Epoch 66/100\n",
            "508/508 [==============================] - 28s 55ms/step - loss: 1.4849 - accuracy: 0.6322 - val_loss: 1.3644 - val_accuracy: 0.6637\n",
            "Epoch 67/100\n",
            "508/508 [==============================] - 28s 56ms/step - loss: 1.4621 - accuracy: 0.6392 - val_loss: 1.3587 - val_accuracy: 0.6671\n",
            "Epoch 68/100\n",
            "508/508 [==============================] - 28s 55ms/step - loss: 1.4703 - accuracy: 0.6340 - val_loss: 1.3499 - val_accuracy: 0.6698\n",
            "Epoch 69/100\n",
            "508/508 [==============================] - 28s 55ms/step - loss: 1.4524 - accuracy: 0.6395 - val_loss: 1.3436 - val_accuracy: 0.6705\n",
            "Epoch 70/100\n",
            "508/508 [==============================] - 28s 55ms/step - loss: 1.4659 - accuracy: 0.6362 - val_loss: 1.3676 - val_accuracy: 0.6620\n",
            "Epoch 71/100\n",
            "508/508 [==============================] - 28s 55ms/step - loss: 1.4800 - accuracy: 0.6318 - val_loss: 1.3520 - val_accuracy: 0.6673\n",
            "Epoch 72/100\n",
            "508/508 [==============================] - 28s 55ms/step - loss: 1.4406 - accuracy: 0.6415 - val_loss: 1.3566 - val_accuracy: 0.6675\n",
            "Epoch 73/100\n",
            "508/508 [==============================] - 28s 55ms/step - loss: 1.4473 - accuracy: 0.6405 - val_loss: 1.3216 - val_accuracy: 0.6749\n",
            "Epoch 74/100\n",
            "508/508 [==============================] - 28s 55ms/step - loss: 1.4346 - accuracy: 0.6435 - val_loss: 1.3387 - val_accuracy: 0.6698\n",
            "Epoch 75/100\n",
            "508/508 [==============================] - 28s 55ms/step - loss: 1.4360 - accuracy: 0.6426 - val_loss: 1.3613 - val_accuracy: 0.6648\n",
            "Epoch 76/100\n",
            "508/508 [==============================] - 28s 54ms/step - loss: 1.4373 - accuracy: 0.6433 - val_loss: 1.3455 - val_accuracy: 0.6672\n",
            "Epoch 77/100\n",
            "508/508 [==============================] - 28s 55ms/step - loss: 1.4284 - accuracy: 0.6442 - val_loss: 1.3162 - val_accuracy: 0.6757\n",
            "Epoch 78/100\n",
            "508/508 [==============================] - 28s 54ms/step - loss: 1.4477 - accuracy: 0.6393 - val_loss: 1.3425 - val_accuracy: 0.6688\n",
            "Epoch 79/100\n",
            "508/508 [==============================] - 28s 55ms/step - loss: 1.4328 - accuracy: 0.6430 - val_loss: 1.3307 - val_accuracy: 0.6707\n",
            "Epoch 80/100\n",
            "508/508 [==============================] - 28s 55ms/step - loss: 1.4015 - accuracy: 0.6509 - val_loss: 1.2972 - val_accuracy: 0.6794\n",
            "Epoch 81/100\n",
            "508/508 [==============================] - 27s 54ms/step - loss: 1.4002 - accuracy: 0.6517 - val_loss: 1.3157 - val_accuracy: 0.6751\n",
            "Epoch 82/100\n",
            "508/508 [==============================] - 28s 55ms/step - loss: 1.3997 - accuracy: 0.6517 - val_loss: 1.3081 - val_accuracy: 0.6779\n",
            "Epoch 83/100\n",
            "508/508 [==============================] - 28s 54ms/step - loss: 1.4182 - accuracy: 0.6460 - val_loss: 1.3140 - val_accuracy: 0.6749\n",
            "Epoch 84/100\n",
            "508/508 [==============================] - 29s 56ms/step - loss: 1.4318 - accuracy: 0.6415 - val_loss: 1.3116 - val_accuracy: 0.6747\n",
            "Epoch 85/100\n",
            "508/508 [==============================] - 28s 54ms/step - loss: 1.3912 - accuracy: 0.6535 - val_loss: 1.2995 - val_accuracy: 0.6783\n",
            "Epoch 86/100\n",
            "508/508 [==============================] - 29s 57ms/step - loss: 1.3845 - accuracy: 0.6557 - val_loss: 1.2750 - val_accuracy: 0.6842\n",
            "Epoch 87/100\n",
            "508/508 [==============================] - 760s 1s/step - loss: 1.3932 - accuracy: 0.6518 - val_loss: 1.3314 - val_accuracy: 0.6711\n",
            "Epoch 88/100\n",
            "508/508 [==============================] - 34s 67ms/step - loss: 1.4026 - accuracy: 0.6498 - val_loss: 1.3125 - val_accuracy: 0.6720\n",
            "Epoch 89/100\n",
            "508/508 [==============================] - 31s 61ms/step - loss: 1.4008 - accuracy: 0.6502 - val_loss: 1.2921 - val_accuracy: 0.6808\n",
            "Epoch 90/100\n",
            "508/508 [==============================] - 31s 60ms/step - loss: 1.3815 - accuracy: 0.6532 - val_loss: 1.2764 - val_accuracy: 0.6852\n",
            "Epoch 91/100\n",
            "508/508 [==============================] - 28s 55ms/step - loss: 1.3778 - accuracy: 0.6563 - val_loss: 1.2857 - val_accuracy: 0.6824\n",
            "Epoch 92/100\n",
            "508/508 [==============================] - 29s 57ms/step - loss: 1.3675 - accuracy: 0.6582 - val_loss: 1.2974 - val_accuracy: 0.6795\n",
            "Epoch 93/100\n",
            "508/508 [==============================] - 29s 57ms/step - loss: 1.3782 - accuracy: 0.6559 - val_loss: 1.2719 - val_accuracy: 0.6866\n",
            "Epoch 94/100\n",
            "508/508 [==============================] - 31s 61ms/step - loss: 1.3722 - accuracy: 0.6585 - val_loss: 1.2885 - val_accuracy: 0.6818\n",
            "Epoch 95/100\n",
            "508/508 [==============================] - 31s 60ms/step - loss: 1.3784 - accuracy: 0.6558 - val_loss: 1.2565 - val_accuracy: 0.6900\n",
            "Epoch 96/100\n",
            "508/508 [==============================] - 30s 59ms/step - loss: 1.3640 - accuracy: 0.6599 - val_loss: 1.2768 - val_accuracy: 0.6800\n",
            "Epoch 97/100\n",
            "508/508 [==============================] - 29s 57ms/step - loss: 1.3526 - accuracy: 0.6620 - val_loss: 1.2811 - val_accuracy: 0.6818\n",
            "Epoch 98/100\n",
            "508/508 [==============================] - 30s 58ms/step - loss: 1.3863 - accuracy: 0.6533 - val_loss: 1.2697 - val_accuracy: 0.6843\n",
            "Epoch 99/100\n",
            "508/508 [==============================] - 30s 58ms/step - loss: 1.3397 - accuracy: 0.6640 - val_loss: 1.2498 - val_accuracy: 0.6925\n",
            "Epoch 100/100\n",
            "508/508 [==============================] - 30s 59ms/step - loss: 1.3522 - accuracy: 0.6640 - val_loss: 1.2636 - val_accuracy: 0.6864\n"
          ]
        }
      ],
      "source": [
        "model = load_model('/Users/au648304/Documents/TextGeneration/saga_200epoch.h5')\n",
        "tokenizer = load(open('/Users/au648304/Documents/TextGeneration/saga_200epoch','rb'))\n",
        "history_accuracy = load(open('/Users/au648304/Documents/TextGeneration/saga_200epoch_history_accuracy','rb'))\n",
        "history_valaccuracy = load(open('/Users/au648304/Documents/TextGeneration/saga_200epoch_history_valaccuracy','rb'))\n",
        "\n",
        "history = model.fit(X, y, batch_size=128, epochs=100,verbose=1, validation_data=(X,y))\n",
        "\n",
        "accuracy = history_accuracy + history.history['accuracy']\n",
        "valaccuracy = history_valaccuracy + history.history['val_accuracy']\n",
        "\n",
        "model.save('/Users/au648304/Documents/TextGeneration/saga_300epoch.h5')\n",
        "dump(tokenizer, open('/Users/au648304/Documents/TextGeneration/saga_300epoch', 'wb'))\n",
        "dump(accuracy, open('/Users/au648304/Documents/TextGeneration/saga_300epoch_history_accuracy', 'wb'))\n",
        "dump(valaccuracy, open('/Users/au648304/Documents/TextGeneration/saga_300epoch_history_valaccuracy', 'wb'))"
      ]
    },
    {
      "cell_type": "code",
      "execution_count": 50,
      "metadata": {},
      "outputs": [
        {
          "name": "stdout",
          "output_type": "stream",
          "text": [
            "Epoch 1/100\n",
            "508/508 [==============================] - 33s 62ms/step - loss: 1.3594 - accuracy: 0.6598 - val_loss: 1.2693 - val_accuracy: 0.6845\n",
            "Epoch 2/100\n",
            "508/508 [==============================] - 32s 63ms/step - loss: 1.3566 - accuracy: 0.6611 - val_loss: 1.2666 - val_accuracy: 0.6861\n",
            "Epoch 3/100\n",
            "508/508 [==============================] - 30s 59ms/step - loss: 1.3416 - accuracy: 0.6642 - val_loss: 1.2793 - val_accuracy: 0.6803\n",
            "Epoch 4/100\n",
            "508/508 [==============================] - 31s 60ms/step - loss: 1.3151 - accuracy: 0.6718 - val_loss: 1.2327 - val_accuracy: 0.6935\n",
            "Epoch 5/100\n",
            "508/508 [==============================] - 30s 59ms/step - loss: 1.3329 - accuracy: 0.6664 - val_loss: 1.2344 - val_accuracy: 0.6938\n",
            "Epoch 6/100\n",
            "508/508 [==============================] - 29s 58ms/step - loss: 1.3408 - accuracy: 0.6659 - val_loss: 1.2028 - val_accuracy: 0.7038\n",
            "Epoch 7/100\n",
            "508/508 [==============================] - 27s 54ms/step - loss: 1.3204 - accuracy: 0.6691 - val_loss: 1.2587 - val_accuracy: 0.6894\n",
            "Epoch 8/100\n",
            "508/508 [==============================] - 27s 53ms/step - loss: 1.3261 - accuracy: 0.6691 - val_loss: 1.2373 - val_accuracy: 0.6922\n",
            "Epoch 9/100\n",
            "508/508 [==============================] - 26s 52ms/step - loss: 1.3419 - accuracy: 0.6635 - val_loss: 1.2712 - val_accuracy: 0.6833\n",
            "Epoch 10/100\n",
            "508/508 [==============================] - 26s 52ms/step - loss: 1.3260 - accuracy: 0.6680 - val_loss: 1.2297 - val_accuracy: 0.6946\n",
            "Epoch 11/100\n",
            "508/508 [==============================] - 26s 52ms/step - loss: 1.3041 - accuracy: 0.6723 - val_loss: 1.2069 - val_accuracy: 0.7018\n",
            "Epoch 12/100\n",
            "508/508 [==============================] - 26s 51ms/step - loss: 1.3056 - accuracy: 0.6752 - val_loss: 1.2104 - val_accuracy: 0.6993\n",
            "Epoch 13/100\n",
            "508/508 [==============================] - 26s 52ms/step - loss: 1.3164 - accuracy: 0.6688 - val_loss: 1.2460 - val_accuracy: 0.6912\n",
            "Epoch 14/100\n",
            "508/508 [==============================] - 27s 52ms/step - loss: 1.3359 - accuracy: 0.6662 - val_loss: 1.2296 - val_accuracy: 0.6943\n",
            "Epoch 15/100\n",
            "508/508 [==============================] - 27s 52ms/step - loss: 1.3057 - accuracy: 0.6710 - val_loss: 1.1952 - val_accuracy: 0.7041\n",
            "Epoch 16/100\n",
            "508/508 [==============================] - 27s 53ms/step - loss: 1.3059 - accuracy: 0.6726 - val_loss: 1.1999 - val_accuracy: 0.7030\n",
            "Epoch 17/100\n",
            "508/508 [==============================] - 27s 54ms/step - loss: 1.2970 - accuracy: 0.6754 - val_loss: 1.2054 - val_accuracy: 0.7006\n",
            "Epoch 18/100\n",
            "508/508 [==============================] - 27s 53ms/step - loss: 1.3134 - accuracy: 0.6698 - val_loss: 1.2427 - val_accuracy: 0.6903\n",
            "Epoch 19/100\n",
            "508/508 [==============================] - 26s 52ms/step - loss: 1.3036 - accuracy: 0.6724 - val_loss: 1.1930 - val_accuracy: 0.7072\n",
            "Epoch 20/100\n",
            "508/508 [==============================] - 28s 54ms/step - loss: 1.2843 - accuracy: 0.6784 - val_loss: 1.2044 - val_accuracy: 0.7018\n",
            "Epoch 21/100\n",
            "508/508 [==============================] - 27s 54ms/step - loss: 1.2740 - accuracy: 0.6812 - val_loss: 1.1985 - val_accuracy: 0.7033\n",
            "Epoch 22/100\n",
            "508/508 [==============================] - 27s 53ms/step - loss: 1.2999 - accuracy: 0.6738 - val_loss: 1.2080 - val_accuracy: 0.7004\n",
            "Epoch 23/100\n",
            "508/508 [==============================] - 28s 55ms/step - loss: 1.2793 - accuracy: 0.6795 - val_loss: 1.1926 - val_accuracy: 0.7020\n",
            "Epoch 24/100\n",
            "508/508 [==============================] - 27s 54ms/step - loss: 1.2650 - accuracy: 0.6830 - val_loss: 1.1677 - val_accuracy: 0.7104\n",
            "Epoch 25/100\n",
            "508/508 [==============================] - 28s 56ms/step - loss: 1.2492 - accuracy: 0.6854 - val_loss: 1.1930 - val_accuracy: 0.7029\n",
            "Epoch 26/100\n",
            "508/508 [==============================] - 29s 57ms/step - loss: 1.2639 - accuracy: 0.6836 - val_loss: 1.2127 - val_accuracy: 0.6989\n",
            "Epoch 27/100\n",
            "508/508 [==============================] - 27s 54ms/step - loss: 1.3080 - accuracy: 0.6701 - val_loss: 1.2153 - val_accuracy: 0.6956\n",
            "Epoch 28/100\n",
            "508/508 [==============================] - 27s 53ms/step - loss: 1.2794 - accuracy: 0.6771 - val_loss: 1.1738 - val_accuracy: 0.7098\n",
            "Epoch 29/100\n",
            "508/508 [==============================] - 27s 53ms/step - loss: 1.2626 - accuracy: 0.6823 - val_loss: 1.1860 - val_accuracy: 0.7054\n",
            "Epoch 30/100\n",
            "508/508 [==============================] - 26s 52ms/step - loss: 1.2933 - accuracy: 0.6748 - val_loss: 1.1961 - val_accuracy: 0.7039\n",
            "Epoch 31/100\n",
            "508/508 [==============================] - 28s 55ms/step - loss: 1.2721 - accuracy: 0.6796 - val_loss: 1.1879 - val_accuracy: 0.7044\n",
            "Epoch 32/100\n",
            "508/508 [==============================] - 27s 52ms/step - loss: 1.2464 - accuracy: 0.6858 - val_loss: 1.1530 - val_accuracy: 0.7141\n",
            "Epoch 33/100\n",
            "508/508 [==============================] - 31s 62ms/step - loss: 1.2361 - accuracy: 0.6893 - val_loss: 1.1517 - val_accuracy: 0.7154\n",
            "Epoch 34/100\n",
            "508/508 [==============================] - 27s 54ms/step - loss: 1.2434 - accuracy: 0.6876 - val_loss: 1.1593 - val_accuracy: 0.7119\n",
            "Epoch 35/100\n",
            "508/508 [==============================] - 30s 59ms/step - loss: 1.2612 - accuracy: 0.6830 - val_loss: 1.1560 - val_accuracy: 0.7142\n",
            "Epoch 36/100\n",
            "508/508 [==============================] - 28s 55ms/step - loss: 1.2419 - accuracy: 0.6870 - val_loss: 1.1532 - val_accuracy: 0.7135\n",
            "Epoch 37/100\n",
            "508/508 [==============================] - 29s 57ms/step - loss: 1.2347 - accuracy: 0.6892 - val_loss: 1.1345 - val_accuracy: 0.7201\n",
            "Epoch 38/100\n",
            "508/508 [==============================] - 26s 52ms/step - loss: 1.2461 - accuracy: 0.6861 - val_loss: 1.1932 - val_accuracy: 0.7019\n",
            "Epoch 39/100\n",
            "508/508 [==============================] - 28s 54ms/step - loss: 1.2482 - accuracy: 0.6856 - val_loss: 1.1469 - val_accuracy: 0.7119\n",
            "Epoch 40/100\n",
            "508/508 [==============================] - 28s 55ms/step - loss: 1.2252 - accuracy: 0.6908 - val_loss: 1.1411 - val_accuracy: 0.7151\n",
            "Epoch 41/100\n",
            "508/508 [==============================] - 29s 56ms/step - loss: 1.2196 - accuracy: 0.6910 - val_loss: 1.1541 - val_accuracy: 0.7127\n",
            "Epoch 42/100\n",
            "508/508 [==============================] - 28s 56ms/step - loss: 1.2194 - accuracy: 0.6915 - val_loss: 1.1321 - val_accuracy: 0.7169\n",
            "Epoch 43/100\n",
            "508/508 [==============================] - 28s 55ms/step - loss: 1.2274 - accuracy: 0.6902 - val_loss: 1.1461 - val_accuracy: 0.7168\n",
            "Epoch 44/100\n",
            "508/508 [==============================] - 28s 55ms/step - loss: 1.2268 - accuracy: 0.6921 - val_loss: 1.1737 - val_accuracy: 0.7069\n",
            "Epoch 45/100\n",
            "508/508 [==============================] - 28s 55ms/step - loss: 1.2515 - accuracy: 0.6842 - val_loss: 1.1459 - val_accuracy: 0.7148\n",
            "Epoch 46/100\n",
            "508/508 [==============================] - 28s 54ms/step - loss: 1.2377 - accuracy: 0.6873 - val_loss: 1.1533 - val_accuracy: 0.7135\n",
            "Epoch 47/100\n",
            "508/508 [==============================] - 27s 54ms/step - loss: 1.2032 - accuracy: 0.6982 - val_loss: 1.1311 - val_accuracy: 0.7176\n",
            "Epoch 48/100\n",
            "508/508 [==============================] - 27s 54ms/step - loss: 1.2010 - accuracy: 0.6971 - val_loss: 1.1123 - val_accuracy: 0.7231\n",
            "Epoch 49/100\n",
            "508/508 [==============================] - 27s 53ms/step - loss: 1.2112 - accuracy: 0.6962 - val_loss: 1.1048 - val_accuracy: 0.7265\n",
            "Epoch 50/100\n",
            "508/508 [==============================] - 28s 56ms/step - loss: 1.2301 - accuracy: 0.6909 - val_loss: 1.1232 - val_accuracy: 0.7222\n",
            "Epoch 51/100\n",
            "508/508 [==============================] - 28s 54ms/step - loss: 1.2032 - accuracy: 0.6963 - val_loss: 1.1226 - val_accuracy: 0.7185\n",
            "Epoch 52/100\n",
            "508/508 [==============================] - 28s 56ms/step - loss: 1.2135 - accuracy: 0.6944 - val_loss: 1.1069 - val_accuracy: 0.7267\n",
            "Epoch 53/100\n",
            "508/508 [==============================] - 27s 53ms/step - loss: 1.1938 - accuracy: 0.6999 - val_loss: 1.0921 - val_accuracy: 0.7297\n",
            "Epoch 54/100\n",
            "508/508 [==============================] - 29s 57ms/step - loss: 1.1873 - accuracy: 0.7021 - val_loss: 1.1412 - val_accuracy: 0.7150\n",
            "Epoch 55/100\n",
            "508/508 [==============================] - 28s 54ms/step - loss: 1.2022 - accuracy: 0.6957 - val_loss: 1.1969 - val_accuracy: 0.6992\n",
            "Epoch 56/100\n",
            "508/508 [==============================] - 27s 53ms/step - loss: 1.2185 - accuracy: 0.6913 - val_loss: 1.1033 - val_accuracy: 0.7246\n",
            "Epoch 57/100\n",
            "508/508 [==============================] - 27s 53ms/step - loss: 1.1950 - accuracy: 0.6991 - val_loss: 1.0785 - val_accuracy: 0.7319\n",
            "Epoch 58/100\n",
            "508/508 [==============================] - 27s 52ms/step - loss: 1.1789 - accuracy: 0.7036 - val_loss: 1.1326 - val_accuracy: 0.7146\n",
            "Epoch 59/100\n",
            "508/508 [==============================] - 27s 54ms/step - loss: 1.1899 - accuracy: 0.6998 - val_loss: 1.1110 - val_accuracy: 0.7203\n",
            "Epoch 60/100\n",
            "508/508 [==============================] - 28s 54ms/step - loss: 1.1979 - accuracy: 0.6962 - val_loss: 1.1150 - val_accuracy: 0.7208\n",
            "Epoch 61/100\n",
            "508/508 [==============================] - 28s 56ms/step - loss: 1.2285 - accuracy: 0.6888 - val_loss: 1.1540 - val_accuracy: 0.7105\n",
            "Epoch 62/100\n",
            "508/508 [==============================] - 30s 60ms/step - loss: 1.1964 - accuracy: 0.6967 - val_loss: 1.1033 - val_accuracy: 0.7252\n",
            "Epoch 63/100\n",
            "508/508 [==============================] - 30s 59ms/step - loss: 1.1888 - accuracy: 0.7001 - val_loss: 1.0946 - val_accuracy: 0.7260\n",
            "Epoch 64/100\n",
            "508/508 [==============================] - 30s 60ms/step - loss: 1.1733 - accuracy: 0.7011 - val_loss: 1.0718 - val_accuracy: 0.7329\n",
            "Epoch 65/100\n",
            "508/508 [==============================] - 31s 61ms/step - loss: 1.1800 - accuracy: 0.7021 - val_loss: 1.0833 - val_accuracy: 0.7305\n",
            "Epoch 66/100\n",
            "508/508 [==============================] - 29s 56ms/step - loss: 1.1486 - accuracy: 0.7099 - val_loss: 1.0610 - val_accuracy: 0.7372\n",
            "Epoch 67/100\n",
            "508/508 [==============================] - 29s 57ms/step - loss: 1.1681 - accuracy: 0.7047 - val_loss: 1.0947 - val_accuracy: 0.7271\n",
            "Epoch 68/100\n",
            "508/508 [==============================] - 30s 58ms/step - loss: 1.1783 - accuracy: 0.7030 - val_loss: 1.0879 - val_accuracy: 0.7274\n",
            "Epoch 69/100\n",
            "508/508 [==============================] - 30s 60ms/step - loss: 1.1588 - accuracy: 0.7080 - val_loss: 1.0951 - val_accuracy: 0.7240\n",
            "Epoch 70/100\n",
            "508/508 [==============================] - 28s 55ms/step - loss: 1.1352 - accuracy: 0.7129 - val_loss: 1.1082 - val_accuracy: 0.7232\n",
            "Epoch 71/100\n",
            "508/508 [==============================] - 29s 57ms/step - loss: 1.1617 - accuracy: 0.7067 - val_loss: 1.0860 - val_accuracy: 0.7293\n",
            "Epoch 72/100\n",
            "508/508 [==============================] - 28s 56ms/step - loss: 1.1920 - accuracy: 0.6987 - val_loss: 1.0872 - val_accuracy: 0.7296\n",
            "Epoch 73/100\n",
            "508/508 [==============================] - 29s 57ms/step - loss: 1.1689 - accuracy: 0.7028 - val_loss: 1.0647 - val_accuracy: 0.7326\n",
            "Epoch 74/100\n",
            "508/508 [==============================] - 29s 57ms/step - loss: 1.1460 - accuracy: 0.7101 - val_loss: 1.0430 - val_accuracy: 0.7415\n",
            "Epoch 75/100\n",
            "508/508 [==============================] - 30s 59ms/step - loss: 1.1214 - accuracy: 0.7160 - val_loss: 1.0253 - val_accuracy: 0.7450\n",
            "Epoch 76/100\n",
            "508/508 [==============================] - 29s 57ms/step - loss: 1.1428 - accuracy: 0.7099 - val_loss: 1.0619 - val_accuracy: 0.7347\n",
            "Epoch 77/100\n",
            "508/508 [==============================] - 29s 57ms/step - loss: 1.1550 - accuracy: 0.7064 - val_loss: 1.0577 - val_accuracy: 0.7355\n",
            "Epoch 78/100\n",
            "508/508 [==============================] - 29s 56ms/step - loss: 1.1372 - accuracy: 0.7124 - val_loss: 1.1040 - val_accuracy: 0.7226\n",
            "Epoch 79/100\n",
            "508/508 [==============================] - 28s 55ms/step - loss: 1.1544 - accuracy: 0.7079 - val_loss: 1.0803 - val_accuracy: 0.7314\n",
            "Epoch 80/100\n",
            "508/508 [==============================] - 28s 55ms/step - loss: 1.1852 - accuracy: 0.7012 - val_loss: 1.1472 - val_accuracy: 0.7132\n",
            "Epoch 81/100\n",
            "508/508 [==============================] - 28s 56ms/step - loss: 1.1891 - accuracy: 0.6995 - val_loss: 1.0436 - val_accuracy: 0.7386\n",
            "Epoch 82/100\n",
            "508/508 [==============================] - 28s 55ms/step - loss: 1.1216 - accuracy: 0.7166 - val_loss: 1.0321 - val_accuracy: 0.7442\n",
            "Epoch 83/100\n",
            "508/508 [==============================] - 29s 57ms/step - loss: 1.1443 - accuracy: 0.7111 - val_loss: 1.0662 - val_accuracy: 0.7336\n",
            "Epoch 84/100\n",
            "508/508 [==============================] - 30s 59ms/step - loss: 1.1105 - accuracy: 0.7187 - val_loss: 1.0437 - val_accuracy: 0.7390\n",
            "Epoch 85/100\n",
            "508/508 [==============================] - 28s 55ms/step - loss: 1.1113 - accuracy: 0.7200 - val_loss: 1.0479 - val_accuracy: 0.7383\n",
            "Epoch 86/100\n",
            "508/508 [==============================] - 29s 56ms/step - loss: 1.1312 - accuracy: 0.7131 - val_loss: 1.0475 - val_accuracy: 0.7361\n",
            "Epoch 87/100\n",
            "508/508 [==============================] - 27s 54ms/step - loss: 1.1250 - accuracy: 0.7138 - val_loss: 1.0735 - val_accuracy: 0.7296\n",
            "Epoch 88/100\n",
            "508/508 [==============================] - 29s 57ms/step - loss: 1.1356 - accuracy: 0.7117 - val_loss: 1.0388 - val_accuracy: 0.7407\n",
            "Epoch 89/100\n",
            "508/508 [==============================] - 28s 56ms/step - loss: 1.1402 - accuracy: 0.7105 - val_loss: 1.0417 - val_accuracy: 0.7404\n",
            "Epoch 90/100\n",
            "508/508 [==============================] - 28s 55ms/step - loss: 1.1187 - accuracy: 0.7180 - val_loss: 1.0427 - val_accuracy: 0.7383\n",
            "Epoch 91/100\n",
            "508/508 [==============================] - 28s 54ms/step - loss: 1.1234 - accuracy: 0.7160 - val_loss: 1.0597 - val_accuracy: 0.7343\n",
            "Epoch 92/100\n",
            "508/508 [==============================] - 28s 56ms/step - loss: 1.1175 - accuracy: 0.7164 - val_loss: 1.0269 - val_accuracy: 0.7431\n",
            "Epoch 93/100\n",
            "508/508 [==============================] - 28s 55ms/step - loss: 1.1080 - accuracy: 0.7179 - val_loss: 1.0139 - val_accuracy: 0.7482\n",
            "Epoch 94/100\n",
            "508/508 [==============================] - 27s 53ms/step - loss: 1.1200 - accuracy: 0.7152 - val_loss: 1.0641 - val_accuracy: 0.7320\n",
            "Epoch 95/100\n",
            "508/508 [==============================] - 27s 53ms/step - loss: 1.1595 - accuracy: 0.7042 - val_loss: 1.0407 - val_accuracy: 0.7393\n",
            "Epoch 96/100\n",
            "508/508 [==============================] - 31s 61ms/step - loss: 1.1097 - accuracy: 0.7164 - val_loss: 0.9910 - val_accuracy: 0.7531\n",
            "Epoch 97/100\n",
            "508/508 [==============================] - 29s 57ms/step - loss: 1.0882 - accuracy: 0.7237 - val_loss: 0.9981 - val_accuracy: 0.7503\n",
            "Epoch 98/100\n",
            "508/508 [==============================] - 29s 56ms/step - loss: 1.0806 - accuracy: 0.7253 - val_loss: 1.0027 - val_accuracy: 0.7498\n",
            "Epoch 99/100\n",
            "508/508 [==============================] - 29s 56ms/step - loss: 1.0836 - accuracy: 0.7246 - val_loss: 1.0235 - val_accuracy: 0.7446\n",
            "Epoch 100/100\n",
            "508/508 [==============================] - 29s 57ms/step - loss: 1.1068 - accuracy: 0.7188 - val_loss: 1.0515 - val_accuracy: 0.7358\n"
          ]
        }
      ],
      "source": [
        "model = load_model('/Users/au648304/Documents/TextGeneration/saga_300epoch.h5')\n",
        "tokenizer = load(open('/Users/au648304/Documents/TextGeneration/saga_300epoch','rb'))\n",
        "history_accuracy = load(open('/Users/au648304/Documents/TextGeneration/saga_300epoch_history_accuracy','rb'))\n",
        "history_valaccuracy = load(open('/Users/au648304/Documents/TextGeneration/saga_300epoch_history_valaccuracy','rb'))\n",
        "\n",
        "history = model.fit(X, y, batch_size=128, epochs=100,verbose=1, validation_data=(X,y))\n",
        "\n",
        "accuracy = history_accuracy + history.history['accuracy']\n",
        "valaccuracy = history_valaccuracy + history.history['val_accuracy']\n",
        "\n",
        "model.save('/Users/au648304/Documents/TextGeneration/saga_400epoch.h5')\n",
        "dump(tokenizer, open('/Users/au648304/Documents/TextGeneration/saga_400epoch', 'wb'))\n",
        "dump(accuracy, open('/Users/au648304/Documents/TextGeneration/saga_400epoch_history_accuracy', 'wb'))\n",
        "dump(valaccuracy, open('/Users/au648304/Documents/TextGeneration/saga_400epoch_history_valaccuracy', 'wb'))"
      ]
    },
    {
      "cell_type": "code",
      "execution_count": 36,
      "metadata": {},
      "outputs": [],
      "source": [
        "dump(history.history['accuracy'], open('/Users/au648304/Documents/TextGeneration/saga_2epoch_3_history_accuracy', 'wb'))\n",
        "dump(history.history['val_accuracy'], open('/Users/au648304/Documents/TextGeneration/saga_2epoch_3_history_valaccuracy', 'wb'))"
      ]
    },
    {
      "cell_type": "code",
      "execution_count": 37,
      "metadata": {},
      "outputs": [],
      "source": [
        "history_accuracy2 = load(open('/Users/au648304/Documents/TextGeneration/saga_2epoch_3_history_accuracy','rb'))\n",
        "history_valaccuracy2 = load(open('/Users/au648304/Documents/TextGeneration/saga_2epoch_3_history_valaccuracy','rb'))"
      ]
    },
    {
      "cell_type": "code",
      "execution_count": 38,
      "metadata": {},
      "outputs": [
        {
          "name": "stdout",
          "output_type": "stream",
          "text": [
            "dict_keys(['loss', 'accuracy', 'val_loss', 'val_accuracy'])\n"
          ]
        },
        {
          "data": {
            "image/png": "[encoded data removed]",
            "text/plain": [
              "<Figure size 640x480 with 1 Axes>"
            ]
          },
          "metadata": {},
          "output_type": "display_data"
        }
      ],
      "source": [
        "import matplotlib.pyplot as plt\n",
        "%matplotlib inline\n",
        "print(history.history.keys())\n",
        "# summarize history for accuracy\n",
        "plt.plot(history_accuracy2)\n",
        "plt.plot(history_valaccuracy2)\n",
        "plt.title('model accuracy')\n",
        "plt.ylabel('accuracy')\n",
        "plt.xlabel('epoch')\n",
        "plt.legend(['train', 'test'], loc='upper left')\n",
        "plt.show()"
      ]
    },
    {
      "cell_type": "markdown",
      "metadata": {
        "id": "BEDubKCSjKpq"
      },
      "source": [
        "## Gem modellen"
      ]
    },
    {
      "cell_type": "code",
      "execution_count": null,
      "metadata": {
        "id": "ODoIpoCzjMGZ"
      },
      "outputs": [],
      "source": [
        "from pickle import dump, load"
      ]
    },
    {
      "cell_type": "code",
      "execution_count": null,
      "metadata": {
        "id": "ImpYkb2kjPhs"
      },
      "outputs": [],
      "source": [
        "model.save('/content/sample_data/saga_10epoch_2.h5')\n",
        "# save the tokenizer\n",
        "dump(tokenizer, open('/content/sample_data/saga_10epoch_2', 'wb'))"
      ]
    },
    {
      "cell_type": "markdown",
      "metadata": {
        "id": "lv0092G5jeU7"
      },
      "source": [
        "# Generer ny tekst\n",
        "## Modellen er trænet på 10 epochs"
      ]
    },
    {
      "cell_type": "code",
      "execution_count": null,
      "metadata": {
        "id": "m1NJpVlgjgN4"
      },
      "outputs": [],
      "source": [
        "from random import randint\n",
        "from pickle import load\n",
        "from keras.models import load_model\n",
        "from keras.utils import pad_sequences"
      ]
    },
    {
      "cell_type": "code",
      "execution_count": null,
      "metadata": {
        "id": "_PE15byyjimB"
      },
      "outputs": [],
      "source": [
        "def generate_text(model, tokenizer, seq_len, seed_text, num_gen_words):\n",
        "    '''\n",
        "    INPUTS:\n",
        "    model : model that was trained on text data\n",
        "    tokenizer : tokenizer that was fit on text data\n",
        "    seq_len : length of training sequence\n",
        "    seed_text : raw string text to serve as the seed\n",
        "    num_gen_words : number of words to be generated by model\n",
        "    '''\n",
        "\n",
        "    # Final Output\n",
        "    output_text = []\n",
        "\n",
        "    # Intial Seed Sequence\n",
        "    input_text = seed_text\n",
        "\n",
        "    # Create num_gen_words\n",
        "    for i in range(num_gen_words):\n",
        "\n",
        "        # Take the input text string and encode it to a sequence\n",
        "        encoded_text = tokenizer.texts_to_sequences([input_text])[0]\n",
        "\n",
        "        # Pad sequences to our trained rate (50 words in the video)\n",
        "        pad_encoded = pad_sequences([encoded_text], maxlen=seq_len, truncating='pre')\n",
        "\n",
        "        # Predict Class Probabilities for each word\n",
        "        predict = model.predict(pad_encoded, verbose=0)[0]\n",
        "        pred_word_ind = predict.argmax()\n",
        "        # pred_word_ind = model.predict_classes(pad_encoded, verbose=0)[0]\n",
        "\n",
        "        # Grab word\n",
        "        pred_word = tokenizer.index_word[pred_word_ind]\n",
        "\n",
        "        # Update the sequence of input text (shifting one over with the new word)\n",
        "        input_text += ' ' + pred_word\n",
        "\n",
        "        output_text.append(pred_word)\n",
        "\n",
        "    # Make it look like a sentence.\n",
        "    return ' '.join(output_text)"
      ]
    },
    {
      "cell_type": "code",
      "execution_count": null,
      "metadata": {
        "colab": {
          "base_uri": "https://localhost:8080/",
          "height": 53
        },
        "id": "7YB_wFiRkmka",
        "outputId": "74097439-a7d1-4265-b0f4-4cf01afaaf3d"
      },
      "outputs": [
        {
          "data": {
            "application/vnd.google.colaboratory.intrinsic+json": {
              "type": "string"
            },
            "text/plain": [
              "'han var en dygtig bonde og havde en stor ejendom han var snu mand og morbror til trond i gøta færingernes tingsted lå på strømø hvor'"
            ]
          },
          "execution_count": 80,
          "metadata": {},
          "output_type": "execute_result"
        }
      ],
      "source": [
        "import random\n",
        "random.seed(101)\n",
        "random_pick = random.randint(0,len(text_sequences))\n",
        "random_seed_text = text_sequences[random_pick]\n",
        "seed_text = ' '.join(random_seed_text)\n",
        "seed_text"
      ]
    },
    {
      "cell_type": "code",
      "execution_count": null,
      "metadata": {
        "colab": {
          "base_uri": "https://localhost:8080/",
          "height": 35
        },
        "id": "XgcpStDekv7n",
        "outputId": "ec0a8ff3-8567-43e5-ca68-261048ac94cf"
      },
      "outputs": [
        {
          "data": {
            "application/vnd.google.colaboratory.intrinsic+json": {
              "type": "string"
            },
            "text/plain": [
              "'han var en mand og de var en mand og var en mand og de var en mand og var en mand og de var'"
            ]
          },
          "execution_count": 90,
          "metadata": {},
          "output_type": "execute_result"
        }
      ],
      "source": [
        "model = load_model('/content/sample_data/saga_10epoch.h5')\n",
        "tokenizer = load(open('/content/sample_data/saga_10epoch','rb'))\n",
        "\n",
        "generate_text(model, tokenizer, seq_len, seed_text, num_gen_words=25)"
      ]
    },
    {
      "cell_type": "code",
      "execution_count": null,
      "metadata": {
        "colab": {
          "base_uri": "https://localhost:8080/"
        },
        "id": "zg-qFIm2k13P",
        "outputId": "24396c58-3382-4e85-c346-9127ae83d4ff"
      },
      "outputs": [
        {
          "name": "stdout",
          "output_type": "stream",
          "text": [
            "2031/2031 [==============================] - 33s 16ms/step - loss: 5.3582 - accuracy: 0.1080\n"
          ]
        },
        {
          "data": {
            "text/plain": [
              "[5.358155727386475, 0.10803281515836716]"
            ]
          },
          "execution_count": 97,
          "metadata": {},
          "output_type": "execute_result"
        }
      ],
      "source": [
        "model.evaluate(X, y)"
      ]
    },
    {
      "cell_type": "code",
      "execution_count": null,
      "metadata": {
        "id": "T5a9ZabJl1PM"
      },
      "outputs": [],
      "source": []
    },
    {
      "cell_type": "markdown",
      "metadata": {
        "id": "AnGzv-JOnPKW"
      },
      "source": [
        "# Træn den på 300 epochs"
      ]
    },
    {
      "cell_type": "code",
      "execution_count": 101,
      "metadata": {
        "colab": {
          "base_uri": "https://localhost:8080/"
        },
        "id": "c595F4StnRB3",
        "outputId": "471238f0-9ffa-4e98-e852-ce572d9bc13c"
      },
      "outputs": [
        {
          "name": "stdout",
          "output_type": "stream",
          "text": [
            "Epoch 1/300\n",
            "254/254 [==============================] - 50s 187ms/step - loss: 5.3900 - accuracy: 0.1070\n",
            "Epoch 2/300\n",
            "254/254 [==============================] - 40s 157ms/step - loss: 5.3280 - accuracy: 0.1096\n",
            "Epoch 3/300\n",
            "254/254 [==============================] - 41s 162ms/step - loss: 5.2651 - accuracy: 0.1128\n",
            "Epoch 4/300\n",
            "254/254 [==============================] - 41s 161ms/step - loss: 5.2045 - accuracy: 0.1169\n",
            "Epoch 5/300\n",
            "254/254 [==============================] - 40s 155ms/step - loss: 5.1453 - accuracy: 0.1180\n",
            "Epoch 6/300\n",
            "254/254 [==============================] - 41s 162ms/step - loss: 5.0861 - accuracy: 0.1221\n",
            "Epoch 7/300\n",
            "254/254 [==============================] - 41s 162ms/step - loss: 5.0294 - accuracy: 0.1247\n",
            "Epoch 8/300\n",
            "254/254 [==============================] - 42s 164ms/step - loss: 4.9762 - accuracy: 0.1261\n",
            "Epoch 9/300\n",
            "254/254 [==============================] - 42s 164ms/step - loss: 4.9204 - accuracy: 0.1286\n",
            "Epoch 10/300\n",
            "254/254 [==============================] - 40s 156ms/step - loss: 4.8668 - accuracy: 0.1320\n",
            "Epoch 11/300\n",
            "254/254 [==============================] - 41s 161ms/step - loss: 4.8152 - accuracy: 0.1344\n",
            "Epoch 12/300\n",
            "254/254 [==============================] - 42s 164ms/step - loss: 4.7613 - accuracy: 0.1360\n",
            "Epoch 13/300\n",
            "254/254 [==============================] - 40s 157ms/step - loss: 4.7092 - accuracy: 0.1391\n",
            "Epoch 14/300\n",
            "254/254 [==============================] - 42s 163ms/step - loss: 4.6596 - accuracy: 0.1407\n",
            "Epoch 15/300\n",
            "254/254 [==============================] - 44s 173ms/step - loss: 4.6109 - accuracy: 0.1430\n",
            "Epoch 16/300\n",
            "254/254 [==============================] - 41s 162ms/step - loss: 4.5666 - accuracy: 0.1447\n",
            "Epoch 17/300\n",
            "254/254 [==============================] - 40s 157ms/step - loss: 4.5234 - accuracy: 0.1482\n",
            "Epoch 18/300\n",
            "254/254 [==============================] - 42s 164ms/step - loss: 4.4780 - accuracy: 0.1505\n",
            "Epoch 19/300\n",
            "254/254 [==============================] - 42s 165ms/step - loss: 4.4371 - accuracy: 0.1533\n",
            "Epoch 20/300\n",
            "254/254 [==============================] - 39s 155ms/step - loss: 4.3970 - accuracy: 0.1560\n",
            "Epoch 21/300\n",
            "254/254 [==============================] - 42s 164ms/step - loss: 4.3567 - accuracy: 0.1583\n",
            "Epoch 22/300\n",
            "254/254 [==============================] - 42s 164ms/step - loss: 4.3188 - accuracy: 0.1626\n",
            "Epoch 23/300\n",
            "254/254 [==============================] - 39s 155ms/step - loss: 4.2855 - accuracy: 0.1649\n",
            "Epoch 24/300\n",
            "254/254 [==============================] - 42s 164ms/step - loss: 4.2458 - accuracy: 0.1686\n",
            "Epoch 25/300\n",
            "254/254 [==============================] - 42s 165ms/step - loss: 4.2115 - accuracy: 0.1702\n",
            "Epoch 26/300\n",
            "254/254 [==============================] - 40s 157ms/step - loss: 4.1748 - accuracy: 0.1741\n",
            "Epoch 27/300\n",
            "254/254 [==============================] - 42s 165ms/step - loss: 4.1439 - accuracy: 0.1772\n",
            "Epoch 28/300\n",
            "254/254 [==============================] - 42s 166ms/step - loss: 4.1097 - accuracy: 0.1800\n",
            "Epoch 29/300\n",
            "254/254 [==============================] - 40s 159ms/step - loss: 4.0742 - accuracy: 0.1833\n",
            "Epoch 30/300\n",
            "254/254 [==============================] - 41s 162ms/step - loss: 4.0443 - accuracy: 0.1866\n",
            "Epoch 31/300\n",
            "254/254 [==============================] - 42s 166ms/step - loss: 4.0154 - accuracy: 0.1901\n",
            "Epoch 32/300\n",
            "254/254 [==============================] - 42s 165ms/step - loss: 3.9920 - accuracy: 0.1925\n",
            "Epoch 33/300\n",
            "254/254 [==============================] - 40s 159ms/step - loss: 3.9577 - accuracy: 0.1960\n",
            "Epoch 34/300\n",
            "254/254 [==============================] - 42s 165ms/step - loss: 3.9318 - accuracy: 0.2008\n",
            "Epoch 35/300\n",
            "254/254 [==============================] - 42s 167ms/step - loss: 3.9035 - accuracy: 0.2024\n",
            "Epoch 36/300\n",
            "254/254 [==============================] - 41s 161ms/step - loss: 3.8761 - accuracy: 0.2065\n",
            "Epoch 37/300\n",
            "254/254 [==============================] - 41s 162ms/step - loss: 3.8464 - accuracy: 0.2095\n",
            "Epoch 38/300\n",
            "254/254 [==============================] - 42s 165ms/step - loss: 3.8224 - accuracy: 0.2123\n",
            "Epoch 39/300\n",
            "254/254 [==============================] - 42s 167ms/step - loss: 3.8007 - accuracy: 0.2141\n",
            "Epoch 40/300\n",
            "254/254 [==============================] - 40s 159ms/step - loss: 3.7747 - accuracy: 0.2187\n",
            "Epoch 41/300\n",
            "254/254 [==============================] - 42s 167ms/step - loss: 3.7543 - accuracy: 0.2204\n",
            "Epoch 42/300\n",
            "254/254 [==============================] - 43s 168ms/step - loss: 3.7296 - accuracy: 0.2235\n",
            "Epoch 43/300\n",
            "254/254 [==============================] - 42s 166ms/step - loss: 3.7084 - accuracy: 0.2262\n",
            "Epoch 44/300\n",
            "254/254 [==============================] - 41s 160ms/step - loss: 3.6826 - accuracy: 0.2291\n",
            "Epoch 45/300\n",
            "254/254 [==============================] - 42s 167ms/step - loss: 3.6656 - accuracy: 0.2344\n",
            "Epoch 46/300\n",
            "254/254 [==============================] - 42s 166ms/step - loss: 3.6428 - accuracy: 0.2339\n",
            "Epoch 47/300\n",
            "254/254 [==============================] - 42s 166ms/step - loss: 3.6242 - accuracy: 0.2363\n",
            "Epoch 48/300\n",
            "254/254 [==============================] - 40s 157ms/step - loss: 3.6002 - accuracy: 0.2416\n",
            "Epoch 49/300\n",
            "254/254 [==============================] - 42s 164ms/step - loss: 3.5796 - accuracy: 0.2435\n",
            "Epoch 50/300\n",
            "254/254 [==============================] - 42s 164ms/step - loss: 3.5641 - accuracy: 0.2444\n",
            "Epoch 51/300\n",
            "254/254 [==============================] - 39s 155ms/step - loss: 3.5443 - accuracy: 0.2476\n",
            "Epoch 52/300\n",
            "254/254 [==============================] - 42s 164ms/step - loss: 3.5211 - accuracy: 0.2523\n",
            "Epoch 53/300\n",
            "254/254 [==============================] - 42s 164ms/step - loss: 3.5053 - accuracy: 0.2532\n",
            "Epoch 54/300\n",
            "254/254 [==============================] - 39s 155ms/step - loss: 3.4886 - accuracy: 0.2562\n",
            "Epoch 55/300\n",
            "254/254 [==============================] - 42s 165ms/step - loss: 3.4666 - accuracy: 0.2584\n",
            "Epoch 56/300\n",
            "254/254 [==============================] - 42s 164ms/step - loss: 3.4516 - accuracy: 0.2611\n",
            "Epoch 57/300\n",
            "254/254 [==============================] - 40s 157ms/step - loss: 3.4286 - accuracy: 0.2647\n",
            "Epoch 58/300\n",
            "254/254 [==============================] - 41s 163ms/step - loss: 3.4141 - accuracy: 0.2657\n",
            "Epoch 59/300\n",
            "254/254 [==============================] - 42s 165ms/step - loss: 3.3934 - accuracy: 0.2706\n",
            "Epoch 60/300\n",
            "254/254 [==============================] - 41s 160ms/step - loss: 3.3888 - accuracy: 0.2705\n",
            "Epoch 61/300\n",
            "254/254 [==============================] - 41s 161ms/step - loss: 3.3625 - accuracy: 0.2750\n",
            "Epoch 62/300\n",
            "254/254 [==============================] - 41s 163ms/step - loss: 3.3422 - accuracy: 0.2782\n",
            "Epoch 63/300\n",
            "254/254 [==============================] - 41s 161ms/step - loss: 3.3311 - accuracy: 0.2807\n",
            "Epoch 64/300\n",
            "254/254 [==============================] - 40s 156ms/step - loss: 3.3178 - accuracy: 0.2797\n",
            "Epoch 65/300\n",
            "254/254 [==============================] - 42s 164ms/step - loss: 3.2982 - accuracy: 0.2827\n",
            "Epoch 66/300\n",
            "254/254 [==============================] - 41s 162ms/step - loss: 3.2833 - accuracy: 0.2865\n",
            "Epoch 67/300\n",
            "254/254 [==============================] - 41s 160ms/step - loss: 3.2682 - accuracy: 0.2891\n",
            "Epoch 68/300\n",
            "254/254 [==============================] - 41s 163ms/step - loss: 3.2523 - accuracy: 0.2924\n",
            "Epoch 69/300\n",
            "254/254 [==============================] - 41s 163ms/step - loss: 3.2437 - accuracy: 0.2931\n",
            "Epoch 70/300\n",
            "254/254 [==============================] - 39s 154ms/step - loss: 3.2234 - accuracy: 0.2961\n",
            "Epoch 71/300\n",
            "254/254 [==============================] - 41s 163ms/step - loss: 3.2047 - accuracy: 0.2992\n",
            "Epoch 72/300\n",
            "254/254 [==============================] - 43s 169ms/step - loss: 3.1951 - accuracy: 0.2992\n",
            "Epoch 73/300\n",
            "254/254 [==============================] - 42s 165ms/step - loss: 3.1809 - accuracy: 0.3018\n",
            "Epoch 74/300\n",
            "254/254 [==============================] - 41s 162ms/step - loss: 3.1628 - accuracy: 0.3044\n",
            "Epoch 75/300\n",
            "254/254 [==============================] - 42s 164ms/step - loss: 3.1491 - accuracy: 0.3065\n",
            "Epoch 76/300\n",
            "254/254 [==============================] - 42s 166ms/step - loss: 3.1357 - accuracy: 0.3098\n",
            "Epoch 77/300\n",
            "254/254 [==============================] - 40s 157ms/step - loss: 3.1221 - accuracy: 0.3115\n",
            "Epoch 78/300\n",
            "254/254 [==============================] - 42s 166ms/step - loss: 3.1047 - accuracy: 0.3157\n",
            "Epoch 79/300\n",
            "254/254 [==============================] - 42s 167ms/step - loss: 3.0919 - accuracy: 0.3165\n",
            "Epoch 80/300\n",
            "254/254 [==============================] - 41s 161ms/step - loss: 3.0739 - accuracy: 0.3189\n",
            "Epoch 81/300\n",
            "254/254 [==============================] - 41s 161ms/step - loss: 3.0671 - accuracy: 0.3215\n",
            "Epoch 82/300\n",
            "254/254 [==============================] - 42s 167ms/step - loss: 3.0508 - accuracy: 0.3252\n",
            "Epoch 83/300\n",
            "254/254 [==============================] - 42s 167ms/step - loss: 3.0344 - accuracy: 0.3256\n",
            "Epoch 84/300\n",
            "254/254 [==============================] - 40s 157ms/step - loss: 3.0256 - accuracy: 0.3264\n",
            "Epoch 85/300\n",
            "254/254 [==============================] - 42s 167ms/step - loss: 3.0209 - accuracy: 0.3276\n",
            "Epoch 86/300\n",
            "254/254 [==============================] - 42s 166ms/step - loss: 3.0025 - accuracy: 0.3301\n",
            "Epoch 87/300\n",
            "254/254 [==============================] - 42s 166ms/step - loss: 2.9832 - accuracy: 0.3354\n",
            "Epoch 88/300\n",
            "254/254 [==============================] - 40s 159ms/step - loss: 2.9730 - accuracy: 0.3365\n",
            "Epoch 89/300\n",
            "254/254 [==============================] - 42s 167ms/step - loss: 2.9612 - accuracy: 0.3407\n",
            "Epoch 90/300\n",
            "254/254 [==============================] - 42s 166ms/step - loss: 2.9490 - accuracy: 0.3406\n",
            "Epoch 91/300\n",
            "254/254 [==============================] - 40s 157ms/step - loss: 2.9339 - accuracy: 0.3430\n",
            "Epoch 92/300\n",
            "254/254 [==============================] - 42s 164ms/step - loss: 2.9221 - accuracy: 0.3445\n",
            "Epoch 93/300\n",
            "254/254 [==============================] - 42s 167ms/step - loss: 2.9025 - accuracy: 0.3492\n",
            "Epoch 94/300\n",
            "254/254 [==============================] - 42s 167ms/step - loss: 2.8952 - accuracy: 0.3501\n",
            "Epoch 95/300\n",
            "254/254 [==============================] - 40s 158ms/step - loss: 2.8846 - accuracy: 0.3513\n",
            "Epoch 96/300\n",
            "254/254 [==============================] - 42s 165ms/step - loss: 2.8760 - accuracy: 0.3540\n",
            "Epoch 97/300\n",
            "254/254 [==============================] - 42s 166ms/step - loss: 2.8609 - accuracy: 0.3547\n",
            "Epoch 98/300\n",
            "254/254 [==============================] - 41s 162ms/step - loss: 2.8509 - accuracy: 0.3578\n",
            "Epoch 99/300\n",
            "254/254 [==============================] - 41s 161ms/step - loss: 2.8415 - accuracy: 0.3583\n",
            "Epoch 100/300\n",
            "254/254 [==============================] - 42s 166ms/step - loss: 2.8313 - accuracy: 0.3611\n",
            "Epoch 101/300\n",
            "254/254 [==============================] - 42s 166ms/step - loss: 2.8233 - accuracy: 0.3605\n",
            "Epoch 102/300\n",
            "254/254 [==============================] - 40s 158ms/step - loss: 2.8089 - accuracy: 0.3658\n",
            "Epoch 103/300\n",
            "254/254 [==============================] - 42s 165ms/step - loss: 2.8002 - accuracy: 0.3653\n",
            "Epoch 104/300\n",
            "254/254 [==============================] - 42s 165ms/step - loss: 2.7842 - accuracy: 0.3701\n",
            "Epoch 105/300\n",
            "254/254 [==============================] - 42s 165ms/step - loss: 2.7710 - accuracy: 0.3711\n",
            "Epoch 106/300\n",
            "254/254 [==============================] - 40s 157ms/step - loss: 2.7566 - accuracy: 0.3731\n",
            "Epoch 107/300\n",
            "254/254 [==============================] - 42s 165ms/step - loss: 2.7503 - accuracy: 0.3760\n",
            "Epoch 108/300\n",
            "254/254 [==============================] - 42s 166ms/step - loss: 2.7443 - accuracy: 0.3751\n",
            "Epoch 109/300\n",
            "254/254 [==============================] - 41s 161ms/step - loss: 2.7379 - accuracy: 0.3776\n",
            "Epoch 110/300\n",
            "254/254 [==============================] - 41s 162ms/step - loss: 2.7195 - accuracy: 0.3806\n",
            "Epoch 111/300\n",
            "254/254 [==============================] - 42s 167ms/step - loss: 2.7101 - accuracy: 0.3823\n",
            "Epoch 112/300\n",
            "254/254 [==============================] - 42s 164ms/step - loss: 2.7041 - accuracy: 0.3825\n",
            "Epoch 113/300\n",
            "254/254 [==============================] - 40s 158ms/step - loss: 2.6901 - accuracy: 0.3849\n",
            "Epoch 114/300\n",
            "254/254 [==============================] - 42s 164ms/step - loss: 2.6756 - accuracy: 0.3890\n",
            "Epoch 115/300\n",
            "254/254 [==============================] - 42s 165ms/step - loss: 2.6657 - accuracy: 0.3908\n",
            "Epoch 116/300\n",
            "254/254 [==============================] - 40s 156ms/step - loss: 2.6568 - accuracy: 0.3920\n",
            "Epoch 117/300\n",
            "254/254 [==============================] - 42s 165ms/step - loss: 2.6441 - accuracy: 0.3941\n",
            "Epoch 118/300\n",
            "254/254 [==============================] - 42s 166ms/step - loss: 2.6412 - accuracy: 0.3940\n",
            "Epoch 119/300\n",
            "254/254 [==============================] - 40s 156ms/step - loss: 2.6289 - accuracy: 0.3958\n",
            "Epoch 120/300\n",
            "254/254 [==============================] - 42s 164ms/step - loss: 2.6217 - accuracy: 0.3967\n",
            "Epoch 121/300\n",
            "254/254 [==============================] - 43s 168ms/step - loss: 2.6092 - accuracy: 0.4005\n",
            "Epoch 122/300\n",
            "254/254 [==============================] - 43s 170ms/step - loss: 2.5997 - accuracy: 0.4019\n",
            "Epoch 123/300\n",
            "254/254 [==============================] - 42s 166ms/step - loss: 2.5850 - accuracy: 0.4053\n",
            "Epoch 124/300\n",
            "254/254 [==============================] - 43s 171ms/step - loss: 2.5789 - accuracy: 0.4070\n",
            "Epoch 125/300\n",
            "254/254 [==============================] - 42s 166ms/step - loss: 2.5691 - accuracy: 0.4092\n",
            "Epoch 126/300\n",
            "254/254 [==============================] - 42s 166ms/step - loss: 2.5579 - accuracy: 0.4099\n",
            "Epoch 127/300\n",
            "254/254 [==============================] - 41s 161ms/step - loss: 2.5716 - accuracy: 0.4072\n",
            "Epoch 128/300\n",
            "254/254 [==============================] - 41s 162ms/step - loss: 2.5438 - accuracy: 0.4120\n",
            "Epoch 129/300\n",
            "254/254 [==============================] - 42s 166ms/step - loss: 2.5324 - accuracy: 0.4151\n",
            "Epoch 130/300\n",
            "254/254 [==============================] - 42s 166ms/step - loss: 2.5235 - accuracy: 0.4171\n",
            "Epoch 131/300\n",
            "254/254 [==============================] - 40s 158ms/step - loss: 2.5055 - accuracy: 0.4214\n",
            "Epoch 132/300\n",
            "254/254 [==============================] - 42s 167ms/step - loss: 2.5011 - accuracy: 0.4214\n",
            "Epoch 133/300\n",
            "254/254 [==============================] - 42s 167ms/step - loss: 2.4947 - accuracy: 0.4223\n",
            "Epoch 134/300\n",
            "254/254 [==============================] - 42s 164ms/step - loss: 2.4882 - accuracy: 0.4212\n",
            "Epoch 135/300\n",
            "254/254 [==============================] - 41s 161ms/step - loss: 2.4751 - accuracy: 0.4240\n",
            "Epoch 136/300\n",
            "254/254 [==============================] - 42s 167ms/step - loss: 2.4752 - accuracy: 0.4276\n",
            "Epoch 137/300\n",
            "254/254 [==============================] - 42s 165ms/step - loss: 2.4617 - accuracy: 0.4285\n",
            "Epoch 138/300\n",
            "254/254 [==============================] - 40s 158ms/step - loss: 2.4531 - accuracy: 0.4299\n",
            "Epoch 139/300\n",
            "254/254 [==============================] - 42s 164ms/step - loss: 2.4505 - accuracy: 0.4283\n",
            "Epoch 140/300\n",
            "254/254 [==============================] - 42s 167ms/step - loss: 2.4454 - accuracy: 0.4326\n",
            "Epoch 141/300\n",
            "254/254 [==============================] - 43s 168ms/step - loss: 2.4391 - accuracy: 0.4323\n",
            "Epoch 142/300\n",
            "254/254 [==============================] - 40s 157ms/step - loss: 2.4227 - accuracy: 0.4357\n",
            "Epoch 143/300\n",
            "254/254 [==============================] - 42s 164ms/step - loss: 2.4104 - accuracy: 0.4376\n",
            "Epoch 144/300\n",
            "254/254 [==============================] - 42s 164ms/step - loss: 2.4003 - accuracy: 0.4400\n",
            "Epoch 145/300\n",
            "254/254 [==============================] - 40s 156ms/step - loss: 2.3984 - accuracy: 0.4382\n",
            "Epoch 146/300\n",
            "254/254 [==============================] - 42s 164ms/step - loss: 2.3878 - accuracy: 0.4432\n",
            "Epoch 147/300\n",
            "254/254 [==============================] - 42s 164ms/step - loss: 2.3749 - accuracy: 0.4450\n",
            "Epoch 148/300\n",
            "254/254 [==============================] - 40s 157ms/step - loss: 2.3743 - accuracy: 0.4449\n",
            "Epoch 149/300\n",
            "254/254 [==============================] - 41s 161ms/step - loss: 2.3629 - accuracy: 0.4475\n",
            "Epoch 150/300\n",
            "254/254 [==============================] - 42s 165ms/step - loss: 2.3533 - accuracy: 0.4496\n",
            "Epoch 151/300\n",
            "254/254 [==============================] - 41s 161ms/step - loss: 2.3493 - accuracy: 0.4483\n",
            "Epoch 152/300\n",
            "254/254 [==============================] - 40s 159ms/step - loss: 2.3467 - accuracy: 0.4498\n",
            "Epoch 153/300\n",
            "254/254 [==============================] - 42s 165ms/step - loss: 2.3313 - accuracy: 0.4543\n",
            "Epoch 154/300\n",
            "254/254 [==============================] - 42s 166ms/step - loss: 2.3307 - accuracy: 0.4529\n",
            "Epoch 155/300\n",
            "254/254 [==============================] - 40s 157ms/step - loss: 2.3258 - accuracy: 0.4524\n",
            "Epoch 156/300\n",
            "254/254 [==============================] - 42s 165ms/step - loss: 2.3231 - accuracy: 0.4554\n",
            "Epoch 157/300\n",
            "254/254 [==============================] - 42s 165ms/step - loss: 2.3021 - accuracy: 0.4591\n",
            "Epoch 158/300\n",
            "254/254 [==============================] - 41s 160ms/step - loss: 2.2944 - accuracy: 0.4611\n",
            "Epoch 159/300\n",
            "254/254 [==============================] - 40s 158ms/step - loss: 2.2805 - accuracy: 0.4639\n",
            "Epoch 160/300\n",
            "254/254 [==============================] - 41s 162ms/step - loss: 2.2758 - accuracy: 0.4639\n",
            "Epoch 161/300\n",
            "254/254 [==============================] - 40s 158ms/step - loss: 2.2707 - accuracy: 0.4671\n",
            "Epoch 162/300\n",
            "254/254 [==============================] - 41s 160ms/step - loss: 2.2668 - accuracy: 0.4676\n",
            "Epoch 163/300\n",
            "254/254 [==============================] - 42s 164ms/step - loss: 2.2791 - accuracy: 0.4641\n",
            "Epoch 164/300\n",
            "254/254 [==============================] - 41s 160ms/step - loss: 2.2683 - accuracy: 0.4648\n",
            "Epoch 165/300\n",
            "254/254 [==============================] - 40s 158ms/step - loss: 2.2471 - accuracy: 0.4682\n",
            "Epoch 166/300\n",
            "254/254 [==============================] - 41s 163ms/step - loss: 2.2398 - accuracy: 0.4690\n",
            "Epoch 167/300\n",
            "254/254 [==============================] - 40s 157ms/step - loss: 2.2292 - accuracy: 0.4727\n",
            "Epoch 168/300\n",
            "254/254 [==============================] - 40s 159ms/step - loss: 2.2240 - accuracy: 0.4733\n",
            "Epoch 169/300\n",
            "254/254 [==============================] - 41s 162ms/step - loss: 2.2109 - accuracy: 0.4781\n",
            "Epoch 170/300\n",
            "254/254 [==============================] - 40s 158ms/step - loss: 2.2101 - accuracy: 0.4754\n",
            "Epoch 171/300\n",
            "254/254 [==============================] - 41s 160ms/step - loss: 2.2056 - accuracy: 0.4778\n",
            "Epoch 172/300\n",
            "254/254 [==============================] - 41s 161ms/step - loss: 2.2068 - accuracy: 0.4771\n",
            "Epoch 173/300\n",
            "254/254 [==============================] - 39s 153ms/step - loss: 2.2024 - accuracy: 0.4784\n",
            "Epoch 174/300\n",
            "254/254 [==============================] - 41s 161ms/step - loss: 2.1890 - accuracy: 0.4798\n",
            "Epoch 175/300\n",
            "254/254 [==============================] - 41s 163ms/step - loss: 2.1762 - accuracy: 0.4835\n",
            "Epoch 176/300\n",
            "254/254 [==============================] - 40s 156ms/step - loss: 2.1719 - accuracy: 0.4860\n",
            "Epoch 177/300\n",
            "254/254 [==============================] - 41s 161ms/step - loss: 2.1638 - accuracy: 0.4872\n",
            "Epoch 178/300\n",
            "254/254 [==============================] - 41s 163ms/step - loss: 2.1497 - accuracy: 0.4912\n",
            "Epoch 179/300\n",
            "254/254 [==============================] - 40s 156ms/step - loss: 2.1468 - accuracy: 0.4911\n",
            "Epoch 180/300\n",
            "254/254 [==============================] - 41s 161ms/step - loss: 2.1415 - accuracy: 0.4902\n",
            "Epoch 181/300\n",
            "254/254 [==============================] - 43s 170ms/step - loss: 2.1336 - accuracy: 0.4921\n",
            "Epoch 182/300\n",
            "254/254 [==============================] - 41s 161ms/step - loss: 2.1273 - accuracy: 0.4951\n",
            "Epoch 183/300\n",
            "254/254 [==============================] - 41s 163ms/step - loss: 2.1233 - accuracy: 0.4929\n",
            "Epoch 184/300\n",
            "254/254 [==============================] - 42s 167ms/step - loss: 2.1279 - accuracy: 0.4946\n",
            "Epoch 185/300\n",
            "254/254 [==============================] - 42s 165ms/step - loss: 2.1145 - accuracy: 0.4957\n",
            "Epoch 186/300\n",
            "254/254 [==============================] - 39s 155ms/step - loss: 2.1077 - accuracy: 0.4975\n",
            "Epoch 187/300\n",
            "254/254 [==============================] - 42s 165ms/step - loss: 2.1047 - accuracy: 0.4986\n",
            "Epoch 188/300\n",
            "254/254 [==============================] - 42s 164ms/step - loss: 2.0996 - accuracy: 0.4982\n",
            "Epoch 189/300\n",
            "254/254 [==============================] - 40s 159ms/step - loss: 2.0748 - accuracy: 0.5077\n",
            "Epoch 190/300\n",
            "254/254 [==============================] - 41s 161ms/step - loss: 2.0797 - accuracy: 0.5037\n",
            "Epoch 191/300\n",
            "254/254 [==============================] - 42s 165ms/step - loss: 2.0860 - accuracy: 0.5023\n",
            "Epoch 192/300\n",
            "254/254 [==============================] - 41s 160ms/step - loss: 2.0626 - accuracy: 0.5074\n",
            "Epoch 193/300\n",
            "254/254 [==============================] - 41s 160ms/step - loss: 2.0669 - accuracy: 0.5069\n",
            "Epoch 194/300\n",
            "254/254 [==============================] - 42s 164ms/step - loss: 2.0596 - accuracy: 0.5073\n",
            "Epoch 195/300\n",
            "254/254 [==============================] - 41s 162ms/step - loss: 2.0544 - accuracy: 0.5084\n",
            "Epoch 196/300\n",
            "254/254 [==============================] - 40s 159ms/step - loss: 2.0559 - accuracy: 0.5093\n",
            "Epoch 197/300\n",
            "254/254 [==============================] - 42s 164ms/step - loss: 2.0478 - accuracy: 0.5097\n",
            "Epoch 198/300\n",
            "254/254 [==============================] - 42s 166ms/step - loss: 2.0328 - accuracy: 0.5130\n",
            "Epoch 199/300\n",
            "254/254 [==============================] - 40s 156ms/step - loss: 2.0324 - accuracy: 0.5134\n",
            "Epoch 200/300\n",
            "254/254 [==============================] - 42s 166ms/step - loss: 2.0236 - accuracy: 0.5161\n",
            "Epoch 201/300\n",
            "254/254 [==============================] - 42s 164ms/step - loss: 2.0123 - accuracy: 0.5173\n",
            "Epoch 202/300\n",
            "254/254 [==============================] - 40s 159ms/step - loss: 2.0070 - accuracy: 0.5190\n",
            "Epoch 203/300\n",
            "254/254 [==============================] - 41s 162ms/step - loss: 2.0154 - accuracy: 0.5159\n",
            "Epoch 204/300\n",
            "254/254 [==============================] - 42s 165ms/step - loss: 2.0017 - accuracy: 0.5207\n",
            "Epoch 205/300\n",
            "254/254 [==============================] - 41s 161ms/step - loss: 1.9901 - accuracy: 0.5215\n",
            "Epoch 206/300\n",
            "254/254 [==============================] - 40s 159ms/step - loss: 1.9835 - accuracy: 0.5232\n",
            "Epoch 207/300\n",
            "254/254 [==============================] - 43s 168ms/step - loss: 1.9841 - accuracy: 0.5228\n",
            "Epoch 208/300\n",
            "254/254 [==============================] - 42s 165ms/step - loss: 1.9814 - accuracy: 0.5235\n",
            "Epoch 209/300\n",
            "254/254 [==============================] - 40s 156ms/step - loss: 1.9795 - accuracy: 0.5229\n",
            "Epoch 210/300\n",
            "254/254 [==============================] - 42s 164ms/step - loss: 1.9700 - accuracy: 0.5253\n",
            "Epoch 211/300\n",
            "254/254 [==============================] - 43s 168ms/step - loss: 1.9686 - accuracy: 0.5273\n",
            "Epoch 212/300\n",
            "254/254 [==============================] - 41s 161ms/step - loss: 1.9643 - accuracy: 0.5259\n",
            "Epoch 213/300\n",
            "254/254 [==============================] - 41s 160ms/step - loss: 1.9443 - accuracy: 0.5311\n",
            "Epoch 214/300\n",
            "254/254 [==============================] - 42s 165ms/step - loss: 1.9397 - accuracy: 0.5331\n",
            "Epoch 215/300\n",
            "254/254 [==============================] - 42s 167ms/step - loss: 1.9411 - accuracy: 0.5327\n",
            "Epoch 216/300\n",
            "254/254 [==============================] - 40s 157ms/step - loss: 1.9369 - accuracy: 0.5319\n",
            "Epoch 217/300\n",
            "254/254 [==============================] - 42s 166ms/step - loss: 1.9323 - accuracy: 0.5333\n",
            "Epoch 218/300\n",
            "254/254 [==============================] - 42s 166ms/step - loss: 1.9190 - accuracy: 0.5370\n",
            "Epoch 219/300\n",
            "254/254 [==============================] - 40s 159ms/step - loss: 1.9117 - accuracy: 0.5388\n",
            "Epoch 220/300\n",
            "254/254 [==============================] - 41s 162ms/step - loss: 1.9126 - accuracy: 0.5373\n",
            "Epoch 221/300\n",
            "254/254 [==============================] - 42s 166ms/step - loss: 1.9117 - accuracy: 0.5377\n",
            "Epoch 222/300\n",
            "254/254 [==============================] - 41s 161ms/step - loss: 1.9163 - accuracy: 0.5360\n",
            "Epoch 223/300\n",
            "254/254 [==============================] - 40s 156ms/step - loss: 1.9230 - accuracy: 0.5344\n",
            "Epoch 224/300\n",
            "254/254 [==============================] - 41s 162ms/step - loss: 1.9121 - accuracy: 0.5379\n",
            "Epoch 225/300\n",
            "254/254 [==============================] - 40s 158ms/step - loss: 1.9073 - accuracy: 0.5377\n",
            "Epoch 226/300\n",
            "254/254 [==============================] - 40s 157ms/step - loss: 1.8831 - accuracy: 0.5455\n",
            "Epoch 227/300\n",
            "254/254 [==============================] - 41s 162ms/step - loss: 1.8768 - accuracy: 0.5467\n",
            "Epoch 228/300\n",
            "254/254 [==============================] - 39s 155ms/step - loss: 1.8655 - accuracy: 0.5490\n",
            "Epoch 229/300\n",
            "254/254 [==============================] - 40s 158ms/step - loss: 1.8596 - accuracy: 0.5513\n",
            "Epoch 230/300\n",
            "254/254 [==============================] - 41s 162ms/step - loss: 1.8865 - accuracy: 0.5456\n",
            "Epoch 231/300\n",
            "254/254 [==============================] - 39s 155ms/step - loss: 1.9160 - accuracy: 0.5386\n",
            "Epoch 232/300\n",
            "254/254 [==============================] - 41s 163ms/step - loss: 1.8761 - accuracy: 0.5452\n",
            "Epoch 233/300\n",
            "254/254 [==============================] - 42s 164ms/step - loss: 1.8478 - accuracy: 0.5540\n",
            "Epoch 234/300\n",
            "254/254 [==============================] - 40s 157ms/step - loss: 1.8377 - accuracy: 0.5566\n",
            "Epoch 235/300\n",
            "254/254 [==============================] - 41s 162ms/step - loss: 1.8350 - accuracy: 0.5548\n",
            "Epoch 236/300\n",
            "254/254 [==============================] - 42s 166ms/step - loss: 1.8302 - accuracy: 0.5571\n",
            "Epoch 237/300\n",
            "254/254 [==============================] - 42s 164ms/step - loss: 1.8237 - accuracy: 0.5584\n",
            "Epoch 238/300\n",
            "254/254 [==============================] - 40s 157ms/step - loss: 1.8409 - accuracy: 0.5538\n",
            "Epoch 239/300\n",
            "254/254 [==============================] - 42s 165ms/step - loss: 1.8426 - accuracy: 0.5533\n",
            "Epoch 240/300\n",
            "254/254 [==============================] - 42s 165ms/step - loss: 1.8275 - accuracy: 0.5552\n",
            "Epoch 241/300\n",
            "254/254 [==============================] - 40s 158ms/step - loss: 1.8179 - accuracy: 0.5601\n",
            "Epoch 242/300\n",
            "254/254 [==============================] - 42s 165ms/step - loss: 1.8142 - accuracy: 0.5604\n",
            "Epoch 243/300\n",
            "254/254 [==============================] - 42s 165ms/step - loss: 1.8221 - accuracy: 0.5572\n",
            "Epoch 244/300\n",
            "254/254 [==============================] - 40s 159ms/step - loss: 1.8165 - accuracy: 0.5579\n",
            "Epoch 245/300\n",
            "254/254 [==============================] - 41s 163ms/step - loss: 1.8023 - accuracy: 0.5606\n",
            "Epoch 246/300\n",
            "254/254 [==============================] - 42s 165ms/step - loss: 1.8035 - accuracy: 0.5617\n",
            "Epoch 247/300\n",
            "254/254 [==============================] - 41s 162ms/step - loss: 1.8015 - accuracy: 0.5613\n",
            "Epoch 248/300\n",
            "254/254 [==============================] - 40s 158ms/step - loss: 1.7840 - accuracy: 0.5673\n",
            "Epoch 249/300\n",
            "254/254 [==============================] - 42s 164ms/step - loss: 1.7786 - accuracy: 0.5675\n",
            "Epoch 250/300\n",
            "254/254 [==============================] - 42s 164ms/step - loss: 1.7903 - accuracy: 0.5644\n",
            "Epoch 251/300\n",
            "254/254 [==============================] - 40s 159ms/step - loss: 1.7791 - accuracy: 0.5691\n",
            "Epoch 252/300\n",
            "254/254 [==============================] - 42s 166ms/step - loss: 1.7597 - accuracy: 0.5707\n",
            "Epoch 253/300\n",
            "254/254 [==============================] - 42s 166ms/step - loss: 1.7772 - accuracy: 0.5672\n",
            "Epoch 254/300\n",
            "254/254 [==============================] - 41s 160ms/step - loss: 1.7750 - accuracy: 0.5675\n",
            "Epoch 255/300\n",
            "254/254 [==============================] - 42s 165ms/step - loss: 1.7565 - accuracy: 0.5731\n",
            "Epoch 256/300\n",
            "254/254 [==============================] - 42s 166ms/step - loss: 1.7552 - accuracy: 0.5734\n",
            "Epoch 257/300\n",
            "254/254 [==============================] - 42s 165ms/step - loss: 1.7432 - accuracy: 0.5751\n",
            "Epoch 258/300\n",
            "254/254 [==============================] - 40s 157ms/step - loss: 1.7834 - accuracy: 0.5630\n",
            "Epoch 259/300\n",
            "254/254 [==============================] - 42s 165ms/step - loss: 1.7563 - accuracy: 0.5727\n",
            "Epoch 260/300\n",
            "254/254 [==============================] - 42s 165ms/step - loss: 1.7308 - accuracy: 0.5765\n",
            "Epoch 261/300\n",
            "254/254 [==============================] - 40s 158ms/step - loss: 1.7418 - accuracy: 0.5747\n",
            "Epoch 262/300\n",
            "254/254 [==============================] - 42s 164ms/step - loss: 1.7393 - accuracy: 0.5757\n",
            "Epoch 263/300\n",
            "254/254 [==============================] - 42s 166ms/step - loss: 1.7273 - accuracy: 0.5785\n",
            "Epoch 264/300\n",
            "254/254 [==============================] - 42s 164ms/step - loss: 1.7281 - accuracy: 0.5766\n",
            "Epoch 265/300\n",
            "254/254 [==============================] - 41s 161ms/step - loss: 1.7158 - accuracy: 0.5816\n",
            "Epoch 266/300\n",
            "254/254 [==============================] - 43s 169ms/step - loss: 1.7064 - accuracy: 0.5838\n",
            "Epoch 267/300\n",
            "254/254 [==============================] - 42s 165ms/step - loss: 1.7021 - accuracy: 0.5852\n",
            "Epoch 268/300\n",
            "254/254 [==============================] - 41s 162ms/step - loss: 1.7002 - accuracy: 0.5836\n",
            "Epoch 269/300\n",
            "254/254 [==============================] - 42s 167ms/step - loss: 1.6870 - accuracy: 0.5888\n",
            "Epoch 270/300\n",
            "254/254 [==============================] - 43s 168ms/step - loss: 1.6966 - accuracy: 0.5855\n",
            "Epoch 271/300\n",
            "254/254 [==============================] - 43s 168ms/step - loss: 1.6896 - accuracy: 0.5856\n",
            "Epoch 272/300\n",
            "254/254 [==============================] - 41s 160ms/step - loss: 1.6918 - accuracy: 0.5862\n",
            "Epoch 273/300\n",
            "254/254 [==============================] - 43s 167ms/step - loss: 1.6798 - accuracy: 0.5888\n",
            "Epoch 274/300\n",
            "254/254 [==============================] - 43s 168ms/step - loss: 1.6740 - accuracy: 0.5898\n",
            "Epoch 275/300\n",
            "254/254 [==============================] - 42s 167ms/step - loss: 1.6740 - accuracy: 0.5919\n",
            "Epoch 276/300\n",
            "254/254 [==============================] - 40s 158ms/step - loss: 1.6779 - accuracy: 0.5887\n",
            "Epoch 277/300\n",
            "254/254 [==============================] - 42s 166ms/step - loss: 1.6782 - accuracy: 0.5884\n",
            "Epoch 278/300\n",
            "254/254 [==============================] - 42s 165ms/step - loss: 1.6789 - accuracy: 0.5880\n",
            "Epoch 279/300\n",
            "254/254 [==============================] - 40s 157ms/step - loss: 1.6789 - accuracy: 0.5885\n",
            "Epoch 280/300\n",
            "254/254 [==============================] - 42s 164ms/step - loss: 1.6629 - accuracy: 0.5922\n",
            "Epoch 281/300\n",
            "254/254 [==============================] - 42s 165ms/step - loss: 1.6473 - accuracy: 0.5969\n",
            "Epoch 282/300\n",
            "254/254 [==============================] - 40s 160ms/step - loss: 1.6613 - accuracy: 0.5920\n",
            "Epoch 283/300\n",
            "254/254 [==============================] - 41s 161ms/step - loss: 1.6545 - accuracy: 0.5953\n",
            "Epoch 284/300\n",
            "254/254 [==============================] - 42s 165ms/step - loss: 1.6535 - accuracy: 0.5959\n",
            "Epoch 285/300\n",
            "254/254 [==============================] - 41s 162ms/step - loss: 1.6432 - accuracy: 0.5968\n",
            "Epoch 286/300\n",
            "254/254 [==============================] - 40s 159ms/step - loss: 1.6304 - accuracy: 0.6000\n",
            "Epoch 287/300\n",
            "254/254 [==============================] - 42s 164ms/step - loss: 1.6435 - accuracy: 0.5972\n",
            "Epoch 288/300\n",
            "254/254 [==============================] - 41s 162ms/step - loss: 1.6274 - accuracy: 0.6007\n",
            "Epoch 289/300\n",
            "254/254 [==============================] - 40s 158ms/step - loss: 1.6141 - accuracy: 0.6050\n",
            "Epoch 290/300\n",
            "254/254 [==============================] - 42s 164ms/step - loss: 1.6236 - accuracy: 0.6018\n",
            "Epoch 291/300\n",
            "254/254 [==============================] - 42s 164ms/step - loss: 1.6336 - accuracy: 0.5979\n",
            "Epoch 292/300\n",
            "254/254 [==============================] - 40s 156ms/step - loss: 1.6257 - accuracy: 0.5993\n",
            "Epoch 293/300\n",
            "254/254 [==============================] - 41s 163ms/step - loss: 1.6175 - accuracy: 0.6021\n",
            "Epoch 294/300\n",
            "254/254 [==============================] - 42s 164ms/step - loss: 1.5942 - accuracy: 0.6092\n",
            "Epoch 295/300\n",
            "254/254 [==============================] - 40s 156ms/step - loss: 1.5819 - accuracy: 0.6125\n",
            "Epoch 296/300\n",
            "254/254 [==============================] - 42s 164ms/step - loss: 1.5936 - accuracy: 0.6089\n",
            "Epoch 297/300\n",
            "254/254 [==============================] - 42s 165ms/step - loss: 1.6059 - accuracy: 0.6055\n",
            "Epoch 298/300\n",
            "254/254 [==============================] - 40s 156ms/step - loss: 1.6009 - accuracy: 0.6087\n",
            "Epoch 299/300\n",
            "254/254 [==============================] - 42s 165ms/step - loss: 1.5907 - accuracy: 0.6085\n",
            "Epoch 300/300\n",
            "254/254 [==============================] - 42s 165ms/step - loss: 1.5925 - accuracy: 0.6079\n"
          ]
        }
      ],
      "source": [
        "# fit model\n",
        "model.fit(X, y, batch_size=256, epochs=300,verbose=1)\n",
        "\n",
        "model.save('/content/sample_data/saga_300epoch.h5')\n",
        "# save the tokenizer\n",
        "dump(tokenizer, open('/content/sample_data/saga_300epoch', 'wb'))"
      ]
    },
    {
      "cell_type": "code",
      "execution_count": 1,
      "metadata": {
        "colab": {
          "base_uri": "https://localhost:8080/",
          "height": 179
        },
        "id": "Yk6RJoR3n1RL",
        "outputId": "3d26010d-6e3c-4450-e1c6-bea6a238df01"
      },
      "outputs": [
        {
          "ename": "NameError",
          "evalue": "ignored",
          "output_type": "error",
          "traceback": [
            "\u001b[0;31m---------------------------------------------------------------------------\u001b[0m",
            "\u001b[0;31mNameError\u001b[0m                                 Traceback (most recent call last)",
            "\u001b[0;32m<ipython-input-1-da3a9f3b9d72>\u001b[0m in \u001b[0;36m<cell line: 1>\u001b[0;34m()\u001b[0m\n\u001b[0;32m----> 1\u001b[0;31m \u001b[0mmodel\u001b[0m\u001b[0;34m.\u001b[0m\u001b[0msummarize\u001b[0m\u001b[0;34m\u001b[0m\u001b[0;34m\u001b[0m\u001b[0m\n\u001b[0m",
            "\u001b[0;31mNameError\u001b[0m: name 'model' is not defined"
          ]
        }
      ],
      "source": [
        "model.summarize"
      ]
    },
    {
      "cell_type": "code",
      "execution_count": null,
      "metadata": {
        "id": "1am6IePQODBa"
      },
      "outputs": [],
      "source": []
    }
  ],
  "metadata": {
    "colab": {
      "provenance": []
    },
    "kernelspec": {
      "display_name": "Python 3",
      "name": "python3"
    },
    "language_info": {
      "codemirror_mode": {
        "name": "ipython",
        "version": 3
      },
      "file_extension": ".py",
      "mimetype": "text/x-python",
      "name": "python",
      "nbconvert_exporter": "python",
      "pygments_lexer": "ipython3",
      "version": "3.11.5"
    }
  },
  "nbformat": 4,
  "nbformat_minor": 0
}
