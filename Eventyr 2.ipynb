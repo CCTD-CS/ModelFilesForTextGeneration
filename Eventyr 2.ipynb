{
  "cells": [
    {
      "cell_type": "markdown",
      "metadata": {
        "id": "R67d69izUE0V"
      },
      "source": [
        "## Opsætning"
      ]
    },
    {
      "cell_type": "code",
      "execution_count": 1,
      "metadata": {
        "id": "QtovsJl6XP3H"
      },
      "outputs": [],
      "source": [
        "import spacy"
      ]
    },
    {
      "cell_type": "code",
      "execution_count": 3,
      "metadata": {
        "colab": {
          "base_uri": "https://localhost:8080/"
        },
        "id": "XY0G4BQOZE2d",
        "outputId": "e70365fd-58fd-4e88-d0b5-72a712c8f662"
      },
      "outputs": [],
      "source": [
        "# !python3 -m spacy download da_core_news_lg"
      ]
    },
    {
      "cell_type": "code",
      "execution_count": 2,
      "metadata": {
        "id": "P3ytbFfiXdcF"
      },
      "outputs": [],
      "source": [
        "nlp = spacy.load('da_core_news_lg')\n",
        "nlp.max_length = 1200000"
      ]
    },
    {
      "cell_type": "markdown",
      "metadata": {
        "id": "EPc7OnTmZ8np"
      },
      "source": [
        "# Indlæsning af tekstfiler"
      ]
    },
    {
      "cell_type": "code",
      "execution_count": 3,
      "metadata": {
        "id": "NoBRAMmwUJVT"
      },
      "outputs": [],
      "source": [
        "def read_file(filepath):\n",
        "  with open(filepath) as f:\n",
        "    str_text = f.read()\n",
        "\n",
        "    return str_text"
      ]
    },
    {
      "cell_type": "code",
      "execution_count": 4,
      "metadata": {
        "id": "OEXMLZ-HasF2"
      },
      "outputs": [],
      "source": [
        "def separate_punc(doc_text):\n",
        "    return [token.text.lower() for token in nlp(doc_text) if token.text not in '\\n\\n \\n\\n\\n!\"-#$%&()--.*+,-/:;<=>?@[\\\\]^_`{|}~\\t\\n ']"
      ]
    },
    {
      "cell_type": "code",
      "execution_count": 8,
      "metadata": {
        "id": "tU84YqDGUWkG"
      },
      "outputs": [],
      "source": [
        "f1 = '/Users/au648304/Documents/Tekster/DenGrimmeÆlling.txt'\n",
        "f2 = '/Users/au648304/Documents/Tekster/Fyrtøjet.txt'\n",
        "f3 = '/Users/au648304/Documents/Tekster/PigenMedSvovlstikkerne.txt'\n",
        "f4 = '/Users/au648304/Documents/Tekster/Klods-Hans.txt'\n",
        "f5 = '/Users/au648304/Documents/Tekster/DenLilleHavfrue.txt'\n",
        "f6 = '/Users/au648304/Documents/Tekster/PrinsessenPåÆrten.txt'\n",
        "f7 = '/Users/au648304/Documents/Tekster/DenStandhaftigeTinsoldat.txt'\n",
        "f8 = '/Users/au648304/Documents/Tekster/Tommelise.txt'\n",
        "f9 = '/Users/au648304/Documents/Tekster/Klokken.txt'\n",
        "f10 = '/Users/au648304/Documents/Tekster/Skyggen.txt'\n",
        "f11 = '/Users/au648304/Documents/Tekster/Snedronningen.txt'\n",
        "f12 = '/Users/au648304/Documents/Tekster/KejserensNyeKlæder.txt'\n",
        "f13 = '/Users/au648304/Documents/Tekster/Svinedrengen.txt'\n",
        "f14 = '/Users/au648304/Documents/Tekster/Nattergalen.txt'\n",
        "f15 = '/Users/au648304/Documents/Tekster/HyrdindenOgSkorstensfejeren.txt'\n",
        "\n",
        "combinedFiles = read_file(f1) + read_file(f2) + read_file(f3) + read_file(f4) + read_file(f5) + read_file(f6) + read_file(f7) + read_file(f8) + read_file(f9) + read_file(f10) + read_file(f11) + read_file(f12) + read_file(f13) + read_file(f14) + read_file(f15)"
      ]
    },
    {
      "cell_type": "code",
      "execution_count": 9,
      "metadata": {
        "id": "NH-nhU-pZUgo"
      },
      "outputs": [],
      "source": [
        "tokens = separate_punc(combinedFiles)"
      ]
    },
    {
      "cell_type": "code",
      "execution_count": 10,
      "metadata": {
        "colab": {
          "base_uri": "https://localhost:8080/"
        },
        "id": "0ROXlIQPZf0_",
        "outputId": "0117e6d7-d99d-4d14-cf10-10f7692bef43"
      },
      "outputs": [
        {
          "data": {
            "text/plain": [
              "46538"
            ]
          },
          "execution_count": 10,
          "metadata": {},
          "output_type": "execute_result"
        }
      ],
      "source": [
        "len(tokens)"
      ]
    },
    {
      "cell_type": "markdown",
      "metadata": {
        "id": "xFK2ra-Sdpwf"
      },
      "source": [
        "# Klargør teksten til modellen"
      ]
    },
    {
      "cell_type": "code",
      "execution_count": 15,
      "metadata": {
        "id": "7zliNSTdeRnv"
      },
      "outputs": [],
      "source": [
        "from keras.preprocessing.text import Tokenizer"
      ]
    },
    {
      "cell_type": "code",
      "execution_count": 13,
      "metadata": {
        "id": "0uBlKJgjdy90"
      },
      "outputs": [],
      "source": [
        "# 25 træningsord og 1 feature ord\n",
        "train_len = 50+1\n",
        "\n",
        "text_sequences = []\n",
        "\n",
        "for i in range(train_len, len(tokens)):\n",
        "\n",
        "    seq = tokens[i-train_len:i]\n",
        "\n",
        "    text_sequences.append(seq)"
      ]
    },
    {
      "cell_type": "code",
      "execution_count": 14,
      "metadata": {
        "colab": {
          "base_uri": "https://localhost:8080/"
        },
        "id": "brHnJ1hLeANc",
        "outputId": "0e4f22db-f42d-43c0-e07b-1bec45a96b3f"
      },
      "outputs": [
        {
          "data": {
            "text/plain": [
              "46487"
            ]
          },
          "execution_count": 14,
          "metadata": {},
          "output_type": "execute_result"
        }
      ],
      "source": [
        "len(text_sequences)"
      ]
    },
    {
      "cell_type": "code",
      "execution_count": 16,
      "metadata": {
        "id": "qhVgFLu0eOfO"
      },
      "outputs": [],
      "source": [
        "# integer encode sequences of words\n",
        "tokenizer = Tokenizer()\n",
        "tokenizer.fit_on_texts(text_sequences)\n",
        "sequences = tokenizer.texts_to_sequences(text_sequences)"
      ]
    },
    {
      "cell_type": "code",
      "execution_count": null,
      "metadata": {
        "id": "tVZLyQGsecLJ"
      },
      "outputs": [],
      "source": [
        "# tokenizer.index_word"
      ]
    },
    {
      "cell_type": "code",
      "execution_count": null,
      "metadata": {
        "id": "YqySIoH_ewmU"
      },
      "outputs": [],
      "source": [
        "# tokenizer.word_counts"
      ]
    },
    {
      "cell_type": "code",
      "execution_count": 17,
      "metadata": {
        "id": "1WzeoZSEe489"
      },
      "outputs": [],
      "source": [
        "vocabulary_size = len(tokenizer.word_counts)"
      ]
    },
    {
      "cell_type": "code",
      "execution_count": 18,
      "metadata": {
        "colab": {
          "base_uri": "https://localhost:8080/"
        },
        "id": "g1qywojFe_hL",
        "outputId": "23d3489f-8af3-4150-cf0d-ddacfbd79344"
      },
      "outputs": [
        {
          "data": {
            "text/plain": [
              "4741"
            ]
          },
          "execution_count": 18,
          "metadata": {},
          "output_type": "execute_result"
        }
      ],
      "source": [
        "vocabulary_size"
      ]
    },
    {
      "cell_type": "markdown",
      "metadata": {
        "id": "ERyqEbR8gERc"
      },
      "source": [
        "## Klargør X og Y ud fra sekvenserne"
      ]
    },
    {
      "cell_type": "code",
      "execution_count": 19,
      "metadata": {
        "id": "mq8m2M3ngKsr"
      },
      "outputs": [],
      "source": [
        "import numpy as np\n",
        "from keras.utils import to_categorical"
      ]
    },
    {
      "cell_type": "code",
      "execution_count": 20,
      "metadata": {
        "id": "qh30vMeygQVK"
      },
      "outputs": [],
      "source": [
        "sequences = np.array(sequences)"
      ]
    },
    {
      "cell_type": "code",
      "execution_count": 21,
      "metadata": {
        "id": "NeUgG78VgYlP"
      },
      "outputs": [],
      "source": [
        "# De første 25 kolonner og dermed ord.\n",
        "X = sequences[:, :-1]\n",
        "\n",
        "# Den sidste kolonne og dermed det sidste ord.\n",
        "y = sequences[:,-1]\n",
        "y = to_categorical(y, num_classes=vocabulary_size+1)"
      ]
    },
    {
      "cell_type": "code",
      "execution_count": 22,
      "metadata": {
        "id": "EMt_WU5ahbmK"
      },
      "outputs": [],
      "source": [
        "seq_len = X.shape[1]"
      ]
    },
    {
      "cell_type": "code",
      "execution_count": 23,
      "metadata": {
        "colab": {
          "base_uri": "https://localhost:8080/"
        },
        "id": "J5reePNzhsdv",
        "outputId": "e09d25a0-e982-4238-d3a6-13230e61757d"
      },
      "outputs": [
        {
          "data": {
            "text/plain": [
              "50"
            ]
          },
          "execution_count": 23,
          "metadata": {},
          "output_type": "execute_result"
        }
      ],
      "source": [
        "seq_len"
      ]
    },
    {
      "cell_type": "markdown",
      "metadata": {
        "id": "tQmHNE2RbzNS"
      },
      "source": [
        "# Skab modellen"
      ]
    },
    {
      "cell_type": "code",
      "execution_count": 24,
      "metadata": {
        "id": "Nvgpq0M4bMio"
      },
      "outputs": [],
      "source": [
        "import keras\n",
        "from keras.models import Sequential, load_model\n",
        "from keras.layers import Dense, LSTM, Embedding\n",
        "from pickle import dump, load"
      ]
    },
    {
      "cell_type": "code",
      "execution_count": 25,
      "metadata": {
        "id": "DgE06FY3cFl-"
      },
      "outputs": [],
      "source": [
        "def create_model(vocabulary_size, seq_len):\n",
        "    model = Sequential()\n",
        "    model.add(Embedding(vocabulary_size, seq_len, input_length=seq_len))\n",
        "    model.add(LSTM(2*seq_len, return_sequences=True))\n",
        "    model.add(LSTM(2*seq_len))\n",
        "    model.add(Dense(2*seq_len, activation='relu'))\n",
        "\n",
        "    model.add(Dense(vocabulary_size, activation='softmax'))\n",
        "\n",
        "    model.compile(loss='categorical_crossentropy', optimizer='adam', metrics=['accuracy'])\n",
        "\n",
        "    model.summary()\n",
        "\n",
        "    return model"
      ]
    },
    {
      "cell_type": "code",
      "execution_count": 26,
      "metadata": {
        "colab": {
          "base_uri": "https://localhost:8080/"
        },
        "id": "znTWkbC5hx05",
        "outputId": "112c80f0-819a-4a2f-a8ec-295a925cd4db"
      },
      "outputs": [
        {
          "name": "stdout",
          "output_type": "stream",
          "text": [
            "Model: \"sequential\"\n",
            "_________________________________________________________________\n",
            " Layer (type)                Output Shape              Param #   \n",
            "=================================================================\n",
            " embedding (Embedding)       (None, 50, 50)            237100    \n",
            "                                                                 \n",
            " lstm (LSTM)                 (None, 50, 100)           60400     \n",
            "                                                                 \n",
            " lstm_1 (LSTM)               (None, 100)               80400     \n",
            "                                                                 \n",
            " dense (Dense)               (None, 100)               10100     \n",
            "                                                                 \n",
            " dense_1 (Dense)             (None, 4742)              478942    \n",
            "                                                                 \n",
            "=================================================================\n",
            "Total params: 866942 (3.31 MB)\n",
            "Trainable params: 866942 (3.31 MB)\n",
            "Non-trainable params: 0 (0.00 Byte)\n",
            "_________________________________________________________________\n"
          ]
        }
      ],
      "source": [
        "model = create_model(vocabulary_size+1, seq_len)"
      ]
    },
    {
      "cell_type": "code",
      "execution_count": 28,
      "metadata": {
        "colab": {
          "base_uri": "https://localhost:8080/"
        },
        "id": "ytOnTRRbh6h6",
        "outputId": "31f23038-cf11-44a9-d4c1-90a8efe90f4e"
      },
      "outputs": [
        {
          "name": "stdout",
          "output_type": "stream",
          "text": [
            "Epoch 1/15\n",
            "364/364 [==============================] - 77s 211ms/step - loss: 6.2265 - accuracy: 0.0515 - val_loss: 6.0850 - val_accuracy: 0.0590\n",
            "Epoch 2/15\n",
            "364/364 [==============================] - 78s 214ms/step - loss: 6.0797 - accuracy: 0.0603 - val_loss: 5.9468 - val_accuracy: 0.0638\n",
            "Epoch 3/15\n",
            "364/364 [==============================] - 80s 219ms/step - loss: 5.9560 - accuracy: 0.0641 - val_loss: 5.8316 - val_accuracy: 0.0642\n",
            "Epoch 4/15\n",
            "364/364 [==============================] - 77s 211ms/step - loss: 5.8447 - accuracy: 0.0677 - val_loss: 5.7198 - val_accuracy: 0.0735\n",
            "Epoch 5/15\n",
            "364/364 [==============================] - 78s 213ms/step - loss: 5.7528 - accuracy: 0.0728 - val_loss: 5.6344 - val_accuracy: 0.0743\n",
            "Epoch 6/15\n",
            "364/364 [==============================] - 78s 214ms/step - loss: 5.7035 - accuracy: 0.0731 - val_loss: 5.5898 - val_accuracy: 0.0767\n",
            "Epoch 7/15\n",
            "364/364 [==============================] - 79s 218ms/step - loss: 5.6184 - accuracy: 0.0766 - val_loss: 5.4960 - val_accuracy: 0.0808\n",
            "Epoch 8/15\n",
            "364/364 [==============================] - 78s 213ms/step - loss: 5.5319 - accuracy: 0.0825 - val_loss: 5.4061 - val_accuracy: 0.0866\n",
            "Epoch 9/15\n",
            "364/364 [==============================] - 76s 208ms/step - loss: 5.4478 - accuracy: 0.0864 - val_loss: 5.3158 - val_accuracy: 0.0924\n",
            "Epoch 10/15\n",
            "364/364 [==============================] - 77s 212ms/step - loss: 5.3544 - accuracy: 0.0924 - val_loss: 5.2193 - val_accuracy: 0.0964\n",
            "Epoch 11/15\n",
            "364/364 [==============================] - 79s 216ms/step - loss: 5.2589 - accuracy: 0.0953 - val_loss: 5.1158 - val_accuracy: 0.0993\n",
            "Epoch 12/15\n",
            "364/364 [==============================] - 79s 216ms/step - loss: 5.1592 - accuracy: 0.1015 - val_loss: 5.0038 - val_accuracy: 0.1041\n",
            "Epoch 13/15\n",
            "364/364 [==============================] - 78s 214ms/step - loss: 5.0588 - accuracy: 0.1052 - val_loss: 4.8945 - val_accuracy: 0.1124\n",
            "Epoch 14/15\n",
            "364/364 [==============================] - 78s 214ms/step - loss: 4.9564 - accuracy: 0.1104 - val_loss: 4.7980 - val_accuracy: 0.1167\n",
            "Epoch 15/15\n",
            "364/364 [==============================] - 78s 215ms/step - loss: 4.8541 - accuracy: 0.1153 - val_loss: 4.6831 - val_accuracy: 0.1222\n"
          ]
        },
        {
          "name": "stderr",
          "output_type": "stream",
          "text": [
            "/Library/Frameworks/Python.framework/Versions/3.11/lib/python3.11/site-packages/keras/src/engine/training.py:3079: UserWarning: You are saving your model as an HDF5 file via `model.save()`. This file format is considered legacy. We recommend using instead the native Keras format, e.g. `model.save('my_model.keras')`.\n",
            "  saving_api.save_model(\n"
          ]
        }
      ],
      "source": [
        "# fit model\n",
        "history = model.fit(X, y, batch_size=128, epochs=15,verbose=1, validation_data=(X,y))\n",
        "\n",
        "model.save('/Users/au648304/Documents/TextGeneration/eventyr_stor_100epoch.h5')\n",
        "dump(tokenizer, open('/Users/au648304/Documents/TextGeneration/eventyr_stor_15epoch', 'wb'))\n",
        "dump(history.history['accuracy'], open('/Users/au648304/Documents/TextGeneration/eventyr_stor_15epoch_history_accuracy', 'wb'))\n",
        "dump(history.history['val_accuracy'], open('/Users/au648304/Documents/TextGeneration/eventyr_stor_15epoch_history_valaccuracy', 'wb'))"
      ]
    },
    {
      "cell_type": "code",
      "execution_count": 29,
      "metadata": {},
      "outputs": [
        {
          "name": "stdout",
          "output_type": "stream",
          "text": [
            "Epoch 1/100\n",
            "250/250 [==============================] - 5s 19ms/step - loss: 5.0413 - accuracy: 0.0745 - val_loss: 4.8349 - val_accuracy: 0.0789\n",
            "Epoch 2/100\n",
            "250/250 [==============================] - 4s 18ms/step - loss: 4.9452 - accuracy: 0.0787 - val_loss: 4.7851 - val_accuracy: 0.0804\n",
            "Epoch 3/100\n",
            "250/250 [==============================] - 4s 18ms/step - loss: 4.8794 - accuracy: 0.0814 - val_loss: 4.7372 - val_accuracy: 0.0834\n",
            "Epoch 4/100\n",
            "250/250 [==============================] - 5s 19ms/step - loss: 4.8252 - accuracy: 0.0831 - val_loss: 4.6710 - val_accuracy: 0.0851\n",
            "Epoch 5/100\n",
            "250/250 [==============================] - 5s 19ms/step - loss: 4.7786 - accuracy: 0.0844 - val_loss: 4.6349 - val_accuracy: 0.0920\n",
            "Epoch 6/100\n",
            "250/250 [==============================] - 5s 18ms/step - loss: 4.7269 - accuracy: 0.0872 - val_loss: 4.5772 - val_accuracy: 0.0938\n",
            "Epoch 7/100\n",
            "250/250 [==============================] - 5s 19ms/step - loss: 4.6847 - accuracy: 0.0921 - val_loss: 4.5651 - val_accuracy: 0.0961\n",
            "Epoch 8/100\n",
            "250/250 [==============================] - 5s 20ms/step - loss: 4.6325 - accuracy: 0.0897 - val_loss: 4.4846 - val_accuracy: 0.1001\n",
            "Epoch 9/100\n",
            "250/250 [==============================] - 5s 18ms/step - loss: 4.5872 - accuracy: 0.0920 - val_loss: 4.4336 - val_accuracy: 0.0996\n",
            "Epoch 10/100\n",
            "250/250 [==============================] - 5s 19ms/step - loss: 4.5454 - accuracy: 0.0952 - val_loss: 4.3716 - val_accuracy: 0.1080\n",
            "Epoch 11/100\n",
            "250/250 [==============================] - 5s 18ms/step - loss: 4.4996 - accuracy: 0.0963 - val_loss: 4.3480 - val_accuracy: 0.1030\n",
            "Epoch 12/100\n",
            "250/250 [==============================] - 5s 18ms/step - loss: 4.4515 - accuracy: 0.1001 - val_loss: 4.3122 - val_accuracy: 0.1054\n",
            "Epoch 13/100\n",
            "250/250 [==============================] - 5s 18ms/step - loss: 4.4064 - accuracy: 0.1041 - val_loss: 4.2465 - val_accuracy: 0.1171\n",
            "Epoch 14/100\n",
            "250/250 [==============================] - 5s 19ms/step - loss: 4.3608 - accuracy: 0.1042 - val_loss: 4.1837 - val_accuracy: 0.1178\n",
            "Epoch 15/100\n",
            "250/250 [==============================] - 5s 18ms/step - loss: 4.3151 - accuracy: 0.1081 - val_loss: 4.1294 - val_accuracy: 0.1243\n",
            "Epoch 16/100\n",
            "250/250 [==============================] - 5s 19ms/step - loss: 4.2781 - accuracy: 0.1072 - val_loss: 4.1053 - val_accuracy: 0.1242\n",
            "Epoch 17/100\n",
            "250/250 [==============================] - 5s 18ms/step - loss: 4.2270 - accuracy: 0.1113 - val_loss: 4.0776 - val_accuracy: 0.1267\n",
            "Epoch 18/100\n",
            "250/250 [==============================] - 5s 19ms/step - loss: 4.1850 - accuracy: 0.1164 - val_loss: 4.0027 - val_accuracy: 0.1347\n",
            "Epoch 19/100\n",
            "250/250 [==============================] - 5s 21ms/step - loss: 4.1402 - accuracy: 0.1159 - val_loss: 3.9447 - val_accuracy: 0.1437\n",
            "Epoch 20/100\n",
            "250/250 [==============================] - 6s 24ms/step - loss: 4.0864 - accuracy: 0.1206 - val_loss: 3.9064 - val_accuracy: 0.1427\n",
            "Epoch 21/100\n",
            "250/250 [==============================] - 5s 19ms/step - loss: 4.0495 - accuracy: 0.1262 - val_loss: 3.8498 - val_accuracy: 0.1472\n",
            "Epoch 22/100\n",
            "250/250 [==============================] - 5s 18ms/step - loss: 4.0082 - accuracy: 0.1267 - val_loss: 3.8192 - val_accuracy: 0.1579\n",
            "Epoch 23/100\n",
            "250/250 [==============================] - 5s 19ms/step - loss: 3.9662 - accuracy: 0.1329 - val_loss: 3.7760 - val_accuracy: 0.1581\n",
            "Epoch 24/100\n",
            "250/250 [==============================] - 5s 19ms/step - loss: 3.9210 - accuracy: 0.1369 - val_loss: 3.7295 - val_accuracy: 0.1684\n",
            "Epoch 25/100\n",
            "250/250 [==============================] - 5s 18ms/step - loss: 3.8915 - accuracy: 0.1402 - val_loss: 3.7065 - val_accuracy: 0.1652\n",
            "Epoch 26/100\n",
            "250/250 [==============================] - 5s 18ms/step - loss: 3.8395 - accuracy: 0.1438 - val_loss: 3.6400 - val_accuracy: 0.1792\n",
            "Epoch 27/100\n",
            "250/250 [==============================] - 5s 18ms/step - loss: 3.7844 - accuracy: 0.1505 - val_loss: 3.5899 - val_accuracy: 0.1858\n",
            "Epoch 28/100\n",
            "250/250 [==============================] - 5s 19ms/step - loss: 3.7398 - accuracy: 0.1572 - val_loss: 3.5244 - val_accuracy: 0.1972\n",
            "Epoch 29/100\n",
            "250/250 [==============================] - 5s 18ms/step - loss: 3.6932 - accuracy: 0.1597 - val_loss: 3.5025 - val_accuracy: 0.2075\n",
            "Epoch 30/100\n",
            "250/250 [==============================] - 4s 18ms/step - loss: 3.6540 - accuracy: 0.1654 - val_loss: 3.4823 - val_accuracy: 0.2036\n",
            "Epoch 31/100\n",
            "250/250 [==============================] - 5s 19ms/step - loss: 3.6117 - accuracy: 0.1751 - val_loss: 3.4056 - val_accuracy: 0.2119\n",
            "Epoch 32/100\n",
            "250/250 [==============================] - 4s 18ms/step - loss: 3.5693 - accuracy: 0.1780 - val_loss: 3.3502 - val_accuracy: 0.2334\n",
            "Epoch 33/100\n",
            "250/250 [==============================] - 5s 19ms/step - loss: 3.5251 - accuracy: 0.1834 - val_loss: 3.3200 - val_accuracy: 0.2343\n",
            "Epoch 34/100\n",
            "250/250 [==============================] - 5s 18ms/step - loss: 3.4799 - accuracy: 0.1957 - val_loss: 3.2948 - val_accuracy: 0.2350\n",
            "Epoch 35/100\n",
            "250/250 [==============================] - 5s 18ms/step - loss: 3.4504 - accuracy: 0.1951 - val_loss: 3.2210 - val_accuracy: 0.2562\n",
            "Epoch 36/100\n",
            "250/250 [==============================] - 5s 18ms/step - loss: 3.4004 - accuracy: 0.2028 - val_loss: 3.2276 - val_accuracy: 0.2537\n",
            "Epoch 37/100\n",
            "250/250 [==============================] - 4s 18ms/step - loss: 3.3658 - accuracy: 0.2170 - val_loss: 3.1531 - val_accuracy: 0.2657\n",
            "Epoch 38/100\n",
            "250/250 [==============================] - 5s 19ms/step - loss: 3.3277 - accuracy: 0.2157 - val_loss: 3.1578 - val_accuracy: 0.2643\n",
            "Epoch 39/100\n",
            "250/250 [==============================] - 4s 18ms/step - loss: 3.3325 - accuracy: 0.2248 - val_loss: 3.2178 - val_accuracy: 0.2551\n",
            "Epoch 40/100\n",
            "250/250 [==============================] - 5s 18ms/step - loss: 3.3549 - accuracy: 0.2107 - val_loss: 3.0986 - val_accuracy: 0.2767\n",
            "Epoch 41/100\n",
            "250/250 [==============================] - 5s 18ms/step - loss: 3.2469 - accuracy: 0.2296 - val_loss: 3.0208 - val_accuracy: 0.2965\n",
            "Epoch 42/100\n",
            "250/250 [==============================] - 5s 18ms/step - loss: 3.1953 - accuracy: 0.2419 - val_loss: 2.9797 - val_accuracy: 0.3008\n",
            "Epoch 43/100\n",
            "250/250 [==============================] - 4s 18ms/step - loss: 3.1545 - accuracy: 0.2452 - val_loss: 2.9603 - val_accuracy: 0.3043\n",
            "Epoch 44/100\n",
            "250/250 [==============================] - 5s 18ms/step - loss: 3.1190 - accuracy: 0.2573 - val_loss: 2.9341 - val_accuracy: 0.3036\n",
            "Epoch 45/100\n",
            "250/250 [==============================] - 5s 18ms/step - loss: 3.0852 - accuracy: 0.2623 - val_loss: 2.8879 - val_accuracy: 0.3187\n",
            "Epoch 46/100\n",
            "250/250 [==============================] - 4s 18ms/step - loss: 3.0603 - accuracy: 0.2636 - val_loss: 2.8711 - val_accuracy: 0.3155\n",
            "Epoch 47/100\n",
            "250/250 [==============================] - 5s 20ms/step - loss: 3.0271 - accuracy: 0.2709 - val_loss: 2.8415 - val_accuracy: 0.3301\n",
            "Epoch 48/100\n",
            "250/250 [==============================] - 4s 18ms/step - loss: 2.9989 - accuracy: 0.2760 - val_loss: 2.7846 - val_accuracy: 0.3363\n",
            "Epoch 49/100\n",
            "250/250 [==============================] - 5s 18ms/step - loss: 2.9579 - accuracy: 0.2834 - val_loss: 2.7618 - val_accuracy: 0.3360\n",
            "Epoch 50/100\n",
            "250/250 [==============================] - 5s 18ms/step - loss: 2.9367 - accuracy: 0.2873 - val_loss: 2.7537 - val_accuracy: 0.3401\n",
            "Epoch 51/100\n",
            "250/250 [==============================] - 5s 18ms/step - loss: 2.9097 - accuracy: 0.2919 - val_loss: 2.7190 - val_accuracy: 0.3448\n",
            "Epoch 52/100\n",
            "250/250 [==============================] - 5s 19ms/step - loss: 2.8813 - accuracy: 0.3019 - val_loss: 2.6802 - val_accuracy: 0.3583\n",
            "Epoch 53/100\n",
            "250/250 [==============================] - 4s 18ms/step - loss: 2.8447 - accuracy: 0.3082 - val_loss: 2.6599 - val_accuracy: 0.3592\n",
            "Epoch 54/100\n",
            "250/250 [==============================] - 5s 19ms/step - loss: 2.8256 - accuracy: 0.3102 - val_loss: 2.6605 - val_accuracy: 0.3547\n",
            "Epoch 55/100\n",
            "250/250 [==============================] - 5s 18ms/step - loss: 2.7951 - accuracy: 0.3132 - val_loss: 2.5913 - val_accuracy: 0.3715\n",
            "Epoch 56/100\n",
            "250/250 [==============================] - 5s 20ms/step - loss: 2.7668 - accuracy: 0.3236 - val_loss: 2.5805 - val_accuracy: 0.3710\n",
            "Epoch 57/100\n",
            "250/250 [==============================] - 5s 18ms/step - loss: 2.7409 - accuracy: 0.3275 - val_loss: 2.5507 - val_accuracy: 0.3826\n",
            "Epoch 58/100\n",
            "250/250 [==============================] - 4s 18ms/step - loss: 2.7133 - accuracy: 0.3349 - val_loss: 2.5685 - val_accuracy: 0.3702\n",
            "Epoch 59/100\n",
            "250/250 [==============================] - 5s 21ms/step - loss: 2.6970 - accuracy: 0.3327 - val_loss: 2.5212 - val_accuracy: 0.3918\n",
            "Epoch 60/100\n",
            "250/250 [==============================] - 5s 19ms/step - loss: 2.6704 - accuracy: 0.3467 - val_loss: 2.4801 - val_accuracy: 0.3941\n",
            "Epoch 61/100\n",
            "250/250 [==============================] - 5s 19ms/step - loss: 2.6539 - accuracy: 0.3447 - val_loss: 2.4588 - val_accuracy: 0.4005\n",
            "Epoch 62/100\n",
            "250/250 [==============================] - 5s 19ms/step - loss: 2.6276 - accuracy: 0.3527 - val_loss: 2.4582 - val_accuracy: 0.4013\n",
            "Epoch 63/100\n",
            "250/250 [==============================] - 5s 19ms/step - loss: 2.5989 - accuracy: 0.3550 - val_loss: 2.4085 - val_accuracy: 0.4148\n",
            "Epoch 64/100\n",
            "250/250 [==============================] - 5s 18ms/step - loss: 2.5682 - accuracy: 0.3632 - val_loss: 2.3888 - val_accuracy: 0.4129\n",
            "Epoch 65/100\n",
            "250/250 [==============================] - 5s 18ms/step - loss: 2.5428 - accuracy: 0.3708 - val_loss: 2.3680 - val_accuracy: 0.4208\n",
            "Epoch 66/100\n",
            "250/250 [==============================] - 5s 19ms/step - loss: 2.5231 - accuracy: 0.3772 - val_loss: 2.3755 - val_accuracy: 0.4164\n",
            "Epoch 67/100\n",
            "250/250 [==============================] - 5s 18ms/step - loss: 2.5108 - accuracy: 0.3821 - val_loss: 2.3148 - val_accuracy: 0.4303\n",
            "Epoch 68/100\n",
            "250/250 [==============================] - 5s 18ms/step - loss: 2.4973 - accuracy: 0.3747 - val_loss: 2.3138 - val_accuracy: 0.4341\n",
            "Epoch 69/100\n",
            "250/250 [==============================] - 5s 19ms/step - loss: 2.4818 - accuracy: 0.3830 - val_loss: 2.3041 - val_accuracy: 0.4286\n",
            "Epoch 70/100\n",
            "250/250 [==============================] - 5s 19ms/step - loss: 2.4482 - accuracy: 0.3890 - val_loss: 2.2917 - val_accuracy: 0.4347\n",
            "Epoch 71/100\n",
            "250/250 [==============================] - 5s 19ms/step - loss: 2.4157 - accuracy: 0.3998 - val_loss: 2.2347 - val_accuracy: 0.4456\n",
            "Epoch 72/100\n",
            "250/250 [==============================] - 5s 20ms/step - loss: 2.3887 - accuracy: 0.4042 - val_loss: 2.2403 - val_accuracy: 0.4419\n",
            "Epoch 73/100\n",
            "250/250 [==============================] - 5s 21ms/step - loss: 2.3719 - accuracy: 0.4073 - val_loss: 2.2025 - val_accuracy: 0.4531\n",
            "Epoch 74/100\n",
            "250/250 [==============================] - 5s 19ms/step - loss: 2.3533 - accuracy: 0.4077 - val_loss: 2.1826 - val_accuracy: 0.4540\n",
            "Epoch 75/100\n",
            "250/250 [==============================] - 5s 18ms/step - loss: 2.3424 - accuracy: 0.4132 - val_loss: 2.1936 - val_accuracy: 0.4580\n",
            "Epoch 76/100\n",
            "250/250 [==============================] - 5s 20ms/step - loss: 2.3189 - accuracy: 0.4154 - val_loss: 2.1363 - val_accuracy: 0.4697\n",
            "Epoch 77/100\n",
            "250/250 [==============================] - 5s 19ms/step - loss: 2.3107 - accuracy: 0.4154 - val_loss: 2.1572 - val_accuracy: 0.4633\n",
            "Epoch 78/100\n",
            "250/250 [==============================] - 5s 19ms/step - loss: 2.2825 - accuracy: 0.4235 - val_loss: 2.0988 - val_accuracy: 0.4782\n",
            "Epoch 79/100\n",
            "250/250 [==============================] - 5s 19ms/step - loss: 2.2750 - accuracy: 0.4276 - val_loss: 2.1148 - val_accuracy: 0.4654\n",
            "Epoch 80/100\n",
            "250/250 [==============================] - 5s 20ms/step - loss: 2.2527 - accuracy: 0.4375 - val_loss: 2.0984 - val_accuracy: 0.4714\n",
            "Epoch 81/100\n",
            "250/250 [==============================] - 5s 20ms/step - loss: 2.2322 - accuracy: 0.4328 - val_loss: 2.0614 - val_accuracy: 0.4822\n",
            "Epoch 82/100\n",
            "250/250 [==============================] - 5s 19ms/step - loss: 2.2108 - accuracy: 0.4419 - val_loss: 2.0474 - val_accuracy: 0.4831\n",
            "Epoch 83/100\n",
            "250/250 [==============================] - 5s 20ms/step - loss: 2.1895 - accuracy: 0.4453 - val_loss: 2.0316 - val_accuracy: 0.4853\n",
            "Epoch 84/100\n",
            "250/250 [==============================] - 5s 19ms/step - loss: 2.1710 - accuracy: 0.4461 - val_loss: 2.0128 - val_accuracy: 0.4916\n",
            "Epoch 85/100\n",
            "250/250 [==============================] - 5s 20ms/step - loss: 2.1570 - accuracy: 0.4519 - val_loss: 1.9976 - val_accuracy: 0.4952\n",
            "Epoch 86/100\n",
            "250/250 [==============================] - 5s 19ms/step - loss: 2.1395 - accuracy: 0.4478 - val_loss: 1.9747 - val_accuracy: 0.4954\n",
            "Epoch 87/100\n",
            "250/250 [==============================] - 4s 18ms/step - loss: 2.1104 - accuracy: 0.4615 - val_loss: 1.9551 - val_accuracy: 0.5083\n",
            "Epoch 88/100\n",
            "250/250 [==============================] - 5s 18ms/step - loss: 2.0945 - accuracy: 0.4696 - val_loss: 1.9375 - val_accuracy: 0.5063\n",
            "Epoch 89/100\n",
            "250/250 [==============================] - 5s 20ms/step - loss: 2.1015 - accuracy: 0.4599 - val_loss: 1.9498 - val_accuracy: 0.5021\n",
            "Epoch 90/100\n",
            "250/250 [==============================] - 5s 19ms/step - loss: 2.0783 - accuracy: 0.4708 - val_loss: 1.9628 - val_accuracy: 0.5044\n",
            "Epoch 91/100\n",
            "250/250 [==============================] - 5s 18ms/step - loss: 2.0473 - accuracy: 0.4780 - val_loss: 1.9059 - val_accuracy: 0.5159\n",
            "Epoch 92/100\n",
            "250/250 [==============================] - 5s 19ms/step - loss: 2.0582 - accuracy: 0.4707 - val_loss: 1.8996 - val_accuracy: 0.5215\n",
            "Epoch 93/100\n",
            "250/250 [==============================] - 5s 20ms/step - loss: 2.0319 - accuracy: 0.4768 - val_loss: 1.8658 - val_accuracy: 0.5256\n",
            "Epoch 94/100\n",
            "250/250 [==============================] - 5s 19ms/step - loss: 2.0075 - accuracy: 0.4900 - val_loss: 1.8785 - val_accuracy: 0.5184\n",
            "Epoch 95/100\n",
            "250/250 [==============================] - 5s 21ms/step - loss: 1.9884 - accuracy: 0.4892 - val_loss: 1.8558 - val_accuracy: 0.5293\n",
            "Epoch 96/100\n",
            "250/250 [==============================] - 6s 26ms/step - loss: 1.9591 - accuracy: 0.4995 - val_loss: 1.7896 - val_accuracy: 0.5447\n",
            "Epoch 97/100\n",
            "250/250 [==============================] - 5s 20ms/step - loss: 1.9404 - accuracy: 0.5014 - val_loss: 1.8212 - val_accuracy: 0.5331\n",
            "Epoch 98/100\n",
            "250/250 [==============================] - 5s 19ms/step - loss: 1.9371 - accuracy: 0.4982 - val_loss: 1.7703 - val_accuracy: 0.5509\n",
            "Epoch 99/100\n",
            "250/250 [==============================] - 5s 19ms/step - loss: 1.9313 - accuracy: 0.4991 - val_loss: 1.7771 - val_accuracy: 0.5477\n",
            "Epoch 100/100\n",
            "250/250 [==============================] - 5s 19ms/step - loss: 1.8995 - accuracy: 0.5112 - val_loss: 1.7498 - val_accuracy: 0.5559\n"
          ]
        },
        {
          "name": "stderr",
          "output_type": "stream",
          "text": [
            "/Library/Frameworks/Python.framework/Versions/3.11/lib/python3.11/site-packages/keras/src/engine/training.py:3079: UserWarning: You are saving your model as an HDF5 file via `model.save()`. This file format is considered legacy. We recommend using instead the native Keras format, e.g. `model.save('my_model.keras')`.\n",
            "  saving_api.save_model(\n"
          ]
        }
      ],
      "source": [
        "# fit model\n",
        "history = model.fit(X, y, batch_size=32, epochs=100,verbose=1, validation_data=(X,y))\n",
        "\n",
        "model.save('/Users/au648304/Documents/TextGeneration/eventyr_100epoch_32.h5')\n",
        "dump(tokenizer, open('/Users/au648304/Documents/TextGeneration/eventyr_100epoch_32', 'wb'))\n",
        "dump(history.history['accuracy'], open('/Users/au648304/Documents/TextGeneration/eventyr_100epoch_history_accuracy_32', 'wb'))\n",
        "dump(history.history['val_accuracy'], open('/Users/au648304/Documents/TextGeneration/eventyr_100epoch_history_valaccuracy_32', 'wb'))"
      ]
    },
    {
      "cell_type": "code",
      "execution_count": 30,
      "metadata": {
        "id": "b3RLpJVfiCvu"
      },
      "outputs": [
        {
          "name": "stdout",
          "output_type": "stream",
          "text": [
            "dict_keys(['loss', 'accuracy', 'val_loss', 'val_accuracy'])\n"
          ]
        },
        {
          "data": {
            "image/png": "[encoded data removed]",
            "text/plain": [
              "<Figure size 640x480 with 1 Axes>"
            ]
          },
          "metadata": {},
          "output_type": "display_data"
        }
      ],
      "source": [
        "import matplotlib.pyplot as plt\n",
        "%matplotlib inline\n",
        "print(history.history.keys())\n",
        "# summarize history for accuracy\n",
        "plt.plot(history.history['accuracy'])\n",
        "plt.plot(history.history['val_accuracy'])\n",
        "plt.title('model accuracy')\n",
        "plt.ylabel('accuracy')\n",
        "plt.xlabel('epoch')\n",
        "plt.legend(['train', 'test'], loc='upper left')\n",
        "plt.show()"
      ]
    },
    {
      "cell_type": "code",
      "execution_count": 46,
      "metadata": {},
      "outputs": [
        {
          "data": {
            "text/plain": [
              "list"
            ]
          },
          "execution_count": 46,
          "metadata": {},
          "output_type": "execute_result"
        }
      ],
      "source": [
        "history_accuracy = load(open('/Users/au648304/Documents/TextGeneration/saga_100epoch_history_accuracy','rb'))\n",
        "history_accuracy2 = load(open('/Users/au648304/Documents/TextGeneration/saga_100epoch_history_accuracy','rb'))\n",
        "tmp = history_accuracy + history_accuracy2\n",
        "type(tmp)"
      ]
    },
    {
      "cell_type": "code",
      "execution_count": 31,
      "metadata": {},
      "outputs": [
        {
          "name": "stdout",
          "output_type": "stream",
          "text": [
            "Epoch 1/100\n",
            "250/250 [==============================] - 7s 23ms/step - loss: 1.8951 - accuracy: 0.5120 - val_loss: 1.7603 - val_accuracy: 0.5457\n",
            "Epoch 2/100\n",
            "250/250 [==============================] - 5s 22ms/step - loss: 1.8869 - accuracy: 0.5105 - val_loss: 1.7369 - val_accuracy: 0.5542\n",
            "Epoch 3/100\n",
            "250/250 [==============================] - 5s 21ms/step - loss: 1.8756 - accuracy: 0.5170 - val_loss: 1.7195 - val_accuracy: 0.5549\n",
            "Epoch 4/100\n",
            "250/250 [==============================] - 5s 22ms/step - loss: 1.8547 - accuracy: 0.5208 - val_loss: 1.7010 - val_accuracy: 0.5650\n",
            "Epoch 5/100\n",
            "250/250 [==============================] - 5s 20ms/step - loss: 1.8451 - accuracy: 0.5228 - val_loss: 1.6929 - val_accuracy: 0.5585\n",
            "Epoch 6/100\n",
            "250/250 [==============================] - 5s 20ms/step - loss: 1.8257 - accuracy: 0.5258 - val_loss: 1.6654 - val_accuracy: 0.5727\n",
            "Epoch 7/100\n",
            "250/250 [==============================] - 5s 20ms/step - loss: 1.7861 - accuracy: 0.5366 - val_loss: 1.6478 - val_accuracy: 0.5792\n",
            "Epoch 8/100\n",
            "250/250 [==============================] - 5s 20ms/step - loss: 1.7946 - accuracy: 0.5319 - val_loss: 1.6497 - val_accuracy: 0.5808\n",
            "Epoch 9/100\n",
            "250/250 [==============================] - 6s 23ms/step - loss: 1.7899 - accuracy: 0.5309 - val_loss: 1.6592 - val_accuracy: 0.5714\n",
            "Epoch 10/100\n",
            "250/250 [==============================] - 5s 22ms/step - loss: 1.7721 - accuracy: 0.5401 - val_loss: 1.6392 - val_accuracy: 0.5781\n",
            "Epoch 11/100\n",
            "250/250 [==============================] - 6s 22ms/step - loss: 1.7472 - accuracy: 0.5464 - val_loss: 1.6205 - val_accuracy: 0.5808\n",
            "Epoch 12/100\n",
            "250/250 [==============================] - 5s 20ms/step - loss: 1.7465 - accuracy: 0.5447 - val_loss: 1.6261 - val_accuracy: 0.5783\n",
            "Epoch 13/100\n",
            "250/250 [==============================] - 5s 21ms/step - loss: 1.7197 - accuracy: 0.5535 - val_loss: 1.5814 - val_accuracy: 0.5928\n",
            "Epoch 14/100\n",
            "250/250 [==============================] - 5s 21ms/step - loss: 1.6973 - accuracy: 0.5578 - val_loss: 1.5632 - val_accuracy: 0.5946\n",
            "Epoch 15/100\n",
            "250/250 [==============================] - 5s 19ms/step - loss: 1.6839 - accuracy: 0.5608 - val_loss: 1.5539 - val_accuracy: 0.5956\n",
            "Epoch 16/100\n",
            "250/250 [==============================] - 5s 20ms/step - loss: 1.6789 - accuracy: 0.5606 - val_loss: 1.5316 - val_accuracy: 0.6074\n",
            "Epoch 17/100\n",
            "250/250 [==============================] - 5s 21ms/step - loss: 1.6670 - accuracy: 0.5665 - val_loss: 1.5379 - val_accuracy: 0.6001\n",
            "Epoch 18/100\n",
            "250/250 [==============================] - 5s 20ms/step - loss: 1.6499 - accuracy: 0.5678 - val_loss: 1.5187 - val_accuracy: 0.6115\n",
            "Epoch 19/100\n",
            "250/250 [==============================] - 5s 19ms/step - loss: 1.6293 - accuracy: 0.5735 - val_loss: 1.4867 - val_accuracy: 0.6176\n",
            "Epoch 20/100\n",
            "250/250 [==============================] - 5s 21ms/step - loss: 1.6297 - accuracy: 0.5737 - val_loss: 1.5074 - val_accuracy: 0.6051\n",
            "Epoch 21/100\n",
            "250/250 [==============================] - 5s 20ms/step - loss: 1.6056 - accuracy: 0.5824 - val_loss: 1.4719 - val_accuracy: 0.6264\n",
            "Epoch 22/100\n",
            "250/250 [==============================] - 5s 21ms/step - loss: 1.5855 - accuracy: 0.5833 - val_loss: 1.4473 - val_accuracy: 0.6273\n",
            "Epoch 23/100\n",
            "250/250 [==============================] - 5s 21ms/step - loss: 1.6144 - accuracy: 0.5765 - val_loss: 1.4724 - val_accuracy: 0.6148\n",
            "Epoch 24/100\n",
            "250/250 [==============================] - 5s 21ms/step - loss: 1.5823 - accuracy: 0.5867 - val_loss: 1.4603 - val_accuracy: 0.6211\n",
            "Epoch 25/100\n",
            "250/250 [==============================] - 5s 22ms/step - loss: 1.5696 - accuracy: 0.5905 - val_loss: 1.4376 - val_accuracy: 0.6330\n",
            "Epoch 26/100\n",
            "250/250 [==============================] - 5s 22ms/step - loss: 1.5712 - accuracy: 0.5895 - val_loss: 1.4442 - val_accuracy: 0.6275\n",
            "Epoch 27/100\n",
            "250/250 [==============================] - 5s 21ms/step - loss: 1.5448 - accuracy: 0.5962 - val_loss: 1.3984 - val_accuracy: 0.6407\n",
            "Epoch 28/100\n",
            "250/250 [==============================] - 5s 21ms/step - loss: 1.5081 - accuracy: 0.6046 - val_loss: 1.4138 - val_accuracy: 0.6323\n",
            "Epoch 29/100\n",
            "250/250 [==============================] - 5s 22ms/step - loss: 1.4979 - accuracy: 0.6095 - val_loss: 1.3701 - val_accuracy: 0.6463\n",
            "Epoch 30/100\n",
            "250/250 [==============================] - 5s 21ms/step - loss: 1.4859 - accuracy: 0.6129 - val_loss: 1.3410 - val_accuracy: 0.6536\n",
            "Epoch 31/100\n",
            "250/250 [==============================] - 5s 21ms/step - loss: 1.4780 - accuracy: 0.6104 - val_loss: 1.3959 - val_accuracy: 0.6359\n",
            "Epoch 32/100\n",
            "250/250 [==============================] - 5s 21ms/step - loss: 1.4700 - accuracy: 0.6115 - val_loss: 1.3227 - val_accuracy: 0.6560\n",
            "Epoch 33/100\n",
            "250/250 [==============================] - 5s 22ms/step - loss: 1.4446 - accuracy: 0.6215 - val_loss: 1.3594 - val_accuracy: 0.6497\n",
            "Epoch 34/100\n",
            "250/250 [==============================] - 5s 21ms/step - loss: 1.4635 - accuracy: 0.6130 - val_loss: 1.3525 - val_accuracy: 0.6491\n",
            "Epoch 35/100\n",
            "250/250 [==============================] - 5s 22ms/step - loss: 1.4941 - accuracy: 0.6007 - val_loss: 1.3374 - val_accuracy: 0.6557\n",
            "Epoch 36/100\n",
            "250/250 [==============================] - 5s 20ms/step - loss: 1.4243 - accuracy: 0.6228 - val_loss: 1.2812 - val_accuracy: 0.6709\n",
            "Epoch 37/100\n",
            "250/250 [==============================] - 5s 19ms/step - loss: 1.3870 - accuracy: 0.6368 - val_loss: 1.2952 - val_accuracy: 0.6617\n",
            "Epoch 38/100\n",
            "250/250 [==============================] - 5s 21ms/step - loss: 1.3820 - accuracy: 0.6349 - val_loss: 1.2778 - val_accuracy: 0.6691\n",
            "Epoch 39/100\n",
            "250/250 [==============================] - 5s 20ms/step - loss: 1.4046 - accuracy: 0.6264 - val_loss: 1.3319 - val_accuracy: 0.6510\n",
            "Epoch 40/100\n",
            "250/250 [==============================] - 5s 20ms/step - loss: 1.3869 - accuracy: 0.6337 - val_loss: 1.2607 - val_accuracy: 0.6693\n",
            "Epoch 41/100\n",
            "250/250 [==============================] - 5s 22ms/step - loss: 1.3675 - accuracy: 0.6376 - val_loss: 1.2577 - val_accuracy: 0.6769\n",
            "Epoch 42/100\n",
            "250/250 [==============================] - 5s 20ms/step - loss: 1.3467 - accuracy: 0.6392 - val_loss: 1.2079 - val_accuracy: 0.6857\n",
            "Epoch 43/100\n",
            "250/250 [==============================] - 5s 19ms/step - loss: 1.3312 - accuracy: 0.6452 - val_loss: 1.2168 - val_accuracy: 0.6813\n",
            "Epoch 44/100\n",
            "250/250 [==============================] - 5s 21ms/step - loss: 1.3395 - accuracy: 0.6460 - val_loss: 1.2418 - val_accuracy: 0.6730\n",
            "Epoch 45/100\n",
            "250/250 [==============================] - 5s 19ms/step - loss: 1.3554 - accuracy: 0.6393 - val_loss: 1.2227 - val_accuracy: 0.6830\n",
            "Epoch 46/100\n",
            "250/250 [==============================] - 5s 21ms/step - loss: 1.3182 - accuracy: 0.6495 - val_loss: 1.1844 - val_accuracy: 0.6917\n",
            "Epoch 47/100\n",
            "250/250 [==============================] - 5s 20ms/step - loss: 1.2810 - accuracy: 0.6632 - val_loss: 1.1519 - val_accuracy: 0.7060\n",
            "Epoch 48/100\n",
            "250/250 [==============================] - 5s 21ms/step - loss: 1.2502 - accuracy: 0.6716 - val_loss: 1.1600 - val_accuracy: 0.6954\n",
            "Epoch 49/100\n",
            "250/250 [==============================] - 5s 21ms/step - loss: 1.2583 - accuracy: 0.6664 - val_loss: 1.1833 - val_accuracy: 0.6862\n",
            "Epoch 50/100\n",
            "250/250 [==============================] - 5s 20ms/step - loss: 1.2475 - accuracy: 0.6674 - val_loss: 1.1580 - val_accuracy: 0.6927\n",
            "Epoch 51/100\n",
            "250/250 [==============================] - 5s 20ms/step - loss: 1.2471 - accuracy: 0.6690 - val_loss: 1.1128 - val_accuracy: 0.7135\n",
            "Epoch 52/100\n",
            "250/250 [==============================] - 5s 20ms/step - loss: 1.2431 - accuracy: 0.6665 - val_loss: 1.1021 - val_accuracy: 0.7141\n",
            "Epoch 53/100\n",
            "250/250 [==============================] - 5s 21ms/step - loss: 1.2202 - accuracy: 0.6766 - val_loss: 1.1748 - val_accuracy: 0.6804\n",
            "Epoch 54/100\n",
            "250/250 [==============================] - 5s 21ms/step - loss: 1.2364 - accuracy: 0.6693 - val_loss: 1.1319 - val_accuracy: 0.6979\n",
            "Epoch 55/100\n",
            "250/250 [==============================] - 5s 20ms/step - loss: 1.1964 - accuracy: 0.6774 - val_loss: 1.0719 - val_accuracy: 0.7215\n",
            "Epoch 56/100\n",
            "250/250 [==============================] - 5s 20ms/step - loss: 1.1809 - accuracy: 0.6845 - val_loss: 1.1040 - val_accuracy: 0.7060\n",
            "Epoch 57/100\n",
            "250/250 [==============================] - 5s 21ms/step - loss: 1.1796 - accuracy: 0.6823 - val_loss: 1.0709 - val_accuracy: 0.7175\n",
            "Epoch 58/100\n",
            "250/250 [==============================] - 5s 21ms/step - loss: 1.1788 - accuracy: 0.6823 - val_loss: 1.0900 - val_accuracy: 0.7132\n",
            "Epoch 59/100\n",
            "250/250 [==============================] - 5s 20ms/step - loss: 1.1815 - accuracy: 0.6825 - val_loss: 1.0962 - val_accuracy: 0.7102\n",
            "Epoch 60/100\n",
            "250/250 [==============================] - 5s 20ms/step - loss: 1.1574 - accuracy: 0.6889 - val_loss: 1.0241 - val_accuracy: 0.7344\n",
            "Epoch 61/100\n",
            "250/250 [==============================] - 5s 20ms/step - loss: 1.1267 - accuracy: 0.7018 - val_loss: 1.0201 - val_accuracy: 0.7353\n",
            "Epoch 62/100\n",
            "250/250 [==============================] - 6s 24ms/step - loss: 1.1249 - accuracy: 0.7027 - val_loss: 1.0112 - val_accuracy: 0.7384\n",
            "Epoch 63/100\n",
            "250/250 [==============================] - 5s 21ms/step - loss: 1.1244 - accuracy: 0.6964 - val_loss: 1.0721 - val_accuracy: 0.7136\n",
            "Epoch 64/100\n",
            "250/250 [==============================] - 5s 20ms/step - loss: 1.1213 - accuracy: 0.7007 - val_loss: 1.0146 - val_accuracy: 0.7363\n",
            "Epoch 65/100\n",
            "250/250 [==============================] - 5s 20ms/step - loss: 1.0885 - accuracy: 0.7102 - val_loss: 0.9767 - val_accuracy: 0.7469\n",
            "Epoch 66/100\n",
            "250/250 [==============================] - 5s 21ms/step - loss: 1.1057 - accuracy: 0.7015 - val_loss: 1.0095 - val_accuracy: 0.7377\n",
            "Epoch 67/100\n",
            "250/250 [==============================] - 6s 24ms/step - loss: 1.1160 - accuracy: 0.7003 - val_loss: 1.0202 - val_accuracy: 0.7326\n",
            "Epoch 68/100\n",
            "250/250 [==============================] - 5s 21ms/step - loss: 1.1011 - accuracy: 0.7018 - val_loss: 0.9785 - val_accuracy: 0.7459\n",
            "Epoch 69/100\n",
            "250/250 [==============================] - 5s 21ms/step - loss: 1.0839 - accuracy: 0.7107 - val_loss: 1.0095 - val_accuracy: 0.7374\n",
            "Epoch 70/100\n",
            "250/250 [==============================] - 5s 20ms/step - loss: 1.0553 - accuracy: 0.7197 - val_loss: 0.9284 - val_accuracy: 0.7596\n",
            "Epoch 71/100\n",
            "250/250 [==============================] - 5s 20ms/step - loss: 1.0177 - accuracy: 0.7288 - val_loss: 0.9302 - val_accuracy: 0.7618\n",
            "Epoch 72/100\n",
            "250/250 [==============================] - 5s 20ms/step - loss: 1.0465 - accuracy: 0.7210 - val_loss: 0.9893 - val_accuracy: 0.7367\n",
            "Epoch 73/100\n",
            "250/250 [==============================] - 5s 19ms/step - loss: 1.0228 - accuracy: 0.7288 - val_loss: 0.9409 - val_accuracy: 0.7516\n",
            "Epoch 74/100\n",
            "250/250 [==============================] - 5s 20ms/step - loss: 1.0478 - accuracy: 0.7182 - val_loss: 0.9520 - val_accuracy: 0.7482\n",
            "Epoch 75/100\n",
            "250/250 [==============================] - 5s 19ms/step - loss: 1.0499 - accuracy: 0.7181 - val_loss: 0.9169 - val_accuracy: 0.7583\n",
            "Epoch 76/100\n",
            "250/250 [==============================] - 5s 21ms/step - loss: 0.9927 - accuracy: 0.7328 - val_loss: 0.8740 - val_accuracy: 0.7744\n",
            "Epoch 77/100\n",
            "250/250 [==============================] - 5s 20ms/step - loss: 0.9800 - accuracy: 0.7394 - val_loss: 0.9925 - val_accuracy: 0.7451\n",
            "Epoch 78/100\n",
            "250/250 [==============================] - 5s 20ms/step - loss: 0.9988 - accuracy: 0.7318 - val_loss: 0.8950 - val_accuracy: 0.7685\n",
            "Epoch 79/100\n",
            "250/250 [==============================] - 5s 21ms/step - loss: 0.9892 - accuracy: 0.7387 - val_loss: 0.8636 - val_accuracy: 0.7770\n",
            "Epoch 80/100\n",
            "250/250 [==============================] - 5s 19ms/step - loss: 0.9331 - accuracy: 0.7486 - val_loss: 0.8207 - val_accuracy: 0.7919\n",
            "Epoch 81/100\n",
            "250/250 [==============================] - 5s 19ms/step - loss: 0.9211 - accuracy: 0.7568 - val_loss: 0.8392 - val_accuracy: 0.7834\n",
            "Epoch 82/100\n",
            "250/250 [==============================] - 5s 22ms/step - loss: 0.9210 - accuracy: 0.7537 - val_loss: 0.8303 - val_accuracy: 0.7848\n",
            "Epoch 83/100\n",
            "250/250 [==============================] - 5s 21ms/step - loss: 0.9426 - accuracy: 0.7476 - val_loss: 0.8540 - val_accuracy: 0.7729\n",
            "Epoch 84/100\n",
            "250/250 [==============================] - 5s 20ms/step - loss: 0.9288 - accuracy: 0.7503 - val_loss: 0.8105 - val_accuracy: 0.7908\n",
            "Epoch 85/100\n",
            "250/250 [==============================] - 5s 21ms/step - loss: 0.8989 - accuracy: 0.7605 - val_loss: 0.8478 - val_accuracy: 0.7774\n",
            "Epoch 86/100\n",
            "250/250 [==============================] - 5s 19ms/step - loss: 0.9042 - accuracy: 0.7625 - val_loss: 0.8054 - val_accuracy: 0.7912\n",
            "Epoch 87/100\n",
            "250/250 [==============================] - 5s 20ms/step - loss: 0.9225 - accuracy: 0.7481 - val_loss: 0.8580 - val_accuracy: 0.7682\n",
            "Epoch 88/100\n",
            "250/250 [==============================] - 5s 20ms/step - loss: 0.9511 - accuracy: 0.7403 - val_loss: 0.8437 - val_accuracy: 0.7771\n",
            "Epoch 89/100\n",
            "250/250 [==============================] - 5s 20ms/step - loss: 0.8996 - accuracy: 0.7565 - val_loss: 0.7948 - val_accuracy: 0.7929\n",
            "Epoch 90/100\n",
            "250/250 [==============================] - 5s 19ms/step - loss: 0.8460 - accuracy: 0.7794 - val_loss: 0.7439 - val_accuracy: 0.8104\n",
            "Epoch 91/100\n",
            "250/250 [==============================] - 5s 20ms/step - loss: 0.8035 - accuracy: 0.7902 - val_loss: 0.7310 - val_accuracy: 0.8099\n",
            "Epoch 92/100\n",
            "250/250 [==============================] - 5s 20ms/step - loss: 0.7954 - accuracy: 0.7875 - val_loss: 0.7406 - val_accuracy: 0.8115\n",
            "Epoch 93/100\n",
            "250/250 [==============================] - 5s 20ms/step - loss: 0.8122 - accuracy: 0.7819 - val_loss: 0.7186 - val_accuracy: 0.8153\n",
            "Epoch 94/100\n",
            "250/250 [==============================] - 5s 21ms/step - loss: 0.8229 - accuracy: 0.7825 - val_loss: 0.7509 - val_accuracy: 0.8057\n",
            "Epoch 95/100\n",
            "250/250 [==============================] - 5s 20ms/step - loss: 0.8375 - accuracy: 0.7706 - val_loss: 0.7411 - val_accuracy: 0.8032\n",
            "Epoch 96/100\n",
            "250/250 [==============================] - 5s 20ms/step - loss: 0.8089 - accuracy: 0.7836 - val_loss: 0.7365 - val_accuracy: 0.8079\n",
            "Epoch 97/100\n",
            "250/250 [==============================] - 5s 19ms/step - loss: 0.7993 - accuracy: 0.7855 - val_loss: 0.7178 - val_accuracy: 0.8173\n",
            "Epoch 98/100\n",
            "250/250 [==============================] - 5s 20ms/step - loss: 0.7937 - accuracy: 0.7843 - val_loss: 0.7041 - val_accuracy: 0.8177\n",
            "Epoch 99/100\n",
            "250/250 [==============================] - 5s 19ms/step - loss: 0.7578 - accuracy: 0.7999 - val_loss: 0.6740 - val_accuracy: 0.8239\n",
            "Epoch 100/100\n",
            "250/250 [==============================] - 5s 20ms/step - loss: 0.7384 - accuracy: 0.8054 - val_loss: 0.6578 - val_accuracy: 0.8363\n"
          ]
        },
        {
          "name": "stderr",
          "output_type": "stream",
          "text": [
            "/Library/Frameworks/Python.framework/Versions/3.11/lib/python3.11/site-packages/keras/src/engine/training.py:3079: UserWarning: You are saving your model as an HDF5 file via `model.save()`. This file format is considered legacy. We recommend using instead the native Keras format, e.g. `model.save('my_model.keras')`.\n",
            "  saving_api.save_model(\n"
          ]
        }
      ],
      "source": [
        "model = load_model('/Users/au648304/Documents/TextGeneration/eventyr_100epoch_32.h5')\n",
        "tokenizer = load(open('/Users/au648304/Documents/TextGeneration/eventyr_100epoch_32','rb'))\n",
        "history_accuracy = load(open('/Users/au648304/Documents/TextGeneration/eventyr_100epoch_history_accuracy_32','rb'))\n",
        "history_valaccuracy = load(open('/Users/au648304/Documents/TextGeneration/eventyr_100epoch_history_valaccuracy_32','rb'))\n",
        "\n",
        "history = model.fit(X, y, batch_size=32, epochs=100,verbose=1, validation_data=(X,y))\n",
        "\n",
        "accuracy = history_accuracy + history.history['accuracy']\n",
        "valaccuracy = history_valaccuracy + history.history['val_accuracy']\n",
        "\n",
        "model.save('/Users/au648304/Documents/TextGeneration/eventyr_200epoch.h5')\n",
        "dump(tokenizer, open('/Users/au648304/Documents/TextGeneration/eventyr_200epoch', 'wb'))\n",
        "dump(accuracy, open('/Users/au648304/Documents/TextGeneration/eventyr_200epoch_history_accuracy', 'wb'))\n",
        "dump(valaccuracy, open('/Users/au648304/Documents/TextGeneration/eventyr_200epoch_history_valaccuracy', 'wb'))"
      ]
    },
    {
      "cell_type": "code",
      "execution_count": 32,
      "metadata": {},
      "outputs": [
        {
          "name": "stdout",
          "output_type": "stream",
          "text": [
            "dict_keys(['loss', 'accuracy', 'val_loss', 'val_accuracy'])\n"
          ]
        },
        {
          "data": {
            "image/png": "[encoded data removed]",
            "text/plain": [
              "<Figure size 640x480 with 1 Axes>"
            ]
          },
          "metadata": {},
          "output_type": "display_data"
        }
      ],
      "source": [
        "import matplotlib.pyplot as plt\n",
        "%matplotlib inline\n",
        "print(history.history.keys())\n",
        "# summarize history for accuracy\n",
        "plt.plot(history.history['accuracy'])\n",
        "plt.plot(history.history['val_accuracy'])\n",
        "plt.title('model accuracy')\n",
        "plt.ylabel('accuracy')\n",
        "plt.xlabel('epoch')\n",
        "plt.legend(['train', 'test'], loc='upper left')\n",
        "plt.show()"
      ]
    },
    {
      "cell_type": "code",
      "execution_count": 49,
      "metadata": {},
      "outputs": [
        {
          "name": "stdout",
          "output_type": "stream",
          "text": [
            "Epoch 1/100\n",
            "508/508 [==============================] - 32s 60ms/step - loss: 1.7937 - accuracy: 0.5641 - val_loss: 1.6559 - val_accuracy: 0.5982\n",
            "Epoch 2/100\n",
            "508/508 [==============================] - 30s 58ms/step - loss: 1.7755 - accuracy: 0.5703 - val_loss: 1.6602 - val_accuracy: 0.5980\n",
            "Epoch 3/100\n",
            "508/508 [==============================] - 31s 62ms/step - loss: 1.7708 - accuracy: 0.5687 - val_loss: 1.6611 - val_accuracy: 0.5993\n",
            "Epoch 4/100\n",
            "508/508 [==============================] - 29s 56ms/step - loss: 1.7786 - accuracy: 0.5679 - val_loss: 1.6508 - val_accuracy: 0.5998\n",
            "Epoch 5/100\n",
            "508/508 [==============================] - 29s 57ms/step - loss: 1.7609 - accuracy: 0.5716 - val_loss: 1.6312 - val_accuracy: 0.6061\n",
            "Epoch 6/100\n",
            "508/508 [==============================] - 29s 57ms/step - loss: 1.7444 - accuracy: 0.5756 - val_loss: 1.6257 - val_accuracy: 0.6064\n",
            "Epoch 7/100\n",
            "508/508 [==============================] - 29s 57ms/step - loss: 1.7454 - accuracy: 0.5775 - val_loss: 1.6413 - val_accuracy: 0.6002\n",
            "Epoch 8/100\n",
            "508/508 [==============================] - 29s 57ms/step - loss: 1.7534 - accuracy: 0.5743 - val_loss: 1.6288 - val_accuracy: 0.6053\n",
            "Epoch 9/100\n",
            "508/508 [==============================] - 28s 56ms/step - loss: 1.7315 - accuracy: 0.5772 - val_loss: 1.6300 - val_accuracy: 0.6064\n",
            "Epoch 10/100\n",
            "508/508 [==============================] - 30s 58ms/step - loss: 1.7235 - accuracy: 0.5804 - val_loss: 1.6280 - val_accuracy: 0.6040\n",
            "Epoch 11/100\n",
            "508/508 [==============================] - 29s 57ms/step - loss: 1.7356 - accuracy: 0.5773 - val_loss: 1.6513 - val_accuracy: 0.5973\n",
            "Epoch 12/100\n",
            "508/508 [==============================] - 29s 57ms/step - loss: 1.7217 - accuracy: 0.5806 - val_loss: 1.6346 - val_accuracy: 0.6008\n",
            "Epoch 13/100\n",
            "508/508 [==============================] - 29s 56ms/step - loss: 1.7109 - accuracy: 0.5822 - val_loss: 1.5908 - val_accuracy: 0.6147\n",
            "Epoch 14/100\n",
            "508/508 [==============================] - 30s 59ms/step - loss: 1.7066 - accuracy: 0.5825 - val_loss: 1.5991 - val_accuracy: 0.6119\n",
            "Epoch 15/100\n",
            "508/508 [==============================] - 29s 57ms/step - loss: 1.7100 - accuracy: 0.5826 - val_loss: 1.6418 - val_accuracy: 0.5979\n",
            "Epoch 16/100\n",
            "508/508 [==============================] - 30s 58ms/step - loss: 1.7253 - accuracy: 0.5789 - val_loss: 1.6161 - val_accuracy: 0.6068\n",
            "Epoch 17/100\n",
            "508/508 [==============================] - 29s 56ms/step - loss: 1.7032 - accuracy: 0.5828 - val_loss: 1.5884 - val_accuracy: 0.6140\n",
            "Epoch 18/100\n",
            "508/508 [==============================] - 29s 56ms/step - loss: 1.6835 - accuracy: 0.5877 - val_loss: 1.5841 - val_accuracy: 0.6143\n",
            "Epoch 19/100\n",
            "508/508 [==============================] - 29s 58ms/step - loss: 1.6854 - accuracy: 0.5879 - val_loss: 1.5836 - val_accuracy: 0.6153\n",
            "Epoch 20/100\n",
            "508/508 [==============================] - 29s 56ms/step - loss: 1.6634 - accuracy: 0.5943 - val_loss: 1.5739 - val_accuracy: 0.6167\n",
            "Epoch 21/100\n",
            "508/508 [==============================] - 30s 58ms/step - loss: 1.6705 - accuracy: 0.5906 - val_loss: 1.5874 - val_accuracy: 0.6132\n",
            "Epoch 22/100\n",
            "508/508 [==============================] - 30s 58ms/step - loss: 1.6661 - accuracy: 0.5922 - val_loss: 1.5712 - val_accuracy: 0.6166\n",
            "Epoch 23/100\n",
            "508/508 [==============================] - 30s 58ms/step - loss: 1.6703 - accuracy: 0.5928 - val_loss: 1.5524 - val_accuracy: 0.6215\n",
            "Epoch 24/100\n",
            "508/508 [==============================] - 32s 62ms/step - loss: 1.6617 - accuracy: 0.5932 - val_loss: 1.5494 - val_accuracy: 0.6243\n",
            "Epoch 25/100\n",
            "508/508 [==============================] - 30s 59ms/step - loss: 1.6578 - accuracy: 0.5925 - val_loss: 1.5450 - val_accuracy: 0.6249\n",
            "Epoch 26/100\n",
            "508/508 [==============================] - 30s 59ms/step - loss: 1.6472 - accuracy: 0.5960 - val_loss: 1.5422 - val_accuracy: 0.6253\n",
            "Epoch 27/100\n",
            "508/508 [==============================] - 30s 59ms/step - loss: 1.6290 - accuracy: 0.6015 - val_loss: 1.5314 - val_accuracy: 0.6272\n",
            "Epoch 28/100\n",
            "508/508 [==============================] - 28s 56ms/step - loss: 1.6368 - accuracy: 0.5993 - val_loss: 1.5304 - val_accuracy: 0.6275\n",
            "Epoch 29/100\n",
            "508/508 [==============================] - 29s 56ms/step - loss: 1.6408 - accuracy: 0.5981 - val_loss: 1.5753 - val_accuracy: 0.6128\n",
            "Epoch 30/100\n",
            "508/508 [==============================] - 29s 56ms/step - loss: 1.6269 - accuracy: 0.6009 - val_loss: 1.5085 - val_accuracy: 0.6340\n",
            "Epoch 31/100\n",
            "508/508 [==============================] - 28s 56ms/step - loss: 1.6156 - accuracy: 0.6042 - val_loss: 1.5416 - val_accuracy: 0.6239\n",
            "Epoch 32/100\n",
            "508/508 [==============================] - 27s 53ms/step - loss: 1.6204 - accuracy: 0.6029 - val_loss: 1.6289 - val_accuracy: 0.6048\n",
            "Epoch 33/100\n",
            "508/508 [==============================] - 28s 55ms/step - loss: 1.6851 - accuracy: 0.5852 - val_loss: 1.5565 - val_accuracy: 0.6176\n",
            "Epoch 34/100\n",
            "508/508 [==============================] - 28s 56ms/step - loss: 1.6171 - accuracy: 0.6042 - val_loss: 1.4956 - val_accuracy: 0.6335\n",
            "Epoch 35/100\n",
            "508/508 [==============================] - 28s 55ms/step - loss: 1.5785 - accuracy: 0.6140 - val_loss: 1.4774 - val_accuracy: 0.6397\n",
            "Epoch 36/100\n",
            "508/508 [==============================] - 30s 59ms/step - loss: 1.5911 - accuracy: 0.6075 - val_loss: 1.4940 - val_accuracy: 0.6347\n",
            "Epoch 37/100\n",
            "508/508 [==============================] - 29s 56ms/step - loss: 1.5878 - accuracy: 0.6095 - val_loss: 1.4890 - val_accuracy: 0.6360\n",
            "Epoch 38/100\n",
            "508/508 [==============================] - 28s 56ms/step - loss: 1.5938 - accuracy: 0.6073 - val_loss: 1.4804 - val_accuracy: 0.6398\n",
            "Epoch 39/100\n",
            "508/508 [==============================] - 29s 58ms/step - loss: 1.5936 - accuracy: 0.6076 - val_loss: 1.5173 - val_accuracy: 0.6278\n",
            "Epoch 40/100\n",
            "508/508 [==============================] - 28s 56ms/step - loss: 1.5874 - accuracy: 0.6093 - val_loss: 1.4696 - val_accuracy: 0.6410\n",
            "Epoch 41/100\n",
            "508/508 [==============================] - 28s 55ms/step - loss: 1.5753 - accuracy: 0.6126 - val_loss: 1.4773 - val_accuracy: 0.6402\n",
            "Epoch 42/100\n",
            "508/508 [==============================] - 28s 55ms/step - loss: 1.5643 - accuracy: 0.6149 - val_loss: 1.4676 - val_accuracy: 0.6416\n",
            "Epoch 43/100\n",
            "508/508 [==============================] - 28s 55ms/step - loss: 1.5794 - accuracy: 0.6093 - val_loss: 1.4643 - val_accuracy: 0.6415\n",
            "Epoch 44/100\n",
            "508/508 [==============================] - 29s 57ms/step - loss: 1.5639 - accuracy: 0.6168 - val_loss: 1.4575 - val_accuracy: 0.6449\n",
            "Epoch 45/100\n",
            "508/508 [==============================] - 28s 55ms/step - loss: 1.5668 - accuracy: 0.6147 - val_loss: 1.4751 - val_accuracy: 0.6371\n",
            "Epoch 46/100\n",
            "508/508 [==============================] - 29s 56ms/step - loss: 1.5514 - accuracy: 0.6180 - val_loss: 1.4432 - val_accuracy: 0.6468\n",
            "Epoch 47/100\n",
            "508/508 [==============================] - 28s 56ms/step - loss: 1.5426 - accuracy: 0.6197 - val_loss: 1.4467 - val_accuracy: 0.6472\n",
            "Epoch 48/100\n",
            "508/508 [==============================] - 28s 56ms/step - loss: 1.5581 - accuracy: 0.6167 - val_loss: 1.4664 - val_accuracy: 0.6406\n",
            "Epoch 49/100\n",
            "508/508 [==============================] - 28s 56ms/step - loss: 1.5744 - accuracy: 0.6120 - val_loss: 1.4951 - val_accuracy: 0.6329\n",
            "Epoch 50/100\n",
            "508/508 [==============================] - 29s 56ms/step - loss: 1.5824 - accuracy: 0.6079 - val_loss: 1.4425 - val_accuracy: 0.6473\n",
            "Epoch 51/100\n",
            "508/508 [==============================] - 28s 55ms/step - loss: 1.5267 - accuracy: 0.6246 - val_loss: 1.4147 - val_accuracy: 0.6542\n",
            "Epoch 52/100\n",
            "508/508 [==============================] - 28s 56ms/step - loss: 1.5147 - accuracy: 0.6261 - val_loss: 1.4237 - val_accuracy: 0.6519\n",
            "Epoch 53/100\n",
            "508/508 [==============================] - 28s 55ms/step - loss: 1.5229 - accuracy: 0.6256 - val_loss: 1.4546 - val_accuracy: 0.6403\n",
            "Epoch 54/100\n",
            "508/508 [==============================] - 29s 56ms/step - loss: 1.5355 - accuracy: 0.6190 - val_loss: 1.4199 - val_accuracy: 0.6525\n",
            "Epoch 55/100\n",
            "508/508 [==============================] - 31s 60ms/step - loss: 1.5181 - accuracy: 0.6268 - val_loss: 1.4284 - val_accuracy: 0.6467\n",
            "Epoch 56/100\n",
            "508/508 [==============================] - 29s 57ms/step - loss: 1.5093 - accuracy: 0.6262 - val_loss: 1.4465 - val_accuracy: 0.6430\n",
            "Epoch 57/100\n",
            "508/508 [==============================] - 29s 57ms/step - loss: 1.5092 - accuracy: 0.6256 - val_loss: 1.3873 - val_accuracy: 0.6602\n",
            "Epoch 58/100\n",
            "508/508 [==============================] - 29s 57ms/step - loss: 1.5012 - accuracy: 0.6288 - val_loss: 1.4361 - val_accuracy: 0.6457\n",
            "Epoch 59/100\n",
            "508/508 [==============================] - 26s 52ms/step - loss: 1.5267 - accuracy: 0.6225 - val_loss: 1.4112 - val_accuracy: 0.6532\n",
            "Epoch 60/100\n",
            "508/508 [==============================] - 27s 54ms/step - loss: 1.5087 - accuracy: 0.6277 - val_loss: 1.4092 - val_accuracy: 0.6510\n",
            "Epoch 61/100\n",
            "508/508 [==============================] - 28s 55ms/step - loss: 1.4887 - accuracy: 0.6313 - val_loss: 1.3795 - val_accuracy: 0.6597\n",
            "Epoch 62/100\n",
            "508/508 [==============================] - 29s 58ms/step - loss: 1.4885 - accuracy: 0.6307 - val_loss: 1.3924 - val_accuracy: 0.6567\n",
            "Epoch 63/100\n",
            "508/508 [==============================] - 29s 58ms/step - loss: 1.4841 - accuracy: 0.6334 - val_loss: 1.3916 - val_accuracy: 0.6586\n",
            "Epoch 64/100\n",
            "508/508 [==============================] - 30s 60ms/step - loss: 1.4990 - accuracy: 0.6279 - val_loss: 1.3932 - val_accuracy: 0.6554\n",
            "Epoch 65/100\n",
            "508/508 [==============================] - 29s 57ms/step - loss: 1.4851 - accuracy: 0.6322 - val_loss: 1.4269 - val_accuracy: 0.6480\n",
            "Epoch 66/100\n",
            "508/508 [==============================] - 28s 55ms/step - loss: 1.4849 - accuracy: 0.6322 - val_loss: 1.3644 - val_accuracy: 0.6637\n",
            "Epoch 67/100\n",
            "508/508 [==============================] - 28s 56ms/step - loss: 1.4621 - accuracy: 0.6392 - val_loss: 1.3587 - val_accuracy: 0.6671\n",
            "Epoch 68/100\n",
            "508/508 [==============================] - 28s 55ms/step - loss: 1.4703 - accuracy: 0.6340 - val_loss: 1.3499 - val_accuracy: 0.6698\n",
            "Epoch 69/100\n",
            "508/508 [==============================] - 28s 55ms/step - loss: 1.4524 - accuracy: 0.6395 - val_loss: 1.3436 - val_accuracy: 0.6705\n",
            "Epoch 70/100\n",
            "508/508 [==============================] - 28s 55ms/step - loss: 1.4659 - accuracy: 0.6362 - val_loss: 1.3676 - val_accuracy: 0.6620\n",
            "Epoch 71/100\n",
            "508/508 [==============================] - 28s 55ms/step - loss: 1.4800 - accuracy: 0.6318 - val_loss: 1.3520 - val_accuracy: 0.6673\n",
            "Epoch 72/100\n",
            "508/508 [==============================] - 28s 55ms/step - loss: 1.4406 - accuracy: 0.6415 - val_loss: 1.3566 - val_accuracy: 0.6675\n",
            "Epoch 73/100\n",
            "508/508 [==============================] - 28s 55ms/step - loss: 1.4473 - accuracy: 0.6405 - val_loss: 1.3216 - val_accuracy: 0.6749\n",
            "Epoch 74/100\n",
            "508/508 [==============================] - 28s 55ms/step - loss: 1.4346 - accuracy: 0.6435 - val_loss: 1.3387 - val_accuracy: 0.6698\n",
            "Epoch 75/100\n",
            "508/508 [==============================] - 28s 55ms/step - loss: 1.4360 - accuracy: 0.6426 - val_loss: 1.3613 - val_accuracy: 0.6648\n",
            "Epoch 76/100\n",
            "508/508 [==============================] - 28s 54ms/step - loss: 1.4373 - accuracy: 0.6433 - val_loss: 1.3455 - val_accuracy: 0.6672\n",
            "Epoch 77/100\n",
            "508/508 [==============================] - 28s 55ms/step - loss: 1.4284 - accuracy: 0.6442 - val_loss: 1.3162 - val_accuracy: 0.6757\n",
            "Epoch 78/100\n",
            "508/508 [==============================] - 28s 54ms/step - loss: 1.4477 - accuracy: 0.6393 - val_loss: 1.3425 - val_accuracy: 0.6688\n",
            "Epoch 79/100\n",
            "508/508 [==============================] - 28s 55ms/step - loss: 1.4328 - accuracy: 0.6430 - val_loss: 1.3307 - val_accuracy: 0.6707\n",
            "Epoch 80/100\n",
            "508/508 [==============================] - 28s 55ms/step - loss: 1.4015 - accuracy: 0.6509 - val_loss: 1.2972 - val_accuracy: 0.6794\n",
            "Epoch 81/100\n",
            "508/508 [==============================] - 27s 54ms/step - loss: 1.4002 - accuracy: 0.6517 - val_loss: 1.3157 - val_accuracy: 0.6751\n",
            "Epoch 82/100\n",
            "508/508 [==============================] - 28s 55ms/step - loss: 1.3997 - accuracy: 0.6517 - val_loss: 1.3081 - val_accuracy: 0.6779\n",
            "Epoch 83/100\n",
            "508/508 [==============================] - 28s 54ms/step - loss: 1.4182 - accuracy: 0.6460 - val_loss: 1.3140 - val_accuracy: 0.6749\n",
            "Epoch 84/100\n",
            "508/508 [==============================] - 29s 56ms/step - loss: 1.4318 - accuracy: 0.6415 - val_loss: 1.3116 - val_accuracy: 0.6747\n",
            "Epoch 85/100\n",
            "508/508 [==============================] - 28s 54ms/step - loss: 1.3912 - accuracy: 0.6535 - val_loss: 1.2995 - val_accuracy: 0.6783\n",
            "Epoch 86/100\n",
            "508/508 [==============================] - 29s 57ms/step - loss: 1.3845 - accuracy: 0.6557 - val_loss: 1.2750 - val_accuracy: 0.6842\n",
            "Epoch 87/100\n",
            "508/508 [==============================] - 760s 1s/step - loss: 1.3932 - accuracy: 0.6518 - val_loss: 1.3314 - val_accuracy: 0.6711\n",
            "Epoch 88/100\n",
            "508/508 [==============================] - 34s 67ms/step - loss: 1.4026 - accuracy: 0.6498 - val_loss: 1.3125 - val_accuracy: 0.6720\n",
            "Epoch 89/100\n",
            "508/508 [==============================] - 31s 61ms/step - loss: 1.4008 - accuracy: 0.6502 - val_loss: 1.2921 - val_accuracy: 0.6808\n",
            "Epoch 90/100\n",
            "508/508 [==============================] - 31s 60ms/step - loss: 1.3815 - accuracy: 0.6532 - val_loss: 1.2764 - val_accuracy: 0.6852\n",
            "Epoch 91/100\n",
            "508/508 [==============================] - 28s 55ms/step - loss: 1.3778 - accuracy: 0.6563 - val_loss: 1.2857 - val_accuracy: 0.6824\n",
            "Epoch 92/100\n",
            "508/508 [==============================] - 29s 57ms/step - loss: 1.3675 - accuracy: 0.6582 - val_loss: 1.2974 - val_accuracy: 0.6795\n",
            "Epoch 93/100\n",
            "508/508 [==============================] - 29s 57ms/step - loss: 1.3782 - accuracy: 0.6559 - val_loss: 1.2719 - val_accuracy: 0.6866\n",
            "Epoch 94/100\n",
            "508/508 [==============================] - 31s 61ms/step - loss: 1.3722 - accuracy: 0.6585 - val_loss: 1.2885 - val_accuracy: 0.6818\n",
            "Epoch 95/100\n",
            "508/508 [==============================] - 31s 60ms/step - loss: 1.3784 - accuracy: 0.6558 - val_loss: 1.2565 - val_accuracy: 0.6900\n",
            "Epoch 96/100\n",
            "508/508 [==============================] - 30s 59ms/step - loss: 1.3640 - accuracy: 0.6599 - val_loss: 1.2768 - val_accuracy: 0.6800\n",
            "Epoch 97/100\n",
            "508/508 [==============================] - 29s 57ms/step - loss: 1.3526 - accuracy: 0.6620 - val_loss: 1.2811 - val_accuracy: 0.6818\n",
            "Epoch 98/100\n",
            "508/508 [==============================] - 30s 58ms/step - loss: 1.3863 - accuracy: 0.6533 - val_loss: 1.2697 - val_accuracy: 0.6843\n",
            "Epoch 99/100\n",
            "508/508 [==============================] - 30s 58ms/step - loss: 1.3397 - accuracy: 0.6640 - val_loss: 1.2498 - val_accuracy: 0.6925\n",
            "Epoch 100/100\n",
            "508/508 [==============================] - 30s 59ms/step - loss: 1.3522 - accuracy: 0.6640 - val_loss: 1.2636 - val_accuracy: 0.6864\n"
          ]
        }
      ],
      "source": [
        "model = load_model('/Users/au648304/Documents/TextGeneration/eventyr_200epoch.h5')\n",
        "tokenizer = load(open('/Users/au648304/Documents/TextGeneration/eventyr_200epoch','rb'))\n",
        "history_accuracy = load(open('/Users/au648304/Documents/TextGeneration/eventyr_200epoch_history_accuracy','rb'))\n",
        "history_valaccuracy = load(open('/Users/au648304/Documents/TextGeneration/eventyr_200epoch_history_valaccuracy','rb'))\n",
        "\n",
        "history = model.fit(X, y, batch_size=32, epochs=100,verbose=1, validation_data=(X,y))\n",
        "\n",
        "accuracy = history_accuracy + history.history['accuracy']\n",
        "valaccuracy = history_valaccuracy + history.history['val_accuracy']\n",
        "\n",
        "model.save('/Users/au648304/Documents/TextGeneration/eventyr_300epoch.h5')\n",
        "dump(tokenizer, open('/Users/au648304/Documents/TextGeneration/eventyr_300epoch', 'wb'))\n",
        "dump(accuracy, open('/Users/au648304/Documents/TextGeneration/eventyr_300epoch_history_accuracy', 'wb'))\n",
        "dump(valaccuracy, open('/Users/au648304/Documents/TextGeneration/eventyr_300epoch_history_valaccuracy', 'wb'))"
      ]
    },
    {
      "cell_type": "code",
      "execution_count": 36,
      "metadata": {},
      "outputs": [],
      "source": [
        "dump(history.history['accuracy'], open('/Users/au648304/Documents/TextGeneration/saga_2epoch_3_history_accuracy', 'wb'))\n",
        "dump(history.history['val_accuracy'], open('/Users/au648304/Documents/TextGeneration/saga_2epoch_3_history_valaccuracy', 'wb'))"
      ]
    },
    {
      "cell_type": "code",
      "execution_count": 37,
      "metadata": {},
      "outputs": [],
      "source": [
        "history_accuracy2 = load(open('/Users/au648304/Documents/TextGeneration/saga_2epoch_3_history_accuracy','rb'))\n",
        "history_valaccuracy2 = load(open('/Users/au648304/Documents/TextGeneration/saga_2epoch_3_history_valaccuracy','rb'))"
      ]
    },
    {
      "cell_type": "code",
      "execution_count": 38,
      "metadata": {},
      "outputs": [
        {
          "name": "stdout",
          "output_type": "stream",
          "text": [
            "dict_keys(['loss', 'accuracy', 'val_loss', 'val_accuracy'])\n"
          ]
        },
        {
          "data": {
            "image/png": "[encoded data removed]",
            "text/plain": [
              "<Figure size 640x480 with 1 Axes>"
            ]
          },
          "metadata": {},
          "output_type": "display_data"
        }
      ],
      "source": [
        "import matplotlib.pyplot as plt\n",
        "%matplotlib inline\n",
        "print(history.history.keys())\n",
        "# summarize history for accuracy\n",
        "plt.plot(history_accuracy2)\n",
        "plt.plot(history_valaccuracy2)\n",
        "plt.title('model accuracy')\n",
        "plt.ylabel('accuracy')\n",
        "plt.xlabel('epoch')\n",
        "plt.legend(['train', 'test'], loc='upper left')\n",
        "plt.show()"
      ]
    },
    {
      "cell_type": "markdown",
      "metadata": {
        "id": "BEDubKCSjKpq"
      },
      "source": [
        "## Gem modellen"
      ]
    },
    {
      "cell_type": "code",
      "execution_count": null,
      "metadata": {
        "id": "ODoIpoCzjMGZ"
      },
      "outputs": [],
      "source": [
        "from pickle import dump, load"
      ]
    },
    {
      "cell_type": "code",
      "execution_count": null,
      "metadata": {
        "id": "ImpYkb2kjPhs"
      },
      "outputs": [],
      "source": [
        "model.save('/content/sample_data/saga_10epoch_2.h5')\n",
        "# save the tokenizer\n",
        "dump(tokenizer, open('/content/sample_data/saga_10epoch_2', 'wb'))"
      ]
    },
    {
      "cell_type": "markdown",
      "metadata": {
        "id": "lv0092G5jeU7"
      },
      "source": [
        "# Generer ny tekst\n",
        "## Modellen er trænet på 10 epochs"
      ]
    },
    {
      "cell_type": "code",
      "execution_count": null,
      "metadata": {
        "id": "m1NJpVlgjgN4"
      },
      "outputs": [],
      "source": [
        "from random import randint\n",
        "from pickle import load\n",
        "from keras.models import load_model\n",
        "from keras.utils import pad_sequences"
      ]
    },
    {
      "cell_type": "code",
      "execution_count": null,
      "metadata": {
        "id": "_PE15byyjimB"
      },
      "outputs": [],
      "source": [
        "def generate_text(model, tokenizer, seq_len, seed_text, num_gen_words):\n",
        "    '''\n",
        "    INPUTS:\n",
        "    model : model that was trained on text data\n",
        "    tokenizer : tokenizer that was fit on text data\n",
        "    seq_len : length of training sequence\n",
        "    seed_text : raw string text to serve as the seed\n",
        "    num_gen_words : number of words to be generated by model\n",
        "    '''\n",
        "\n",
        "    # Final Output\n",
        "    output_text = []\n",
        "\n",
        "    # Intial Seed Sequence\n",
        "    input_text = seed_text\n",
        "\n",
        "    # Create num_gen_words\n",
        "    for i in range(num_gen_words):\n",
        "\n",
        "        # Take the input text string and encode it to a sequence\n",
        "        encoded_text = tokenizer.texts_to_sequences([input_text])[0]\n",
        "\n",
        "        # Pad sequences to our trained rate (50 words in the video)\n",
        "        pad_encoded = pad_sequences([encoded_text], maxlen=seq_len, truncating='pre')\n",
        "\n",
        "        # Predict Class Probabilities for each word\n",
        "        predict = model.predict(pad_encoded, verbose=0)[0]\n",
        "        pred_word_ind = predict.argmax()\n",
        "        # pred_word_ind = model.predict_classes(pad_encoded, verbose=0)[0]\n",
        "\n",
        "        # Grab word\n",
        "        pred_word = tokenizer.index_word[pred_word_ind]\n",
        "\n",
        "        # Update the sequence of input text (shifting one over with the new word)\n",
        "        input_text += ' ' + pred_word\n",
        "\n",
        "        output_text.append(pred_word)\n",
        "\n",
        "    # Make it look like a sentence.\n",
        "    return ' '.join(output_text)"
      ]
    },
    {
      "cell_type": "code",
      "execution_count": null,
      "metadata": {
        "colab": {
          "base_uri": "https://localhost:8080/",
          "height": 53
        },
        "id": "7YB_wFiRkmka",
        "outputId": "74097439-a7d1-4265-b0f4-4cf01afaaf3d"
      },
      "outputs": [
        {
          "data": {
            "application/vnd.google.colaboratory.intrinsic+json": {
              "type": "string"
            },
            "text/plain": [
              "'han var en dygtig bonde og havde en stor ejendom han var snu mand og morbror til trond i gøta færingernes tingsted lå på strømø hvor'"
            ]
          },
          "execution_count": 80,
          "metadata": {},
          "output_type": "execute_result"
        }
      ],
      "source": [
        "import random\n",
        "random.seed(101)\n",
        "random_pick = random.randint(0,len(text_sequences))\n",
        "random_seed_text = text_sequences[random_pick]\n",
        "seed_text = ' '.join(random_seed_text)\n",
        "seed_text"
      ]
    },
    {
      "cell_type": "code",
      "execution_count": null,
      "metadata": {
        "colab": {
          "base_uri": "https://localhost:8080/",
          "height": 35
        },
        "id": "XgcpStDekv7n",
        "outputId": "ec0a8ff3-8567-43e5-ca68-261048ac94cf"
      },
      "outputs": [
        {
          "data": {
            "application/vnd.google.colaboratory.intrinsic+json": {
              "type": "string"
            },
            "text/plain": [
              "'han var en mand og de var en mand og var en mand og de var en mand og var en mand og de var'"
            ]
          },
          "execution_count": 90,
          "metadata": {},
          "output_type": "execute_result"
        }
      ],
      "source": [
        "model = load_model('/content/sample_data/saga_10epoch.h5')\n",
        "tokenizer = load(open('/content/sample_data/saga_10epoch','rb'))\n",
        "\n",
        "generate_text(model, tokenizer, seq_len, seed_text, num_gen_words=25)"
      ]
    },
    {
      "cell_type": "code",
      "execution_count": null,
      "metadata": {
        "colab": {
          "base_uri": "https://localhost:8080/"
        },
        "id": "zg-qFIm2k13P",
        "outputId": "24396c58-3382-4e85-c346-9127ae83d4ff"
      },
      "outputs": [
        {
          "name": "stdout",
          "output_type": "stream",
          "text": [
            "2031/2031 [==============================] - 33s 16ms/step - loss: 5.3582 - accuracy: 0.1080\n"
          ]
        },
        {
          "data": {
            "text/plain": [
              "[5.358155727386475, 0.10803281515836716]"
            ]
          },
          "execution_count": 97,
          "metadata": {},
          "output_type": "execute_result"
        }
      ],
      "source": [
        "model.evaluate(X, y)"
      ]
    },
    {
      "cell_type": "code",
      "execution_count": null,
      "metadata": {
        "id": "T5a9ZabJl1PM"
      },
      "outputs": [],
      "source": []
    },
    {
      "cell_type": "markdown",
      "metadata": {
        "id": "AnGzv-JOnPKW"
      },
      "source": [
        "# Træn den på 300 epochs"
      ]
    },
    {
      "cell_type": "code",
      "execution_count": 101,
      "metadata": {
        "colab": {
          "base_uri": "https://localhost:8080/"
        },
        "id": "c595F4StnRB3",
        "outputId": "471238f0-9ffa-4e98-e852-ce572d9bc13c"
      },
      "outputs": [
        {
          "name": "stdout",
          "output_type": "stream",
          "text": [
            "Epoch 1/300\n",
            "254/254 [==============================] - 50s 187ms/step - loss: 5.3900 - accuracy: 0.1070\n",
            "Epoch 2/300\n",
            "254/254 [==============================] - 40s 157ms/step - loss: 5.3280 - accuracy: 0.1096\n",
            "Epoch 3/300\n",
            "254/254 [==============================] - 41s 162ms/step - loss: 5.2651 - accuracy: 0.1128\n",
            "Epoch 4/300\n",
            "254/254 [==============================] - 41s 161ms/step - loss: 5.2045 - accuracy: 0.1169\n",
            "Epoch 5/300\n",
            "254/254 [==============================] - 40s 155ms/step - loss: 5.1453 - accuracy: 0.1180\n",
            "Epoch 6/300\n",
            "254/254 [==============================] - 41s 162ms/step - loss: 5.0861 - accuracy: 0.1221\n",
            "Epoch 7/300\n",
            "254/254 [==============================] - 41s 162ms/step - loss: 5.0294 - accuracy: 0.1247\n",
            "Epoch 8/300\n",
            "254/254 [==============================] - 42s 164ms/step - loss: 4.9762 - accuracy: 0.1261\n",
            "Epoch 9/300\n",
            "254/254 [==============================] - 42s 164ms/step - loss: 4.9204 - accuracy: 0.1286\n",
            "Epoch 10/300\n",
            "254/254 [==============================] - 40s 156ms/step - loss: 4.8668 - accuracy: 0.1320\n",
            "Epoch 11/300\n",
            "254/254 [==============================] - 41s 161ms/step - loss: 4.8152 - accuracy: 0.1344\n",
            "Epoch 12/300\n",
            "254/254 [==============================] - 42s 164ms/step - loss: 4.7613 - accuracy: 0.1360\n",
            "Epoch 13/300\n",
            "254/254 [==============================] - 40s 157ms/step - loss: 4.7092 - accuracy: 0.1391\n",
            "Epoch 14/300\n",
            "254/254 [==============================] - 42s 163ms/step - loss: 4.6596 - accuracy: 0.1407\n",
            "Epoch 15/300\n",
            "254/254 [==============================] - 44s 173ms/step - loss: 4.6109 - accuracy: 0.1430\n",
            "Epoch 16/300\n",
            "254/254 [==============================] - 41s 162ms/step - loss: 4.5666 - accuracy: 0.1447\n",
            "Epoch 17/300\n",
            "254/254 [==============================] - 40s 157ms/step - loss: 4.5234 - accuracy: 0.1482\n",
            "Epoch 18/300\n",
            "254/254 [==============================] - 42s 164ms/step - loss: 4.4780 - accuracy: 0.1505\n",
            "Epoch 19/300\n",
            "254/254 [==============================] - 42s 165ms/step - loss: 4.4371 - accuracy: 0.1533\n",
            "Epoch 20/300\n",
            "254/254 [==============================] - 39s 155ms/step - loss: 4.3970 - accuracy: 0.1560\n",
            "Epoch 21/300\n",
            "254/254 [==============================] - 42s 164ms/step - loss: 4.3567 - accuracy: 0.1583\n",
            "Epoch 22/300\n",
            "254/254 [==============================] - 42s 164ms/step - loss: 4.3188 - accuracy: 0.1626\n",
            "Epoch 23/300\n",
            "254/254 [==============================] - 39s 155ms/step - loss: 4.2855 - accuracy: 0.1649\n",
            "Epoch 24/300\n",
            "254/254 [==============================] - 42s 164ms/step - loss: 4.2458 - accuracy: 0.1686\n",
            "Epoch 25/300\n",
            "254/254 [==============================] - 42s 165ms/step - loss: 4.2115 - accuracy: 0.1702\n",
            "Epoch 26/300\n",
            "254/254 [==============================] - 40s 157ms/step - loss: 4.1748 - accuracy: 0.1741\n",
            "Epoch 27/300\n",
            "254/254 [==============================] - 42s 165ms/step - loss: 4.1439 - accuracy: 0.1772\n",
            "Epoch 28/300\n",
            "254/254 [==============================] - 42s 166ms/step - loss: 4.1097 - accuracy: 0.1800\n",
            "Epoch 29/300\n",
            "254/254 [==============================] - 40s 159ms/step - loss: 4.0742 - accuracy: 0.1833\n",
            "Epoch 30/300\n",
            "254/254 [==============================] - 41s 162ms/step - loss: 4.0443 - accuracy: 0.1866\n",
            "Epoch 31/300\n",
            "254/254 [==============================] - 42s 166ms/step - loss: 4.0154 - accuracy: 0.1901\n",
            "Epoch 32/300\n",
            "254/254 [==============================] - 42s 165ms/step - loss: 3.9920 - accuracy: 0.1925\n",
            "Epoch 33/300\n",
            "254/254 [==============================] - 40s 159ms/step - loss: 3.9577 - accuracy: 0.1960\n",
            "Epoch 34/300\n",
            "254/254 [==============================] - 42s 165ms/step - loss: 3.9318 - accuracy: 0.2008\n",
            "Epoch 35/300\n",
            "254/254 [==============================] - 42s 167ms/step - loss: 3.9035 - accuracy: 0.2024\n",
            "Epoch 36/300\n",
            "254/254 [==============================] - 41s 161ms/step - loss: 3.8761 - accuracy: 0.2065\n",
            "Epoch 37/300\n",
            "254/254 [==============================] - 41s 162ms/step - loss: 3.8464 - accuracy: 0.2095\n",
            "Epoch 38/300\n",
            "254/254 [==============================] - 42s 165ms/step - loss: 3.8224 - accuracy: 0.2123\n",
            "Epoch 39/300\n",
            "254/254 [==============================] - 42s 167ms/step - loss: 3.8007 - accuracy: 0.2141\n",
            "Epoch 40/300\n",
            "254/254 [==============================] - 40s 159ms/step - loss: 3.7747 - accuracy: 0.2187\n",
            "Epoch 41/300\n",
            "254/254 [==============================] - 42s 167ms/step - loss: 3.7543 - accuracy: 0.2204\n",
            "Epoch 42/300\n",
            "254/254 [==============================] - 43s 168ms/step - loss: 3.7296 - accuracy: 0.2235\n",
            "Epoch 43/300\n",
            "254/254 [==============================] - 42s 166ms/step - loss: 3.7084 - accuracy: 0.2262\n",
            "Epoch 44/300\n",
            "254/254 [==============================] - 41s 160ms/step - loss: 3.6826 - accuracy: 0.2291\n",
            "Epoch 45/300\n",
            "254/254 [==============================] - 42s 167ms/step - loss: 3.6656 - accuracy: 0.2344\n",
            "Epoch 46/300\n",
            "254/254 [==============================] - 42s 166ms/step - loss: 3.6428 - accuracy: 0.2339\n",
            "Epoch 47/300\n",
            "254/254 [==============================] - 42s 166ms/step - loss: 3.6242 - accuracy: 0.2363\n",
            "Epoch 48/300\n",
            "254/254 [==============================] - 40s 157ms/step - loss: 3.6002 - accuracy: 0.2416\n",
            "Epoch 49/300\n",
            "254/254 [==============================] - 42s 164ms/step - loss: 3.5796 - accuracy: 0.2435\n",
            "Epoch 50/300\n",
            "254/254 [==============================] - 42s 164ms/step - loss: 3.5641 - accuracy: 0.2444\n",
            "Epoch 51/300\n",
            "254/254 [==============================] - 39s 155ms/step - loss: 3.5443 - accuracy: 0.2476\n",
            "Epoch 52/300\n",
            "254/254 [==============================] - 42s 164ms/step - loss: 3.5211 - accuracy: 0.2523\n",
            "Epoch 53/300\n",
            "254/254 [==============================] - 42s 164ms/step - loss: 3.5053 - accuracy: 0.2532\n",
            "Epoch 54/300\n",
            "254/254 [==============================] - 39s 155ms/step - loss: 3.4886 - accuracy: 0.2562\n",
            "Epoch 55/300\n",
            "254/254 [==============================] - 42s 165ms/step - loss: 3.4666 - accuracy: 0.2584\n",
            "Epoch 56/300\n",
            "254/254 [==============================] - 42s 164ms/step - loss: 3.4516 - accuracy: 0.2611\n",
            "Epoch 57/300\n",
            "254/254 [==============================] - 40s 157ms/step - loss: 3.4286 - accuracy: 0.2647\n",
            "Epoch 58/300\n",
            "254/254 [==============================] - 41s 163ms/step - loss: 3.4141 - accuracy: 0.2657\n",
            "Epoch 59/300\n",
            "254/254 [==============================] - 42s 165ms/step - loss: 3.3934 - accuracy: 0.2706\n",
            "Epoch 60/300\n",
            "254/254 [==============================] - 41s 160ms/step - loss: 3.3888 - accuracy: 0.2705\n",
            "Epoch 61/300\n",
            "254/254 [==============================] - 41s 161ms/step - loss: 3.3625 - accuracy: 0.2750\n",
            "Epoch 62/300\n",
            "254/254 [==============================] - 41s 163ms/step - loss: 3.3422 - accuracy: 0.2782\n",
            "Epoch 63/300\n",
            "254/254 [==============================] - 41s 161ms/step - loss: 3.3311 - accuracy: 0.2807\n",
            "Epoch 64/300\n",
            "254/254 [==============================] - 40s 156ms/step - loss: 3.3178 - accuracy: 0.2797\n",
            "Epoch 65/300\n",
            "254/254 [==============================] - 42s 164ms/step - loss: 3.2982 - accuracy: 0.2827\n",
            "Epoch 66/300\n",
            "254/254 [==============================] - 41s 162ms/step - loss: 3.2833 - accuracy: 0.2865\n",
            "Epoch 67/300\n",
            "254/254 [==============================] - 41s 160ms/step - loss: 3.2682 - accuracy: 0.2891\n",
            "Epoch 68/300\n",
            "254/254 [==============================] - 41s 163ms/step - loss: 3.2523 - accuracy: 0.2924\n",
            "Epoch 69/300\n",
            "254/254 [==============================] - 41s 163ms/step - loss: 3.2437 - accuracy: 0.2931\n",
            "Epoch 70/300\n",
            "254/254 [==============================] - 39s 154ms/step - loss: 3.2234 - accuracy: 0.2961\n",
            "Epoch 71/300\n",
            "254/254 [==============================] - 41s 163ms/step - loss: 3.2047 - accuracy: 0.2992\n",
            "Epoch 72/300\n",
            "254/254 [==============================] - 43s 169ms/step - loss: 3.1951 - accuracy: 0.2992\n",
            "Epoch 73/300\n",
            "254/254 [==============================] - 42s 165ms/step - loss: 3.1809 - accuracy: 0.3018\n",
            "Epoch 74/300\n",
            "254/254 [==============================] - 41s 162ms/step - loss: 3.1628 - accuracy: 0.3044\n",
            "Epoch 75/300\n",
            "254/254 [==============================] - 42s 164ms/step - loss: 3.1491 - accuracy: 0.3065\n",
            "Epoch 76/300\n",
            "254/254 [==============================] - 42s 166ms/step - loss: 3.1357 - accuracy: 0.3098\n",
            "Epoch 77/300\n",
            "254/254 [==============================] - 40s 157ms/step - loss: 3.1221 - accuracy: 0.3115\n",
            "Epoch 78/300\n",
            "254/254 [==============================] - 42s 166ms/step - loss: 3.1047 - accuracy: 0.3157\n",
            "Epoch 79/300\n",
            "254/254 [==============================] - 42s 167ms/step - loss: 3.0919 - accuracy: 0.3165\n",
            "Epoch 80/300\n",
            "254/254 [==============================] - 41s 161ms/step - loss: 3.0739 - accuracy: 0.3189\n",
            "Epoch 81/300\n",
            "254/254 [==============================] - 41s 161ms/step - loss: 3.0671 - accuracy: 0.3215\n",
            "Epoch 82/300\n",
            "254/254 [==============================] - 42s 167ms/step - loss: 3.0508 - accuracy: 0.3252\n",
            "Epoch 83/300\n",
            "254/254 [==============================] - 42s 167ms/step - loss: 3.0344 - accuracy: 0.3256\n",
            "Epoch 84/300\n",
            "254/254 [==============================] - 40s 157ms/step - loss: 3.0256 - accuracy: 0.3264\n",
            "Epoch 85/300\n",
            "254/254 [==============================] - 42s 167ms/step - loss: 3.0209 - accuracy: 0.3276\n",
            "Epoch 86/300\n",
            "254/254 [==============================] - 42s 166ms/step - loss: 3.0025 - accuracy: 0.3301\n",
            "Epoch 87/300\n",
            "254/254 [==============================] - 42s 166ms/step - loss: 2.9832 - accuracy: 0.3354\n",
            "Epoch 88/300\n",
            "254/254 [==============================] - 40s 159ms/step - loss: 2.9730 - accuracy: 0.3365\n",
            "Epoch 89/300\n",
            "254/254 [==============================] - 42s 167ms/step - loss: 2.9612 - accuracy: 0.3407\n",
            "Epoch 90/300\n",
            "254/254 [==============================] - 42s 166ms/step - loss: 2.9490 - accuracy: 0.3406\n",
            "Epoch 91/300\n",
            "254/254 [==============================] - 40s 157ms/step - loss: 2.9339 - accuracy: 0.3430\n",
            "Epoch 92/300\n",
            "254/254 [==============================] - 42s 164ms/step - loss: 2.9221 - accuracy: 0.3445\n",
            "Epoch 93/300\n",
            "254/254 [==============================] - 42s 167ms/step - loss: 2.9025 - accuracy: 0.3492\n",
            "Epoch 94/300\n",
            "254/254 [==============================] - 42s 167ms/step - loss: 2.8952 - accuracy: 0.3501\n",
            "Epoch 95/300\n",
            "254/254 [==============================] - 40s 158ms/step - loss: 2.8846 - accuracy: 0.3513\n",
            "Epoch 96/300\n",
            "254/254 [==============================] - 42s 165ms/step - loss: 2.8760 - accuracy: 0.3540\n",
            "Epoch 97/300\n",
            "254/254 [==============================] - 42s 166ms/step - loss: 2.8609 - accuracy: 0.3547\n",
            "Epoch 98/300\n",
            "254/254 [==============================] - 41s 162ms/step - loss: 2.8509 - accuracy: 0.3578\n",
            "Epoch 99/300\n",
            "254/254 [==============================] - 41s 161ms/step - loss: 2.8415 - accuracy: 0.3583\n",
            "Epoch 100/300\n",
            "254/254 [==============================] - 42s 166ms/step - loss: 2.8313 - accuracy: 0.3611\n",
            "Epoch 101/300\n",
            "254/254 [==============================] - 42s 166ms/step - loss: 2.8233 - accuracy: 0.3605\n",
            "Epoch 102/300\n",
            "254/254 [==============================] - 40s 158ms/step - loss: 2.8089 - accuracy: 0.3658\n",
            "Epoch 103/300\n",
            "254/254 [==============================] - 42s 165ms/step - loss: 2.8002 - accuracy: 0.3653\n",
            "Epoch 104/300\n",
            "254/254 [==============================] - 42s 165ms/step - loss: 2.7842 - accuracy: 0.3701\n",
            "Epoch 105/300\n",
            "254/254 [==============================] - 42s 165ms/step - loss: 2.7710 - accuracy: 0.3711\n",
            "Epoch 106/300\n",
            "254/254 [==============================] - 40s 157ms/step - loss: 2.7566 - accuracy: 0.3731\n",
            "Epoch 107/300\n",
            "254/254 [==============================] - 42s 165ms/step - loss: 2.7503 - accuracy: 0.3760\n",
            "Epoch 108/300\n",
            "254/254 [==============================] - 42s 166ms/step - loss: 2.7443 - accuracy: 0.3751\n",
            "Epoch 109/300\n",
            "254/254 [==============================] - 41s 161ms/step - loss: 2.7379 - accuracy: 0.3776\n",
            "Epoch 110/300\n",
            "254/254 [==============================] - 41s 162ms/step - loss: 2.7195 - accuracy: 0.3806\n",
            "Epoch 111/300\n",
            "254/254 [==============================] - 42s 167ms/step - loss: 2.7101 - accuracy: 0.3823\n",
            "Epoch 112/300\n",
            "254/254 [==============================] - 42s 164ms/step - loss: 2.7041 - accuracy: 0.3825\n",
            "Epoch 113/300\n",
            "254/254 [==============================] - 40s 158ms/step - loss: 2.6901 - accuracy: 0.3849\n",
            "Epoch 114/300\n",
            "254/254 [==============================] - 42s 164ms/step - loss: 2.6756 - accuracy: 0.3890\n",
            "Epoch 115/300\n",
            "254/254 [==============================] - 42s 165ms/step - loss: 2.6657 - accuracy: 0.3908\n",
            "Epoch 116/300\n",
            "254/254 [==============================] - 40s 156ms/step - loss: 2.6568 - accuracy: 0.3920\n",
            "Epoch 117/300\n",
            "254/254 [==============================] - 42s 165ms/step - loss: 2.6441 - accuracy: 0.3941\n",
            "Epoch 118/300\n",
            "254/254 [==============================] - 42s 166ms/step - loss: 2.6412 - accuracy: 0.3940\n",
            "Epoch 119/300\n",
            "254/254 [==============================] - 40s 156ms/step - loss: 2.6289 - accuracy: 0.3958\n",
            "Epoch 120/300\n",
            "254/254 [==============================] - 42s 164ms/step - loss: 2.6217 - accuracy: 0.3967\n",
            "Epoch 121/300\n",
            "254/254 [==============================] - 43s 168ms/step - loss: 2.6092 - accuracy: 0.4005\n",
            "Epoch 122/300\n",
            "254/254 [==============================] - 43s 170ms/step - loss: 2.5997 - accuracy: 0.4019\n",
            "Epoch 123/300\n",
            "254/254 [==============================] - 42s 166ms/step - loss: 2.5850 - accuracy: 0.4053\n",
            "Epoch 124/300\n",
            "254/254 [==============================] - 43s 171ms/step - loss: 2.5789 - accuracy: 0.4070\n",
            "Epoch 125/300\n",
            "254/254 [==============================] - 42s 166ms/step - loss: 2.5691 - accuracy: 0.4092\n",
            "Epoch 126/300\n",
            "254/254 [==============================] - 42s 166ms/step - loss: 2.5579 - accuracy: 0.4099\n",
            "Epoch 127/300\n",
            "254/254 [==============================] - 41s 161ms/step - loss: 2.5716 - accuracy: 0.4072\n",
            "Epoch 128/300\n",
            "254/254 [==============================] - 41s 162ms/step - loss: 2.5438 - accuracy: 0.4120\n",
            "Epoch 129/300\n",
            "254/254 [==============================] - 42s 166ms/step - loss: 2.5324 - accuracy: 0.4151\n",
            "Epoch 130/300\n",
            "254/254 [==============================] - 42s 166ms/step - loss: 2.5235 - accuracy: 0.4171\n",
            "Epoch 131/300\n",
            "254/254 [==============================] - 40s 158ms/step - loss: 2.5055 - accuracy: 0.4214\n",
            "Epoch 132/300\n",
            "254/254 [==============================] - 42s 167ms/step - loss: 2.5011 - accuracy: 0.4214\n",
            "Epoch 133/300\n",
            "254/254 [==============================] - 42s 167ms/step - loss: 2.4947 - accuracy: 0.4223\n",
            "Epoch 134/300\n",
            "254/254 [==============================] - 42s 164ms/step - loss: 2.4882 - accuracy: 0.4212\n",
            "Epoch 135/300\n",
            "254/254 [==============================] - 41s 161ms/step - loss: 2.4751 - accuracy: 0.4240\n",
            "Epoch 136/300\n",
            "254/254 [==============================] - 42s 167ms/step - loss: 2.4752 - accuracy: 0.4276\n",
            "Epoch 137/300\n",
            "254/254 [==============================] - 42s 165ms/step - loss: 2.4617 - accuracy: 0.4285\n",
            "Epoch 138/300\n",
            "254/254 [==============================] - 40s 158ms/step - loss: 2.4531 - accuracy: 0.4299\n",
            "Epoch 139/300\n",
            "254/254 [==============================] - 42s 164ms/step - loss: 2.4505 - accuracy: 0.4283\n",
            "Epoch 140/300\n",
            "254/254 [==============================] - 42s 167ms/step - loss: 2.4454 - accuracy: 0.4326\n",
            "Epoch 141/300\n",
            "254/254 [==============================] - 43s 168ms/step - loss: 2.4391 - accuracy: 0.4323\n",
            "Epoch 142/300\n",
            "254/254 [==============================] - 40s 157ms/step - loss: 2.4227 - accuracy: 0.4357\n",
            "Epoch 143/300\n",
            "254/254 [==============================] - 42s 164ms/step - loss: 2.4104 - accuracy: 0.4376\n",
            "Epoch 144/300\n",
            "254/254 [==============================] - 42s 164ms/step - loss: 2.4003 - accuracy: 0.4400\n",
            "Epoch 145/300\n",
            "254/254 [==============================] - 40s 156ms/step - loss: 2.3984 - accuracy: 0.4382\n",
            "Epoch 146/300\n",
            "254/254 [==============================] - 42s 164ms/step - loss: 2.3878 - accuracy: 0.4432\n",
            "Epoch 147/300\n",
            "254/254 [==============================] - 42s 164ms/step - loss: 2.3749 - accuracy: 0.4450\n",
            "Epoch 148/300\n",
            "254/254 [==============================] - 40s 157ms/step - loss: 2.3743 - accuracy: 0.4449\n",
            "Epoch 149/300\n",
            "254/254 [==============================] - 41s 161ms/step - loss: 2.3629 - accuracy: 0.4475\n",
            "Epoch 150/300\n",
            "254/254 [==============================] - 42s 165ms/step - loss: 2.3533 - accuracy: 0.4496\n",
            "Epoch 151/300\n",
            "254/254 [==============================] - 41s 161ms/step - loss: 2.3493 - accuracy: 0.4483\n",
            "Epoch 152/300\n",
            "254/254 [==============================] - 40s 159ms/step - loss: 2.3467 - accuracy: 0.4498\n",
            "Epoch 153/300\n",
            "254/254 [==============================] - 42s 165ms/step - loss: 2.3313 - accuracy: 0.4543\n",
            "Epoch 154/300\n",
            "254/254 [==============================] - 42s 166ms/step - loss: 2.3307 - accuracy: 0.4529\n",
            "Epoch 155/300\n",
            "254/254 [==============================] - 40s 157ms/step - loss: 2.3258 - accuracy: 0.4524\n",
            "Epoch 156/300\n",
            "254/254 [==============================] - 42s 165ms/step - loss: 2.3231 - accuracy: 0.4554\n",
            "Epoch 157/300\n",
            "254/254 [==============================] - 42s 165ms/step - loss: 2.3021 - accuracy: 0.4591\n",
            "Epoch 158/300\n",
            "254/254 [==============================] - 41s 160ms/step - loss: 2.2944 - accuracy: 0.4611\n",
            "Epoch 159/300\n",
            "254/254 [==============================] - 40s 158ms/step - loss: 2.2805 - accuracy: 0.4639\n",
            "Epoch 160/300\n",
            "254/254 [==============================] - 41s 162ms/step - loss: 2.2758 - accuracy: 0.4639\n",
            "Epoch 161/300\n",
            "254/254 [==============================] - 40s 158ms/step - loss: 2.2707 - accuracy: 0.4671\n",
            "Epoch 162/300\n",
            "254/254 [==============================] - 41s 160ms/step - loss: 2.2668 - accuracy: 0.4676\n",
            "Epoch 163/300\n",
            "254/254 [==============================] - 42s 164ms/step - loss: 2.2791 - accuracy: 0.4641\n",
            "Epoch 164/300\n",
            "254/254 [==============================] - 41s 160ms/step - loss: 2.2683 - accuracy: 0.4648\n",
            "Epoch 165/300\n",
            "254/254 [==============================] - 40s 158ms/step - loss: 2.2471 - accuracy: 0.4682\n",
            "Epoch 166/300\n",
            "254/254 [==============================] - 41s 163ms/step - loss: 2.2398 - accuracy: 0.4690\n",
            "Epoch 167/300\n",
            "254/254 [==============================] - 40s 157ms/step - loss: 2.2292 - accuracy: 0.4727\n",
            "Epoch 168/300\n",
            "254/254 [==============================] - 40s 159ms/step - loss: 2.2240 - accuracy: 0.4733\n",
            "Epoch 169/300\n",
            "254/254 [==============================] - 41s 162ms/step - loss: 2.2109 - accuracy: 0.4781\n",
            "Epoch 170/300\n",
            "254/254 [==============================] - 40s 158ms/step - loss: 2.2101 - accuracy: 0.4754\n",
            "Epoch 171/300\n",
            "254/254 [==============================] - 41s 160ms/step - loss: 2.2056 - accuracy: 0.4778\n",
            "Epoch 172/300\n",
            "254/254 [==============================] - 41s 161ms/step - loss: 2.2068 - accuracy: 0.4771\n",
            "Epoch 173/300\n",
            "254/254 [==============================] - 39s 153ms/step - loss: 2.2024 - accuracy: 0.4784\n",
            "Epoch 174/300\n",
            "254/254 [==============================] - 41s 161ms/step - loss: 2.1890 - accuracy: 0.4798\n",
            "Epoch 175/300\n",
            "254/254 [==============================] - 41s 163ms/step - loss: 2.1762 - accuracy: 0.4835\n",
            "Epoch 176/300\n",
            "254/254 [==============================] - 40s 156ms/step - loss: 2.1719 - accuracy: 0.4860\n",
            "Epoch 177/300\n",
            "254/254 [==============================] - 41s 161ms/step - loss: 2.1638 - accuracy: 0.4872\n",
            "Epoch 178/300\n",
            "254/254 [==============================] - 41s 163ms/step - loss: 2.1497 - accuracy: 0.4912\n",
            "Epoch 179/300\n",
            "254/254 [==============================] - 40s 156ms/step - loss: 2.1468 - accuracy: 0.4911\n",
            "Epoch 180/300\n",
            "254/254 [==============================] - 41s 161ms/step - loss: 2.1415 - accuracy: 0.4902\n",
            "Epoch 181/300\n",
            "254/254 [==============================] - 43s 170ms/step - loss: 2.1336 - accuracy: 0.4921\n",
            "Epoch 182/300\n",
            "254/254 [==============================] - 41s 161ms/step - loss: 2.1273 - accuracy: 0.4951\n",
            "Epoch 183/300\n",
            "254/254 [==============================] - 41s 163ms/step - loss: 2.1233 - accuracy: 0.4929\n",
            "Epoch 184/300\n",
            "254/254 [==============================] - 42s 167ms/step - loss: 2.1279 - accuracy: 0.4946\n",
            "Epoch 185/300\n",
            "254/254 [==============================] - 42s 165ms/step - loss: 2.1145 - accuracy: 0.4957\n",
            "Epoch 186/300\n",
            "254/254 [==============================] - 39s 155ms/step - loss: 2.1077 - accuracy: 0.4975\n",
            "Epoch 187/300\n",
            "254/254 [==============================] - 42s 165ms/step - loss: 2.1047 - accuracy: 0.4986\n",
            "Epoch 188/300\n",
            "254/254 [==============================] - 42s 164ms/step - loss: 2.0996 - accuracy: 0.4982\n",
            "Epoch 189/300\n",
            "254/254 [==============================] - 40s 159ms/step - loss: 2.0748 - accuracy: 0.5077\n",
            "Epoch 190/300\n",
            "254/254 [==============================] - 41s 161ms/step - loss: 2.0797 - accuracy: 0.5037\n",
            "Epoch 191/300\n",
            "254/254 [==============================] - 42s 165ms/step - loss: 2.0860 - accuracy: 0.5023\n",
            "Epoch 192/300\n",
            "254/254 [==============================] - 41s 160ms/step - loss: 2.0626 - accuracy: 0.5074\n",
            "Epoch 193/300\n",
            "254/254 [==============================] - 41s 160ms/step - loss: 2.0669 - accuracy: 0.5069\n",
            "Epoch 194/300\n",
            "254/254 [==============================] - 42s 164ms/step - loss: 2.0596 - accuracy: 0.5073\n",
            "Epoch 195/300\n",
            "254/254 [==============================] - 41s 162ms/step - loss: 2.0544 - accuracy: 0.5084\n",
            "Epoch 196/300\n",
            "254/254 [==============================] - 40s 159ms/step - loss: 2.0559 - accuracy: 0.5093\n",
            "Epoch 197/300\n",
            "254/254 [==============================] - 42s 164ms/step - loss: 2.0478 - accuracy: 0.5097\n",
            "Epoch 198/300\n",
            "254/254 [==============================] - 42s 166ms/step - loss: 2.0328 - accuracy: 0.5130\n",
            "Epoch 199/300\n",
            "254/254 [==============================] - 40s 156ms/step - loss: 2.0324 - accuracy: 0.5134\n",
            "Epoch 200/300\n",
            "254/254 [==============================] - 42s 166ms/step - loss: 2.0236 - accuracy: 0.5161\n",
            "Epoch 201/300\n",
            "254/254 [==============================] - 42s 164ms/step - loss: 2.0123 - accuracy: 0.5173\n",
            "Epoch 202/300\n",
            "254/254 [==============================] - 40s 159ms/step - loss: 2.0070 - accuracy: 0.5190\n",
            "Epoch 203/300\n",
            "254/254 [==============================] - 41s 162ms/step - loss: 2.0154 - accuracy: 0.5159\n",
            "Epoch 204/300\n",
            "254/254 [==============================] - 42s 165ms/step - loss: 2.0017 - accuracy: 0.5207\n",
            "Epoch 205/300\n",
            "254/254 [==============================] - 41s 161ms/step - loss: 1.9901 - accuracy: 0.5215\n",
            "Epoch 206/300\n",
            "254/254 [==============================] - 40s 159ms/step - loss: 1.9835 - accuracy: 0.5232\n",
            "Epoch 207/300\n",
            "254/254 [==============================] - 43s 168ms/step - loss: 1.9841 - accuracy: 0.5228\n",
            "Epoch 208/300\n",
            "254/254 [==============================] - 42s 165ms/step - loss: 1.9814 - accuracy: 0.5235\n",
            "Epoch 209/300\n",
            "254/254 [==============================] - 40s 156ms/step - loss: 1.9795 - accuracy: 0.5229\n",
            "Epoch 210/300\n",
            "254/254 [==============================] - 42s 164ms/step - loss: 1.9700 - accuracy: 0.5253\n",
            "Epoch 211/300\n",
            "254/254 [==============================] - 43s 168ms/step - loss: 1.9686 - accuracy: 0.5273\n",
            "Epoch 212/300\n",
            "254/254 [==============================] - 41s 161ms/step - loss: 1.9643 - accuracy: 0.5259\n",
            "Epoch 213/300\n",
            "254/254 [==============================] - 41s 160ms/step - loss: 1.9443 - accuracy: 0.5311\n",
            "Epoch 214/300\n",
            "254/254 [==============================] - 42s 165ms/step - loss: 1.9397 - accuracy: 0.5331\n",
            "Epoch 215/300\n",
            "254/254 [==============================] - 42s 167ms/step - loss: 1.9411 - accuracy: 0.5327\n",
            "Epoch 216/300\n",
            "254/254 [==============================] - 40s 157ms/step - loss: 1.9369 - accuracy: 0.5319\n",
            "Epoch 217/300\n",
            "254/254 [==============================] - 42s 166ms/step - loss: 1.9323 - accuracy: 0.5333\n",
            "Epoch 218/300\n",
            "254/254 [==============================] - 42s 166ms/step - loss: 1.9190 - accuracy: 0.5370\n",
            "Epoch 219/300\n",
            "254/254 [==============================] - 40s 159ms/step - loss: 1.9117 - accuracy: 0.5388\n",
            "Epoch 220/300\n",
            "254/254 [==============================] - 41s 162ms/step - loss: 1.9126 - accuracy: 0.5373\n",
            "Epoch 221/300\n",
            "254/254 [==============================] - 42s 166ms/step - loss: 1.9117 - accuracy: 0.5377\n",
            "Epoch 222/300\n",
            "254/254 [==============================] - 41s 161ms/step - loss: 1.9163 - accuracy: 0.5360\n",
            "Epoch 223/300\n",
            "254/254 [==============================] - 40s 156ms/step - loss: 1.9230 - accuracy: 0.5344\n",
            "Epoch 224/300\n",
            "254/254 [==============================] - 41s 162ms/step - loss: 1.9121 - accuracy: 0.5379\n",
            "Epoch 225/300\n",
            "254/254 [==============================] - 40s 158ms/step - loss: 1.9073 - accuracy: 0.5377\n",
            "Epoch 226/300\n",
            "254/254 [==============================] - 40s 157ms/step - loss: 1.8831 - accuracy: 0.5455\n",
            "Epoch 227/300\n",
            "254/254 [==============================] - 41s 162ms/step - loss: 1.8768 - accuracy: 0.5467\n",
            "Epoch 228/300\n",
            "254/254 [==============================] - 39s 155ms/step - loss: 1.8655 - accuracy: 0.5490\n",
            "Epoch 229/300\n",
            "254/254 [==============================] - 40s 158ms/step - loss: 1.8596 - accuracy: 0.5513\n",
            "Epoch 230/300\n",
            "254/254 [==============================] - 41s 162ms/step - loss: 1.8865 - accuracy: 0.5456\n",
            "Epoch 231/300\n",
            "254/254 [==============================] - 39s 155ms/step - loss: 1.9160 - accuracy: 0.5386\n",
            "Epoch 232/300\n",
            "254/254 [==============================] - 41s 163ms/step - loss: 1.8761 - accuracy: 0.5452\n",
            "Epoch 233/300\n",
            "254/254 [==============================] - 42s 164ms/step - loss: 1.8478 - accuracy: 0.5540\n",
            "Epoch 234/300\n",
            "254/254 [==============================] - 40s 157ms/step - loss: 1.8377 - accuracy: 0.5566\n",
            "Epoch 235/300\n",
            "254/254 [==============================] - 41s 162ms/step - loss: 1.8350 - accuracy: 0.5548\n",
            "Epoch 236/300\n",
            "254/254 [==============================] - 42s 166ms/step - loss: 1.8302 - accuracy: 0.5571\n",
            "Epoch 237/300\n",
            "254/254 [==============================] - 42s 164ms/step - loss: 1.8237 - accuracy: 0.5584\n",
            "Epoch 238/300\n",
            "254/254 [==============================] - 40s 157ms/step - loss: 1.8409 - accuracy: 0.5538\n",
            "Epoch 239/300\n",
            "254/254 [==============================] - 42s 165ms/step - loss: 1.8426 - accuracy: 0.5533\n",
            "Epoch 240/300\n",
            "254/254 [==============================] - 42s 165ms/step - loss: 1.8275 - accuracy: 0.5552\n",
            "Epoch 241/300\n",
            "254/254 [==============================] - 40s 158ms/step - loss: 1.8179 - accuracy: 0.5601\n",
            "Epoch 242/300\n",
            "254/254 [==============================] - 42s 165ms/step - loss: 1.8142 - accuracy: 0.5604\n",
            "Epoch 243/300\n",
            "254/254 [==============================] - 42s 165ms/step - loss: 1.8221 - accuracy: 0.5572\n",
            "Epoch 244/300\n",
            "254/254 [==============================] - 40s 159ms/step - loss: 1.8165 - accuracy: 0.5579\n",
            "Epoch 245/300\n",
            "254/254 [==============================] - 41s 163ms/step - loss: 1.8023 - accuracy: 0.5606\n",
            "Epoch 246/300\n",
            "254/254 [==============================] - 42s 165ms/step - loss: 1.8035 - accuracy: 0.5617\n",
            "Epoch 247/300\n",
            "254/254 [==============================] - 41s 162ms/step - loss: 1.8015 - accuracy: 0.5613\n",
            "Epoch 248/300\n",
            "254/254 [==============================] - 40s 158ms/step - loss: 1.7840 - accuracy: 0.5673\n",
            "Epoch 249/300\n",
            "254/254 [==============================] - 42s 164ms/step - loss: 1.7786 - accuracy: 0.5675\n",
            "Epoch 250/300\n",
            "254/254 [==============================] - 42s 164ms/step - loss: 1.7903 - accuracy: 0.5644\n",
            "Epoch 251/300\n",
            "254/254 [==============================] - 40s 159ms/step - loss: 1.7791 - accuracy: 0.5691\n",
            "Epoch 252/300\n",
            "254/254 [==============================] - 42s 166ms/step - loss: 1.7597 - accuracy: 0.5707\n",
            "Epoch 253/300\n",
            "254/254 [==============================] - 42s 166ms/step - loss: 1.7772 - accuracy: 0.5672\n",
            "Epoch 254/300\n",
            "254/254 [==============================] - 41s 160ms/step - loss: 1.7750 - accuracy: 0.5675\n",
            "Epoch 255/300\n",
            "254/254 [==============================] - 42s 165ms/step - loss: 1.7565 - accuracy: 0.5731\n",
            "Epoch 256/300\n",
            "254/254 [==============================] - 42s 166ms/step - loss: 1.7552 - accuracy: 0.5734\n",
            "Epoch 257/300\n",
            "254/254 [==============================] - 42s 165ms/step - loss: 1.7432 - accuracy: 0.5751\n",
            "Epoch 258/300\n",
            "254/254 [==============================] - 40s 157ms/step - loss: 1.7834 - accuracy: 0.5630\n",
            "Epoch 259/300\n",
            "254/254 [==============================] - 42s 165ms/step - loss: 1.7563 - accuracy: 0.5727\n",
            "Epoch 260/300\n",
            "254/254 [==============================] - 42s 165ms/step - loss: 1.7308 - accuracy: 0.5765\n",
            "Epoch 261/300\n",
            "254/254 [==============================] - 40s 158ms/step - loss: 1.7418 - accuracy: 0.5747\n",
            "Epoch 262/300\n",
            "254/254 [==============================] - 42s 164ms/step - loss: 1.7393 - accuracy: 0.5757\n",
            "Epoch 263/300\n",
            "254/254 [==============================] - 42s 166ms/step - loss: 1.7273 - accuracy: 0.5785\n",
            "Epoch 264/300\n",
            "254/254 [==============================] - 42s 164ms/step - loss: 1.7281 - accuracy: 0.5766\n",
            "Epoch 265/300\n",
            "254/254 [==============================] - 41s 161ms/step - loss: 1.7158 - accuracy: 0.5816\n",
            "Epoch 266/300\n",
            "254/254 [==============================] - 43s 169ms/step - loss: 1.7064 - accuracy: 0.5838\n",
            "Epoch 267/300\n",
            "254/254 [==============================] - 42s 165ms/step - loss: 1.7021 - accuracy: 0.5852\n",
            "Epoch 268/300\n",
            "254/254 [==============================] - 41s 162ms/step - loss: 1.7002 - accuracy: 0.5836\n",
            "Epoch 269/300\n",
            "254/254 [==============================] - 42s 167ms/step - loss: 1.6870 - accuracy: 0.5888\n",
            "Epoch 270/300\n",
            "254/254 [==============================] - 43s 168ms/step - loss: 1.6966 - accuracy: 0.5855\n",
            "Epoch 271/300\n",
            "254/254 [==============================] - 43s 168ms/step - loss: 1.6896 - accuracy: 0.5856\n",
            "Epoch 272/300\n",
            "254/254 [==============================] - 41s 160ms/step - loss: 1.6918 - accuracy: 0.5862\n",
            "Epoch 273/300\n",
            "254/254 [==============================] - 43s 167ms/step - loss: 1.6798 - accuracy: 0.5888\n",
            "Epoch 274/300\n",
            "254/254 [==============================] - 43s 168ms/step - loss: 1.6740 - accuracy: 0.5898\n",
            "Epoch 275/300\n",
            "254/254 [==============================] - 42s 167ms/step - loss: 1.6740 - accuracy: 0.5919\n",
            "Epoch 276/300\n",
            "254/254 [==============================] - 40s 158ms/step - loss: 1.6779 - accuracy: 0.5887\n",
            "Epoch 277/300\n",
            "254/254 [==============================] - 42s 166ms/step - loss: 1.6782 - accuracy: 0.5884\n",
            "Epoch 278/300\n",
            "254/254 [==============================] - 42s 165ms/step - loss: 1.6789 - accuracy: 0.5880\n",
            "Epoch 279/300\n",
            "254/254 [==============================] - 40s 157ms/step - loss: 1.6789 - accuracy: 0.5885\n",
            "Epoch 280/300\n",
            "254/254 [==============================] - 42s 164ms/step - loss: 1.6629 - accuracy: 0.5922\n",
            "Epoch 281/300\n",
            "254/254 [==============================] - 42s 165ms/step - loss: 1.6473 - accuracy: 0.5969\n",
            "Epoch 282/300\n",
            "254/254 [==============================] - 40s 160ms/step - loss: 1.6613 - accuracy: 0.5920\n",
            "Epoch 283/300\n",
            "254/254 [==============================] - 41s 161ms/step - loss: 1.6545 - accuracy: 0.5953\n",
            "Epoch 284/300\n",
            "254/254 [==============================] - 42s 165ms/step - loss: 1.6535 - accuracy: 0.5959\n",
            "Epoch 285/300\n",
            "254/254 [==============================] - 41s 162ms/step - loss: 1.6432 - accuracy: 0.5968\n",
            "Epoch 286/300\n",
            "254/254 [==============================] - 40s 159ms/step - loss: 1.6304 - accuracy: 0.6000\n",
            "Epoch 287/300\n",
            "254/254 [==============================] - 42s 164ms/step - loss: 1.6435 - accuracy: 0.5972\n",
            "Epoch 288/300\n",
            "254/254 [==============================] - 41s 162ms/step - loss: 1.6274 - accuracy: 0.6007\n",
            "Epoch 289/300\n",
            "254/254 [==============================] - 40s 158ms/step - loss: 1.6141 - accuracy: 0.6050\n",
            "Epoch 290/300\n",
            "254/254 [==============================] - 42s 164ms/step - loss: 1.6236 - accuracy: 0.6018\n",
            "Epoch 291/300\n",
            "254/254 [==============================] - 42s 164ms/step - loss: 1.6336 - accuracy: 0.5979\n",
            "Epoch 292/300\n",
            "254/254 [==============================] - 40s 156ms/step - loss: 1.6257 - accuracy: 0.5993\n",
            "Epoch 293/300\n",
            "254/254 [==============================] - 41s 163ms/step - loss: 1.6175 - accuracy: 0.6021\n",
            "Epoch 294/300\n",
            "254/254 [==============================] - 42s 164ms/step - loss: 1.5942 - accuracy: 0.6092\n",
            "Epoch 295/300\n",
            "254/254 [==============================] - 40s 156ms/step - loss: 1.5819 - accuracy: 0.6125\n",
            "Epoch 296/300\n",
            "254/254 [==============================] - 42s 164ms/step - loss: 1.5936 - accuracy: 0.6089\n",
            "Epoch 297/300\n",
            "254/254 [==============================] - 42s 165ms/step - loss: 1.6059 - accuracy: 0.6055\n",
            "Epoch 298/300\n",
            "254/254 [==============================] - 40s 156ms/step - loss: 1.6009 - accuracy: 0.6087\n",
            "Epoch 299/300\n",
            "254/254 [==============================] - 42s 165ms/step - loss: 1.5907 - accuracy: 0.6085\n",
            "Epoch 300/300\n",
            "254/254 [==============================] - 42s 165ms/step - loss: 1.5925 - accuracy: 0.6079\n"
          ]
        }
      ],
      "source": [
        "# fit model\n",
        "model.fit(X, y, batch_size=256, epochs=300,verbose=1)\n",
        "\n",
        "model.save('/content/sample_data/saga_300epoch.h5')\n",
        "# save the tokenizer\n",
        "dump(tokenizer, open('/content/sample_data/saga_300epoch', 'wb'))"
      ]
    },
    {
      "cell_type": "code",
      "execution_count": 1,
      "metadata": {
        "colab": {
          "base_uri": "https://localhost:8080/",
          "height": 179
        },
        "id": "Yk6RJoR3n1RL",
        "outputId": "3d26010d-6e3c-4450-e1c6-bea6a238df01"
      },
      "outputs": [
        {
          "ename": "NameError",
          "evalue": "ignored",
          "output_type": "error",
          "traceback": [
            "\u001b[0;31m---------------------------------------------------------------------------\u001b[0m",
            "\u001b[0;31mNameError\u001b[0m                                 Traceback (most recent call last)",
            "\u001b[0;32m<ipython-input-1-da3a9f3b9d72>\u001b[0m in \u001b[0;36m<cell line: 1>\u001b[0;34m()\u001b[0m\n\u001b[0;32m----> 1\u001b[0;31m \u001b[0mmodel\u001b[0m\u001b[0;34m.\u001b[0m\u001b[0msummarize\u001b[0m\u001b[0;34m\u001b[0m\u001b[0;34m\u001b[0m\u001b[0m\n\u001b[0m",
            "\u001b[0;31mNameError\u001b[0m: name 'model' is not defined"
          ]
        }
      ],
      "source": [
        "model.summarize"
      ]
    },
    {
      "cell_type": "code",
      "execution_count": null,
      "metadata": {
        "id": "1am6IePQODBa"
      },
      "outputs": [],
      "source": []
    }
  ],
  "metadata": {
    "colab": {
      "provenance": []
    },
    "kernelspec": {
      "display_name": "Python 3",
      "name": "python3"
    },
    "language_info": {
      "codemirror_mode": {
        "name": "ipython",
        "version": 3
      },
      "file_extension": ".py",
      "mimetype": "text/x-python",
      "name": "python",
      "nbconvert_exporter": "python",
      "pygments_lexer": "ipython3",
      "version": "3.11.5"
    }
  },
  "nbformat": 4,
  "nbformat_minor": 0
}
